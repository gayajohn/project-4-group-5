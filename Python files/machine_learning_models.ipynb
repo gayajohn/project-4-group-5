{
 "cells": [
  {
   "cell_type": "markdown",
   "id": "c8a3cd8d",
   "metadata": {},
   "source": [
    "# Machine Learning Models"
   ]
  },
  {
   "cell_type": "markdown",
   "id": "c905a040",
   "metadata": {},
   "source": [
    "### Prepare the Dataset"
   ]
  },
  {
   "cell_type": "code",
   "execution_count": 43,
   "id": "9d593edc",
   "metadata": {},
   "outputs": [],
   "source": [
    "import pandas as pd\n",
    "from matplotlib import pyplot as plt\n",
    "%matplotlib inline\n",
    "import seaborn as sns\n",
    "import matplotlib.ticker as mtick\n",
    "from sklearn.model_selection import train_test_split\n",
    "from sklearn.linear_model import LogisticRegression\n",
    "from sklearn import metrics\n",
    "from sklearn.discriminant_analysis import LinearDiscriminantAnalysis\n",
    "from sklearn.neural_network import MLPClassifier"
   ]
  },
  {
   "cell_type": "code",
   "execution_count": 5,
   "id": "3932b1f1",
   "metadata": {},
   "outputs": [
    {
     "data": {
      "text/html": [
       "<div>\n",
       "<style scoped>\n",
       "    .dataframe tbody tr th:only-of-type {\n",
       "        vertical-align: middle;\n",
       "    }\n",
       "\n",
       "    .dataframe tbody tr th {\n",
       "        vertical-align: top;\n",
       "    }\n",
       "\n",
       "    .dataframe thead th {\n",
       "        text-align: right;\n",
       "    }\n",
       "</style>\n",
       "<table border=\"1\" class=\"dataframe\">\n",
       "  <thead>\n",
       "    <tr style=\"text-align: right;\">\n",
       "      <th></th>\n",
       "      <th>industry</th>\n",
       "      <th>wr1</th>\n",
       "      <th>wr2</th>\n",
       "      <th>wr3</th>\n",
       "      <th>wr4</th>\n",
       "      <th>vol1</th>\n",
       "      <th>vol2</th>\n",
       "      <th>vol3</th>\n",
       "      <th>vol4</th>\n",
       "      <th>pe_ratio</th>\n",
       "      <th>...</th>\n",
       "      <th>profit_margin</th>\n",
       "      <th>free_cash_margin</th>\n",
       "      <th>volatility</th>\n",
       "      <th>cpi</th>\n",
       "      <th>interest_rate</th>\n",
       "      <th>unemployment_rate</th>\n",
       "      <th>sma</th>\n",
       "      <th>rsi</th>\n",
       "      <th>ema</th>\n",
       "      <th>label</th>\n",
       "    </tr>\n",
       "  </thead>\n",
       "  <tbody>\n",
       "    <tr>\n",
       "      <th>0</th>\n",
       "      <td>Telecommunications</td>\n",
       "      <td>0.002188</td>\n",
       "      <td>0.006114</td>\n",
       "      <td>-0.040141</td>\n",
       "      <td>0.012598</td>\n",
       "      <td>1276900</td>\n",
       "      <td>842100</td>\n",
       "      <td>789000</td>\n",
       "      <td>548700</td>\n",
       "      <td>18.28</td>\n",
       "      <td>...</td>\n",
       "      <td>14.25</td>\n",
       "      <td>17.41</td>\n",
       "      <td>0.014656</td>\n",
       "      <td>238.316</td>\n",
       "      <td>0.14</td>\n",
       "      <td>5.1</td>\n",
       "      <td>41.223333</td>\n",
       "      <td>52.549020</td>\n",
       "      <td>41.219167</td>\n",
       "      <td>1</td>\n",
       "    </tr>\n",
       "    <tr>\n",
       "      <th>1</th>\n",
       "      <td>Industrials</td>\n",
       "      <td>0.013942</td>\n",
       "      <td>0.047859</td>\n",
       "      <td>0.005063</td>\n",
       "      <td>0.026507</td>\n",
       "      <td>1245000</td>\n",
       "      <td>1211900</td>\n",
       "      <td>1719800</td>\n",
       "      <td>3425800</td>\n",
       "      <td>20.57</td>\n",
       "      <td>...</td>\n",
       "      <td>-0.20</td>\n",
       "      <td>8.58</td>\n",
       "      <td>0.032956</td>\n",
       "      <td>238.132</td>\n",
       "      <td>0.37</td>\n",
       "      <td>5.0</td>\n",
       "      <td>21.120000</td>\n",
       "      <td>63.988920</td>\n",
       "      <td>21.101250</td>\n",
       "      <td>1</td>\n",
       "    </tr>\n",
       "    <tr>\n",
       "      <th>2</th>\n",
       "      <td>Health Care</td>\n",
       "      <td>0.016250</td>\n",
       "      <td>0.005998</td>\n",
       "      <td>0.028423</td>\n",
       "      <td>0.012739</td>\n",
       "      <td>6797433</td>\n",
       "      <td>7929273</td>\n",
       "      <td>6134049</td>\n",
       "      <td>6464902</td>\n",
       "      <td>18.63</td>\n",
       "      <td>...</td>\n",
       "      <td>32.10</td>\n",
       "      <td>29.94</td>\n",
       "      <td>0.016120</td>\n",
       "      <td>260.280</td>\n",
       "      <td>0.09</td>\n",
       "      <td>7.9</td>\n",
       "      <td>81.567800</td>\n",
       "      <td>76.538956</td>\n",
       "      <td>81.946021</td>\n",
       "      <td>0</td>\n",
       "    </tr>\n",
       "    <tr>\n",
       "      <th>3</th>\n",
       "      <td>Real Estate</td>\n",
       "      <td>0.025663</td>\n",
       "      <td>0.010003</td>\n",
       "      <td>0.008694</td>\n",
       "      <td>0.029060</td>\n",
       "      <td>330000</td>\n",
       "      <td>383300</td>\n",
       "      <td>634200</td>\n",
       "      <td>393200</td>\n",
       "      <td>84.94</td>\n",
       "      <td>...</td>\n",
       "      <td>9.46</td>\n",
       "      <td>-42.85</td>\n",
       "      <td>0.016492</td>\n",
       "      <td>258.678</td>\n",
       "      <td>1.58</td>\n",
       "      <td>3.5</td>\n",
       "      <td>163.310000</td>\n",
       "      <td>85.086551</td>\n",
       "      <td>163.399583</td>\n",
       "      <td>1</td>\n",
       "    </tr>\n",
       "    <tr>\n",
       "      <th>4</th>\n",
       "      <td>Industrials</td>\n",
       "      <td>0.067447</td>\n",
       "      <td>-0.050203</td>\n",
       "      <td>0.049677</td>\n",
       "      <td>-0.010322</td>\n",
       "      <td>1888300</td>\n",
       "      <td>1093800</td>\n",
       "      <td>1122400</td>\n",
       "      <td>1217600</td>\n",
       "      <td>-13.71</td>\n",
       "      <td>...</td>\n",
       "      <td>10.82</td>\n",
       "      <td>22.32</td>\n",
       "      <td>0.026272</td>\n",
       "      <td>260.474</td>\n",
       "      <td>0.09</td>\n",
       "      <td>6.7</td>\n",
       "      <td>77.210000</td>\n",
       "      <td>93.447738</td>\n",
       "      <td>76.892083</td>\n",
       "      <td>0</td>\n",
       "    </tr>\n",
       "  </tbody>\n",
       "</table>\n",
       "<p>5 rows × 23 columns</p>\n",
       "</div>"
      ],
      "text/plain": [
       "             industry       wr1       wr2       wr3       wr4     vol1  \\\n",
       "0  Telecommunications  0.002188  0.006114 -0.040141  0.012598  1276900   \n",
       "1         Industrials  0.013942  0.047859  0.005063  0.026507  1245000   \n",
       "2         Health Care  0.016250  0.005998  0.028423  0.012739  6797433   \n",
       "3         Real Estate  0.025663  0.010003  0.008694  0.029060   330000   \n",
       "4         Industrials  0.067447 -0.050203  0.049677 -0.010322  1888300   \n",
       "\n",
       "      vol2     vol3     vol4  pe_ratio  ...  profit_margin  free_cash_margin  \\\n",
       "0   842100   789000   548700     18.28  ...          14.25             17.41   \n",
       "1  1211900  1719800  3425800     20.57  ...          -0.20              8.58   \n",
       "2  7929273  6134049  6464902     18.63  ...          32.10             29.94   \n",
       "3   383300   634200   393200     84.94  ...           9.46            -42.85   \n",
       "4  1093800  1122400  1217600    -13.71  ...          10.82             22.32   \n",
       "\n",
       "   volatility      cpi  interest_rate  unemployment_rate         sma  \\\n",
       "0    0.014656  238.316           0.14                5.1   41.223333   \n",
       "1    0.032956  238.132           0.37                5.0   21.120000   \n",
       "2    0.016120  260.280           0.09                7.9   81.567800   \n",
       "3    0.016492  258.678           1.58                3.5  163.310000   \n",
       "4    0.026272  260.474           0.09                6.7   77.210000   \n",
       "\n",
       "         rsi         ema  label  \n",
       "0  52.549020   41.219167      1  \n",
       "1  63.988920   21.101250      1  \n",
       "2  76.538956   81.946021      0  \n",
       "3  85.086551  163.399583      1  \n",
       "4  93.447738   76.892083      0  \n",
       "\n",
       "[5 rows x 23 columns]"
      ]
     },
     "execution_count": 5,
     "metadata": {},
     "output_type": "execute_result"
    }
   ],
   "source": [
    "df = pd.read_csv('../DB csv files-JB/data_JB11.csv')\n",
    "df.head()"
   ]
  },
  {
   "cell_type": "code",
   "execution_count": 9,
   "id": "2f6d2be6",
   "metadata": {},
   "outputs": [
    {
     "data": {
      "text/plain": [
       "<matplotlib.collections.PathCollection at 0x25521a5d950>"
      ]
     },
     "execution_count": 9,
     "metadata": {},
     "output_type": "execute_result"
    },
    {
     "data": {
      "image/png": "[encoded data removed]",
      "text/plain": [
       "<Figure size 640x480 with 1 Axes>"
      ]
     },
     "metadata": {},
     "output_type": "display_data"
    }
   ],
   "source": [
    "plt.scatter(df.unemployment_rate, df.label, marker='+', color='red')"
   ]
  },
  {
   "cell_type": "code",
   "execution_count": 13,
   "id": "894dbcee",
   "metadata": {},
   "outputs": [],
   "source": [
    "X_train, X_test, y_train, y_test = train_test_split(df[['unemployment_rate']], df.label, test_size=0.2, random_state = 1234)"
   ]
  },
  {
   "cell_type": "code",
   "execution_count": 14,
   "id": "89b8ba0f",
   "metadata": {},
   "outputs": [
    {
     "data": {
      "text/html": [
       "<div>\n",
       "<style scoped>\n",
       "    .dataframe tbody tr th:only-of-type {\n",
       "        vertical-align: middle;\n",
       "    }\n",
       "\n",
       "    .dataframe tbody tr th {\n",
       "        vertical-align: top;\n",
       "    }\n",
       "\n",
       "    .dataframe thead th {\n",
       "        text-align: right;\n",
       "    }\n",
       "</style>\n",
       "<table border=\"1\" class=\"dataframe\">\n",
       "  <thead>\n",
       "    <tr style=\"text-align: right;\">\n",
       "      <th></th>\n",
       "      <th>unemployment_rate</th>\n",
       "    </tr>\n",
       "  </thead>\n",
       "  <tbody>\n",
       "    <tr>\n",
       "      <th>21</th>\n",
       "      <td>3.9</td>\n",
       "    </tr>\n",
       "    <tr>\n",
       "      <th>31</th>\n",
       "      <td>4.4</td>\n",
       "    </tr>\n",
       "    <tr>\n",
       "      <th>32</th>\n",
       "      <td>5.9</td>\n",
       "    </tr>\n",
       "    <tr>\n",
       "      <th>8</th>\n",
       "      <td>6.9</td>\n",
       "    </tr>\n",
       "    <tr>\n",
       "      <th>6</th>\n",
       "      <td>14.7</td>\n",
       "    </tr>\n",
       "    <tr>\n",
       "      <th>22</th>\n",
       "      <td>4.6</td>\n",
       "    </tr>\n",
       "    <tr>\n",
       "      <th>18</th>\n",
       "      <td>3.6</td>\n",
       "    </tr>\n",
       "    <tr>\n",
       "      <th>20</th>\n",
       "      <td>4.8</td>\n",
       "    </tr>\n",
       "    <tr>\n",
       "      <th>55</th>\n",
       "      <td>3.5</td>\n",
       "    </tr>\n",
       "    <tr>\n",
       "      <th>42</th>\n",
       "      <td>6.7</td>\n",
       "    </tr>\n",
       "    <tr>\n",
       "      <th>33</th>\n",
       "      <td>4.7</td>\n",
       "    </tr>\n",
       "    <tr>\n",
       "      <th>45</th>\n",
       "      <td>7.9</td>\n",
       "    </tr>\n",
       "    <tr>\n",
       "      <th>62</th>\n",
       "      <td>6.2</td>\n",
       "    </tr>\n",
       "  </tbody>\n",
       "</table>\n",
       "</div>"
      ],
      "text/plain": [
       "    unemployment_rate\n",
       "21                3.9\n",
       "31                4.4\n",
       "32                5.9\n",
       "8                 6.9\n",
       "6                14.7\n",
       "22                4.6\n",
       "18                3.6\n",
       "20                4.8\n",
       "55                3.5\n",
       "42                6.7\n",
       "33                4.7\n",
       "45                7.9\n",
       "62                6.2"
      ]
     },
     "execution_count": 14,
     "metadata": {},
     "output_type": "execute_result"
    }
   ],
   "source": [
    "X_test"
   ]
  },
  {
   "cell_type": "code",
   "execution_count": 15,
   "id": "1bbf693c",
   "metadata": {},
   "outputs": [
    {
     "data": {
      "text/html": [
       "<div>\n",
       "<style scoped>\n",
       "    .dataframe tbody tr th:only-of-type {\n",
       "        vertical-align: middle;\n",
       "    }\n",
       "\n",
       "    .dataframe tbody tr th {\n",
       "        vertical-align: top;\n",
       "    }\n",
       "\n",
       "    .dataframe thead th {\n",
       "        text-align: right;\n",
       "    }\n",
       "</style>\n",
       "<table border=\"1\" class=\"dataframe\">\n",
       "  <thead>\n",
       "    <tr style=\"text-align: right;\">\n",
       "      <th></th>\n",
       "      <th>unemployment_rate</th>\n",
       "    </tr>\n",
       "  </thead>\n",
       "  <tbody>\n",
       "    <tr>\n",
       "      <th>29</th>\n",
       "      <td>14.7</td>\n",
       "    </tr>\n",
       "    <tr>\n",
       "      <th>35</th>\n",
       "      <td>3.7</td>\n",
       "    </tr>\n",
       "    <tr>\n",
       "      <th>4</th>\n",
       "      <td>6.7</td>\n",
       "    </tr>\n",
       "    <tr>\n",
       "      <th>13</th>\n",
       "      <td>3.5</td>\n",
       "    </tr>\n",
       "    <tr>\n",
       "      <th>56</th>\n",
       "      <td>3.7</td>\n",
       "    </tr>\n",
       "    <tr>\n",
       "      <th>59</th>\n",
       "      <td>3.5</td>\n",
       "    </tr>\n",
       "    <tr>\n",
       "      <th>25</th>\n",
       "      <td>6.1</td>\n",
       "    </tr>\n",
       "    <tr>\n",
       "      <th>10</th>\n",
       "      <td>3.5</td>\n",
       "    </tr>\n",
       "    <tr>\n",
       "      <th>7</th>\n",
       "      <td>5.2</td>\n",
       "    </tr>\n",
       "    <tr>\n",
       "      <th>46</th>\n",
       "      <td>3.7</td>\n",
       "    </tr>\n",
       "    <tr>\n",
       "      <th>14</th>\n",
       "      <td>6.7</td>\n",
       "    </tr>\n",
       "    <tr>\n",
       "      <th>17</th>\n",
       "      <td>4.4</td>\n",
       "    </tr>\n",
       "    <tr>\n",
       "      <th>27</th>\n",
       "      <td>5.5</td>\n",
       "    </tr>\n",
       "    <tr>\n",
       "      <th>48</th>\n",
       "      <td>5.0</td>\n",
       "    </tr>\n",
       "    <tr>\n",
       "      <th>39</th>\n",
       "      <td>5.0</td>\n",
       "    </tr>\n",
       "    <tr>\n",
       "      <th>1</th>\n",
       "      <td>5.0</td>\n",
       "    </tr>\n",
       "    <tr>\n",
       "      <th>57</th>\n",
       "      <td>5.5</td>\n",
       "    </tr>\n",
       "    <tr>\n",
       "      <th>61</th>\n",
       "      <td>3.8</td>\n",
       "    </tr>\n",
       "    <tr>\n",
       "      <th>2</th>\n",
       "      <td>7.9</td>\n",
       "    </tr>\n",
       "    <tr>\n",
       "      <th>40</th>\n",
       "      <td>4.1</td>\n",
       "    </tr>\n",
       "    <tr>\n",
       "      <th>54</th>\n",
       "      <td>4.4</td>\n",
       "    </tr>\n",
       "    <tr>\n",
       "      <th>36</th>\n",
       "      <td>3.6</td>\n",
       "    </tr>\n",
       "    <tr>\n",
       "      <th>0</th>\n",
       "      <td>5.1</td>\n",
       "    </tr>\n",
       "    <tr>\n",
       "      <th>11</th>\n",
       "      <td>3.8</td>\n",
       "    </tr>\n",
       "    <tr>\n",
       "      <th>3</th>\n",
       "      <td>3.5</td>\n",
       "    </tr>\n",
       "    <tr>\n",
       "      <th>60</th>\n",
       "      <td>5.4</td>\n",
       "    </tr>\n",
       "    <tr>\n",
       "      <th>34</th>\n",
       "      <td>6.2</td>\n",
       "    </tr>\n",
       "    <tr>\n",
       "      <th>37</th>\n",
       "      <td>6.1</td>\n",
       "    </tr>\n",
       "    <tr>\n",
       "      <th>58</th>\n",
       "      <td>5.0</td>\n",
       "    </tr>\n",
       "    <tr>\n",
       "      <th>9</th>\n",
       "      <td>3.6</td>\n",
       "    </tr>\n",
       "    <tr>\n",
       "      <th>16</th>\n",
       "      <td>3.7</td>\n",
       "    </tr>\n",
       "    <tr>\n",
       "      <th>5</th>\n",
       "      <td>6.7</td>\n",
       "    </tr>\n",
       "    <tr>\n",
       "      <th>28</th>\n",
       "      <td>4.7</td>\n",
       "    </tr>\n",
       "    <tr>\n",
       "      <th>51</th>\n",
       "      <td>3.8</td>\n",
       "    </tr>\n",
       "    <tr>\n",
       "      <th>44</th>\n",
       "      <td>4.9</td>\n",
       "    </tr>\n",
       "    <tr>\n",
       "      <th>50</th>\n",
       "      <td>3.8</td>\n",
       "    </tr>\n",
       "    <tr>\n",
       "      <th>43</th>\n",
       "      <td>3.8</td>\n",
       "    </tr>\n",
       "    <tr>\n",
       "      <th>30</th>\n",
       "      <td>3.7</td>\n",
       "    </tr>\n",
       "    <tr>\n",
       "      <th>26</th>\n",
       "      <td>4.4</td>\n",
       "    </tr>\n",
       "    <tr>\n",
       "      <th>41</th>\n",
       "      <td>4.2</td>\n",
       "    </tr>\n",
       "    <tr>\n",
       "      <th>23</th>\n",
       "      <td>4.3</td>\n",
       "    </tr>\n",
       "    <tr>\n",
       "      <th>49</th>\n",
       "      <td>6.7</td>\n",
       "    </tr>\n",
       "    <tr>\n",
       "      <th>15</th>\n",
       "      <td>5.1</td>\n",
       "    </tr>\n",
       "    <tr>\n",
       "      <th>24</th>\n",
       "      <td>5.1</td>\n",
       "    </tr>\n",
       "    <tr>\n",
       "      <th>52</th>\n",
       "      <td>3.8</td>\n",
       "    </tr>\n",
       "    <tr>\n",
       "      <th>12</th>\n",
       "      <td>4.0</td>\n",
       "    </tr>\n",
       "    <tr>\n",
       "      <th>53</th>\n",
       "      <td>5.2</td>\n",
       "    </tr>\n",
       "    <tr>\n",
       "      <th>38</th>\n",
       "      <td>3.5</td>\n",
       "    </tr>\n",
       "    <tr>\n",
       "      <th>19</th>\n",
       "      <td>7.9</td>\n",
       "    </tr>\n",
       "    <tr>\n",
       "      <th>47</th>\n",
       "      <td>4.2</td>\n",
       "    </tr>\n",
       "  </tbody>\n",
       "</table>\n",
       "</div>"
      ],
      "text/plain": [
       "    unemployment_rate\n",
       "29               14.7\n",
       "35                3.7\n",
       "4                 6.7\n",
       "13                3.5\n",
       "56                3.7\n",
       "59                3.5\n",
       "25                6.1\n",
       "10                3.5\n",
       "7                 5.2\n",
       "46                3.7\n",
       "14                6.7\n",
       "17                4.4\n",
       "27                5.5\n",
       "48                5.0\n",
       "39                5.0\n",
       "1                 5.0\n",
       "57                5.5\n",
       "61                3.8\n",
       "2                 7.9\n",
       "40                4.1\n",
       "54                4.4\n",
       "36                3.6\n",
       "0                 5.1\n",
       "11                3.8\n",
       "3                 3.5\n",
       "60                5.4\n",
       "34                6.2\n",
       "37                6.1\n",
       "58                5.0\n",
       "9                 3.6\n",
       "16                3.7\n",
       "5                 6.7\n",
       "28                4.7\n",
       "51                3.8\n",
       "44                4.9\n",
       "50                3.8\n",
       "43                3.8\n",
       "30                3.7\n",
       "26                4.4\n",
       "41                4.2\n",
       "23                4.3\n",
       "49                6.7\n",
       "15                5.1\n",
       "24                5.1\n",
       "52                3.8\n",
       "12                4.0\n",
       "53                5.2\n",
       "38                3.5\n",
       "19                7.9\n",
       "47                4.2"
      ]
     },
     "execution_count": 15,
     "metadata": {},
     "output_type": "execute_result"
    }
   ],
   "source": [
    "X_train"
   ]
  },
  {
   "cell_type": "markdown",
   "id": "6fec2daf",
   "metadata": {},
   "source": [
    "## Fit Models\n",
    "Now we will test a range of models. In each we will fit the model in the train data, make predictons for the test data and obtain the accuracy. In later steps we will compare the accuracy of all the models. We will use primarily the library ```sklearn```"
   ]
  },
  {
   "cell_type": "markdown",
   "id": "1f032120",
   "metadata": {},
   "source": [
    "### Logistics Regression"
   ]
  },
  {
   "cell_type": "code",
   "execution_count": 18,
   "id": "f00a4996",
   "metadata": {},
   "outputs": [],
   "source": [
    "model = LogisticRegression()"
   ]
  },
  {
   "cell_type": "code",
   "execution_count": 19,
   "id": "1015b55d",
   "metadata": {},
   "outputs": [
    {
     "data": {
      "text/html": [
       "<style>#sk-container-id-1 {color: black;}#sk-container-id-1 pre{padding: 0;}#sk-container-id-1 div.sk-toggleable {background-color: white;}#sk-container-id-1 label.sk-toggleable__label {cursor: pointer;display: block;width: 100%;margin-bottom: 0;padding: 0.3em;box-sizing: border-box;text-align: center;}#sk-container-id-1 label.sk-toggleable__label-arrow:before {content: \"▸\";float: left;margin-right: 0.25em;color: #696969;}#sk-container-id-1 label.sk-toggleable__label-arrow:hover:before {color: black;}#sk-container-id-1 div.sk-estimator:hover label.sk-toggleable__label-arrow:before {color: black;}#sk-container-id-1 div.sk-toggleable__content {max-height: 0;max-width: 0;overflow: hidden;text-align: left;background-color: #f0f8ff;}#sk-container-id-1 div.sk-toggleable__content pre {margin: 0.2em;color: black;border-radius: 0.25em;background-color: #f0f8ff;}#sk-container-id-1 input.sk-toggleable__control:checked~div.sk-toggleable__content {max-height: 200px;max-width: 100%;overflow: auto;}#sk-container-id-1 input.sk-toggleable__control:checked~label.sk-toggleable__label-arrow:before {content: \"▾\";}#sk-container-id-1 div.sk-estimator input.sk-toggleable__control:checked~label.sk-toggleable__label {background-color: #d4ebff;}#sk-container-id-1 div.sk-label input.sk-toggleable__control:checked~label.sk-toggleable__label {background-color: #d4ebff;}#sk-container-id-1 input.sk-hidden--visually {border: 0;clip: rect(1px 1px 1px 1px);clip: rect(1px, 1px, 1px, 1px);height: 1px;margin: -1px;overflow: hidden;padding: 0;position: absolute;width: 1px;}#sk-container-id-1 div.sk-estimator {font-family: monospace;background-color: #f0f8ff;border: 1px dotted black;border-radius: 0.25em;box-sizing: border-box;margin-bottom: 0.5em;}#sk-container-id-1 div.sk-estimator:hover {background-color: #d4ebff;}#sk-container-id-1 div.sk-parallel-item::after {content: \"\";width: 100%;border-bottom: 1px solid gray;flex-grow: 1;}#sk-container-id-1 div.sk-label:hover label.sk-toggleable__label {background-color: #d4ebff;}#sk-container-id-1 div.sk-serial::before {content: \"\";position: absolute;border-left: 1px solid gray;box-sizing: border-box;top: 0;bottom: 0;left: 50%;z-index: 0;}#sk-container-id-1 div.sk-serial {display: flex;flex-direction: column;align-items: center;background-color: white;padding-right: 0.2em;padding-left: 0.2em;position: relative;}#sk-container-id-1 div.sk-item {position: relative;z-index: 1;}#sk-container-id-1 div.sk-parallel {display: flex;align-items: stretch;justify-content: center;background-color: white;position: relative;}#sk-container-id-1 div.sk-item::before, #sk-container-id-1 div.sk-parallel-item::before {content: \"\";position: absolute;border-left: 1px solid gray;box-sizing: border-box;top: 0;bottom: 0;left: 50%;z-index: -1;}#sk-container-id-1 div.sk-parallel-item {display: flex;flex-direction: column;z-index: 1;position: relative;background-color: white;}#sk-container-id-1 div.sk-parallel-item:first-child::after {align-self: flex-end;width: 50%;}#sk-container-id-1 div.sk-parallel-item:last-child::after {align-self: flex-start;width: 50%;}#sk-container-id-1 div.sk-parallel-item:only-child::after {width: 0;}#sk-container-id-1 div.sk-dashed-wrapped {border: 1px dashed gray;margin: 0 0.4em 0.5em 0.4em;box-sizing: border-box;padding-bottom: 0.4em;background-color: white;}#sk-container-id-1 div.sk-label label {font-family: monospace;font-weight: bold;display: inline-block;line-height: 1.2em;}#sk-container-id-1 div.sk-label-container {text-align: center;}#sk-container-id-1 div.sk-container {/* jupyter's `normalize.less` sets `[hidden] { display: none; }` but bootstrap.min.css set `[hidden] { display: none !important; }` so we also need the `!important` here to be able to override the default hidden behavior on the sphinx rendered scikit-learn.org. See: https://github.com/scikit-learn/scikit-learn/issues/21755 */display: inline-block !important;position: relative;}#sk-container-id-1 div.sk-text-repr-fallback {display: none;}</style><div id=\"sk-container-id-1\" class=\"sk-top-container\"><div class=\"sk-text-repr-fallback\"><pre>LogisticRegression()</pre><b>In a Jupyter environment, please rerun this cell to show the HTML representation or trust the notebook. <br />On GitHub, the HTML representation is unable to render, please try loading this page with nbviewer.org.</b></div><div class=\"sk-container\" hidden><div class=\"sk-item\"><div class=\"sk-estimator sk-toggleable\"><input class=\"sk-toggleable__control sk-hidden--visually\" id=\"sk-estimator-id-1\" type=\"checkbox\" checked><label for=\"sk-estimator-id-1\" class=\"sk-toggleable__label sk-toggleable__label-arrow\">LogisticRegression</label><div class=\"sk-toggleable__content\"><pre>LogisticRegression()</pre></div></div></div></div></div>"
      ],
      "text/plain": [
       "LogisticRegression()"
      ]
     },
     "execution_count": 19,
     "metadata": {},
     "output_type": "execute_result"
    }
   ],
   "source": [
    "model.fit(X_train, y_train)"
   ]
  },
  {
   "cell_type": "code",
   "execution_count": 20,
   "id": "d0dd0f92",
   "metadata": {},
   "outputs": [
    {
     "data": {
      "text/plain": [
       "array([1, 1, 0, 0, 0, 1, 1, 1, 1, 0, 1, 0, 0], dtype=int64)"
      ]
     },
     "execution_count": 20,
     "metadata": {},
     "output_type": "execute_result"
    }
   ],
   "source": [
    "model.predict(X_test)"
   ]
  },
  {
   "cell_type": "code",
   "execution_count": 22,
   "id": "4015536c",
   "metadata": {},
   "outputs": [
    {
     "data": {
      "text/plain": [
       "0.46153846153846156"
      ]
     },
     "execution_count": 22,
     "metadata": {},
     "output_type": "execute_result"
    }
   ],
   "source": [
    "model.score(X_test, y_test)"
   ]
  },
  {
   "cell_type": "code",
   "execution_count": null,
   "id": "bb7018d7",
   "metadata": {},
   "outputs": [],
   "source": [
    "model.predict_proba(X_test)"
   ]
  },
  {
   "cell_type": "code",
   "execution_count": 28,
   "id": "2a8bcc99",
   "metadata": {},
   "outputs": [
    {
     "name": "stdout",
     "output_type": "stream",
     "text": [
      "LR Accuracy: 0.46153846153846156\n"
     ]
    }
   ],
   "source": [
    "LR_model = LogisticRegression(random_state=1234 , multi_class='multinomial', solver='newton-cg')\n",
    "LR_model = LR_model.fit(X_train, y_train)\n",
    "y_pred_LR = LR_model.predict(X_test)\n",
    "Accuracy_LR = metrics.accuracy_score(y_test, y_pred_LR)\n",
    "print(\"LR Accuracy:\",Accuracy_LR)"
   ]
  },
  {
   "cell_type": "markdown",
   "id": "dce811b4",
   "metadata": {},
   "source": [
    "### Linear Discrimant Analysis"
   ]
  },
  {
   "cell_type": "code",
   "execution_count": 33,
   "id": "4fae80e5",
   "metadata": {},
   "outputs": [
    {
     "name": "stdout",
     "output_type": "stream",
     "text": [
      "LDA Accuracy: 0.46153846153846156\n"
     ]
    }
   ],
   "source": [
    "LDA_model = LinearDiscriminantAnalysis()\n",
    "LDA_model.fit(X_train,y_train)\n",
    "y_pred_LDA = LDA_model.predict(X_test)\n",
    "Accuracy_LDA = metrics.accuracy_score(y_test, y_pred_LDA)\n",
    "print(\"LDA Accuracy:\",Accuracy_LDA)"
   ]
  },
  {
   "cell_type": "markdown",
   "id": "9c48cf2c",
   "metadata": {},
   "source": [
    "### Neural Network"
   ]
  },
  {
   "cell_type": "code",
   "execution_count": 36,
   "id": "1b62bcb4",
   "metadata": {},
   "outputs": [
    {
     "name": "stdout",
     "output_type": "stream",
     "text": [
      "MLP Accuracy: 0.6153846153846154\n"
     ]
    }
   ],
   "source": [
    "MLP_model = MLPClassifier(hidden_layer_sizes=(5,5,5), activation='logistic', solver='adam', max_iter=1500)\n",
    "MLP_model.fit(X_train, y_train)\n",
    "y_pred_MLP = MLP_model.predict(X_test)\n",
    "Accuracy_MLP = metrics.accuracy_score(y_test, y_pred_MLP)\n",
    "print(\"MLP Accuracy:\",Accuracy_MLP)"
   ]
  },
  {
   "cell_type": "markdown",
   "id": "6732f7d9",
   "metadata": {},
   "source": [
    "## Compare Results"
   ]
  },
  {
   "cell_type": "code",
   "execution_count": 39,
   "id": "667cb8b5",
   "metadata": {},
   "outputs": [],
   "source": [
    "accuracy_list = [Accuracy_LR, Accuracy_LDA, Accuracy_MLP]\n",
    "\n",
    "model_list = ['Logistic Regression', 'Linear Discriminat','Neural Network']\n",
    "\n",
    "df_accuracy = pd.DataFrame({'Model': model_list, 'Accuracy': accuracy_list})"
   ]
  },
  {
   "cell_type": "code",
   "execution_count": 45,
   "id": "0d32cd02",
   "metadata": {},
   "outputs": [
    {
     "data": {
      "image/png": "[encoded data removed]",
      "text/plain": [
       "<Figure size 1200x800 with 1 Axes>"
      ]
     },
     "metadata": {},
     "output_type": "display_data"
    }
   ],
   "source": [
    "order = list(df_accuracy.sort_values('Accuracy', ascending=False).Model)\n",
    "df_accuracy = df_accuracy.sort_values('Accuracy', ascending=False).reset_index().drop(['index'], axis=1)\n",
    "\n",
    "plt.figure(figsize=(12,8))\n",
    "# make barplot and sort bars\n",
    "x = sns.barplot(x='Model', y=\"Accuracy\", data=df_accuracy, order = order, palette=\"rocket\")\n",
    "plt.xlabel(\"Model\", fontsize=20)\n",
    "plt.ylabel(\"Accuracy\", fontsize=20)\n",
    "plt.title(\"Accuracy by Model\", fontsize=20)\n",
    "plt.grid(linestyle='-', linewidth='0.5', color='grey')\n",
    "plt.xticks(rotation=70, fontsize=12)\n",
    "plt.ylim(0,1)\n",
    "plt.gca().yaxis.set_major_formatter(mtick.PercentFormatter(1))\n",
    "\n",
    "for i in range(len(model_list)):\n",
    "    plt.text(x = i, y = df_accuracy.loc[i, 'Accuracy'] + 0.05, s = str(round((df_accuracy.loc[i, 'Accuracy'])*100, 2))+'%', \n",
    "             fontsize = 14, color='black',horizontalalignment='center')\n",
    "\n",
    "#y_value=['{:,.2f}'.format(x) + '%' for x in ax.get_yticks()]\n",
    "#ax.set_yticklabels(y_value)\n",
    "\n",
    "plt.tight_layout()"
   ]
  },
  {
   "cell_type": "code",
   "execution_count": null,
   "id": "32c550f8",
   "metadata": {},
   "outputs": [],
   "source": []
  }
 ],
 "metadata": {
  "kernelspec": {
   "display_name": "Python 3 (ipykernel)",
   "language": "python",
   "name": "python3"
  },
  "language_info": {
   "codemirror_mode": {
    "name": "ipython",
    "version": 3
   },
   "file_extension": ".py",
   "mimetype": "text/x-python",
   "name": "python",
   "nbconvert_exporter": "python",
   "pygments_lexer": "ipython3",
   "version": "3.11.4"
  }
 },
 "nbformat": 4,
 "nbformat_minor": 5
}
