{
 "cells": [
  {
   "cell_type": "code",
   "execution_count": null,
   "id": "1f956d70",
   "metadata": {},
   "outputs": [],
   "source": [
    "# importing pandas \n",
    "import pandas as pd \n",
    "  \n",
    "# merging two csv files \n",
    "df = pd.concat( \n",
    "    map(pd.read_csv, ['mydata.csv', 'mydata1.csv']), ignore_index=True) \n",
    "print(df) "
   ]
  },
  {
   "cell_type": "code",
   "execution_count": null,
   "id": "ed11819d",
   "metadata": {},
   "outputs": [],
   "source": []
  },
  {
   "cell_type": "code",
   "execution_count": null,
   "id": "fbc53e9c",
   "metadata": {},
   "outputs": [],
   "source": []
  }
 ],
 "metadata": {
  "kernelspec": {
   "display_name": "Python 3 (ipykernel)",
   "language": "python",
   "name": "python3"
  },
  "language_info": {
   "codemirror_mode": {
    "name": "ipython",
    "version": 3
   },
   "file_extension": ".py",
   "mimetype": "text/x-python",
   "name": "python",
   "nbconvert_exporter": "python",
   "pygments_lexer": "ipython3",
   "version": "3.10.11"
  }
 },
 "nbformat": 4,
 "nbformat_minor": 5
}
