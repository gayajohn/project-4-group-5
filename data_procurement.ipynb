{
 "cells": [
  {
   "cell_type": "code",
   "execution_count": 77,
   "id": "896fa4a5",
   "metadata": {},
   "outputs": [],
   "source": [
    "# import dependancies\n",
    "import pandas as pd\n",
    "import random\n",
    "from datetime import datetime, timedelta\n",
    "from yahoo_fin.stock_info import *\n",
    "import yfinance as yf\n",
    "import time\n",
    "from selenium import webdriver\n",
    "from bs4 import BeautifulSoup\n",
    "from splinter import Browser\n",
    "from pprint import pprint\n",
    "import finnhub\n",
    "from selenium.webdriver.common.by import By\n",
    "from selenium.webdriver.support.ui import WebDriverWait\n",
    "from selenium.webdriver.support import expected_conditions as EC\n",
    "from selenium.webdriver.chrome.options import Options\n",
    "\n",
    "# change to your api keys \n",
    "\n",
    "#alphavantage_api_key = 'AJP4EKR4LE52NNK4'\n",
    "alphavantage_api_key = 'CORYDT1RMNVL3DVT'\n",
    "polygon_api_key = 'J9UUfkyTylf3D_s76b5pcMCnLSaKTNpD'\n",
    "finnhub_client = finnhub.Client(api_key=\"cld35g9r01qn959jif1gcld35g9r01qn959jif20\")\n"
   ]
  },
  {
   "cell_type": "markdown",
   "id": "4af3f812",
   "metadata": {},
   "source": [
    "### Screening US Mega & Large Cap Stocks"
   ]
  },
  {
   "cell_type": "code",
   "execution_count": 78,
   "id": "2655c450",
   "metadata": {},
   "outputs": [
    {
     "data": {
      "text/html": [
       "<div>\n",
       "<style scoped>\n",
       "    .dataframe tbody tr th:only-of-type {\n",
       "        vertical-align: middle;\n",
       "    }\n",
       "\n",
       "    .dataframe tbody tr th {\n",
       "        vertical-align: top;\n",
       "    }\n",
       "\n",
       "    .dataframe thead th {\n",
       "        text-align: right;\n",
       "    }\n",
       "</style>\n",
       "<table border=\"1\" class=\"dataframe\">\n",
       "  <thead>\n",
       "    <tr style=\"text-align: right;\">\n",
       "      <th></th>\n",
       "      <th>Symbol</th>\n",
       "      <th>Name</th>\n",
       "      <th>Last Sale</th>\n",
       "      <th>Net Change</th>\n",
       "      <th>% Change</th>\n",
       "      <th>Market Cap</th>\n",
       "      <th>Country</th>\n",
       "      <th>IPO Year</th>\n",
       "      <th>Volume</th>\n",
       "      <th>Sector</th>\n",
       "      <th>Industry</th>\n",
       "    </tr>\n",
       "  </thead>\n",
       "  <tbody>\n",
       "    <tr>\n",
       "      <th>0</th>\n",
       "      <td>A</td>\n",
       "      <td>Agilent Technologies Inc. Common Stock</td>\n",
       "      <td>$113.15</td>\n",
       "      <td>-1.04</td>\n",
       "      <td>-0.91%</td>\n",
       "      <td>3.310625e+10</td>\n",
       "      <td>United States</td>\n",
       "      <td>1999.0</td>\n",
       "      <td>2700770</td>\n",
       "      <td>Industrials</td>\n",
       "      <td>Electrical Products</td>\n",
       "    </tr>\n",
       "    <tr>\n",
       "      <th>1</th>\n",
       "      <td>AAPL</td>\n",
       "      <td>Apple Inc. Common Stock</td>\n",
       "      <td>$189.69</td>\n",
       "      <td>-0.02</td>\n",
       "      <td>-0.01%</td>\n",
       "      <td>2.950200e+12</td>\n",
       "      <td>United States</td>\n",
       "      <td>1980.0</td>\n",
       "      <td>50922657</td>\n",
       "      <td>Technology</td>\n",
       "      <td>Computer Manufacturing</td>\n",
       "    </tr>\n",
       "    <tr>\n",
       "      <th>2</th>\n",
       "      <td>ABBV</td>\n",
       "      <td>AbbVie Inc. Common Stock</td>\n",
       "      <td>$138.30</td>\n",
       "      <td>0.02</td>\n",
       "      <td>0.01%</td>\n",
       "      <td>2.441740e+11</td>\n",
       "      <td>United States</td>\n",
       "      <td>2012.0</td>\n",
       "      <td>4332297</td>\n",
       "      <td>Health Care</td>\n",
       "      <td>Biotechnology: Pharmaceutical Preparations</td>\n",
       "    </tr>\n",
       "    <tr>\n",
       "      <th>3</th>\n",
       "      <td>ABNB</td>\n",
       "      <td>Airbnb Inc. Class A Common Stock</td>\n",
       "      <td>$127.15</td>\n",
       "      <td>0.87</td>\n",
       "      <td>0.69%</td>\n",
       "      <td>8.244890e+10</td>\n",
       "      <td>United States</td>\n",
       "      <td>2020.0</td>\n",
       "      <td>3795704</td>\n",
       "      <td>Consumer Discretionary</td>\n",
       "      <td>Hotels/Resorts</td>\n",
       "    </tr>\n",
       "    <tr>\n",
       "      <th>4</th>\n",
       "      <td>ABT</td>\n",
       "      <td>Abbott Laboratories Common Stock</td>\n",
       "      <td>$99.55</td>\n",
       "      <td>-0.71</td>\n",
       "      <td>-0.71%</td>\n",
       "      <td>1.728250e+11</td>\n",
       "      <td>United States</td>\n",
       "      <td>NaN</td>\n",
       "      <td>6069070</td>\n",
       "      <td>Health Care</td>\n",
       "      <td>Biotechnology: Pharmaceutical Preparations</td>\n",
       "    </tr>\n",
       "  </tbody>\n",
       "</table>\n",
       "</div>"
      ],
      "text/plain": [
       "  Symbol                                    Name Last Sale  Net Change  \\\n",
       "0      A  Agilent Technologies Inc. Common Stock   $113.15       -1.04   \n",
       "1   AAPL                 Apple Inc. Common Stock   $189.69       -0.02   \n",
       "2   ABBV                AbbVie Inc. Common Stock   $138.30        0.02   \n",
       "3   ABNB        Airbnb Inc. Class A Common Stock   $127.15        0.87   \n",
       "4    ABT        Abbott Laboratories Common Stock    $99.55       -0.71   \n",
       "\n",
       "  % Change    Market Cap        Country  IPO Year    Volume  \\\n",
       "0   -0.91%  3.310625e+10  United States    1999.0   2700770   \n",
       "1   -0.01%  2.950200e+12  United States    1980.0  50922657   \n",
       "2    0.01%  2.441740e+11  United States    2012.0   4332297   \n",
       "3    0.69%  8.244890e+10  United States    2020.0   3795704   \n",
       "4   -0.71%  1.728250e+11  United States       NaN   6069070   \n",
       "\n",
       "                   Sector                                    Industry  \n",
       "0             Industrials                         Electrical Products  \n",
       "1              Technology                      Computer Manufacturing  \n",
       "2             Health Care  Biotechnology: Pharmaceutical Preparations  \n",
       "3  Consumer Discretionary                              Hotels/Resorts  \n",
       "4             Health Care  Biotechnology: Pharmaceutical Preparations  "
      ]
     },
     "execution_count": 78,
     "metadata": {},
     "output_type": "execute_result"
    }
   ],
   "source": [
    "file_path = 'nasdaq_screener_1700335987448.csv'\n",
    "\n",
    "# Read the CSV file into a Pandas DataFrame\n",
    "stock_list_df = pd.read_csv(file_path)\n",
    "\n",
    "# Display the DataFrame\n",
    "stock_list_df.head()"
   ]
  },
  {
   "cell_type": "code",
   "execution_count": 79,
   "id": "9eb7c6e5",
   "metadata": {},
   "outputs": [],
   "source": [
    "# create an array of tickers\n",
    "\n",
    "ticker_list = stock_list_df['Symbol'].values"
   ]
  },
  {
   "cell_type": "markdown",
   "id": "04d9bc47",
   "metadata": {},
   "source": [
    "### Generating functions to retrieve stock information "
   ]
  },
  {
   "cell_type": "code",
   "execution_count": 51,
   "id": "5e941fbf",
   "metadata": {},
   "outputs": [],
   "source": [
    "# define function to generate random date, and ensure that the date is a weekday, maybe start in 2014 or 2015\n",
    "\n",
    "def generate_random_date(start_date, end_date):\n",
    "    check_weekday = False\n",
    "    while not check_weekday:\n",
    "        # Convert the date strings to datetime objects\n",
    "        start_date_dt = datetime.datetime.strptime(start_date, '%Y-%m-%d')\n",
    "        end_date_dt = datetime.datetime.now()  # Using today's date as the end date\n",
    "\n",
    "        # Calculate the range of days between the start and end date\n",
    "        delta_days = (end_date_dt - start_date_dt).days\n",
    "\n",
    "        # Generate a random number of days within the range\n",
    "        random_days = random.randint(0, delta_days)\n",
    "\n",
    "        # Calculate the random date\n",
    "        random_date = start_date_dt + timedelta(days=random_days)\n",
    "\n",
    "        # Check if the generated date is a weekday\n",
    "        if random_date.weekday() < 5:\n",
    "            check_weekday = True\n",
    "            return random_date\n",
    "        else:\n",
    "            check_weekday = False\n",
    "\n"
   ]
  },
  {
   "cell_type": "code",
   "execution_count": 52,
   "id": "ea3610f7",
   "metadata": {},
   "outputs": [],
   "source": [
    "# define a function to choose a random stock from the list\n",
    "\n",
    "def choose_random_stock(ticker_list):    \n",
    "    \n",
    "    # Randomly choose a stock from the list\n",
    "    random_stock = random.choice(ticker_list)\n",
    "    \n",
    "    return random_stock.lower()\n",
    "    "
   ]
  },
  {
   "cell_type": "code",
   "execution_count": 53,
   "id": "23d648cd",
   "metadata": {},
   "outputs": [],
   "source": [
    "# define a function to check if data exists for stock on the date \n",
    "\n",
    "def check_stock_date(ticker, check_date):\n",
    "    check_financials = False\n",
    "    # Check if the input date is a Friday\n",
    "    if check_date.weekday() == 4:  # Friday\n",
    "        # Set end date to the next Monday\n",
    "        adj_end_date = check_date + timedelta(days=3)\n",
    "    else:\n",
    "        # Set end date to the next day\n",
    "        adj_end_date = check_date + timedelta(days=1)\n",
    "    \n",
    "    # using yahoo finance function to get stock data dataframe\n",
    "    \n",
    "    \n",
    "    try:\n",
    "        get_data(ticker, end_date=adj_end_date)\n",
    "        get_stock_financials(ticker, check_date)\n",
    "        \n",
    "\n",
    "        check_financials = True\n",
    "    except:\n",
    "        check_financials = False\n",
    "    \n",
    "    if not check_financials:\n",
    "        return False\n",
    "    else:\n",
    "        return True\n",
    "    "
   ]
  },
  {
   "cell_type": "code",
   "execution_count": 54,
   "id": "2f2d0573",
   "metadata": {},
   "outputs": [],
   "source": [
    "# define a function to return stock industry\n",
    "\n",
    "def return_stock_industry(symbol):\n",
    "    symbol = symbol.upper()\n",
    "    # Check if the symbol is in the DataFrame\n",
    "    if symbol in stock_list_df['Symbol'].values:\n",
    "        # Retrieve the sector for the given symbol\n",
    "        sector = stock_list_df.loc[stock_list_df['Symbol'] == symbol, 'Sector'].iloc[0]\n",
    "        return sector\n",
    "    else:\n",
    "        return f\"Symbol '{symbol}' not found in the stock list.\""
   ]
  },
  {
   "cell_type": "code",
   "execution_count": 55,
   "id": "b9608205",
   "metadata": {},
   "outputs": [],
   "source": [
    "\n",
    "# define a function to get the adjusted closing price of a stock on a particular day\n",
    "\n",
    "def get_stock_price(ticker, stock_date):\n",
    "    # Check if the input date is a Friday\n",
    "    if stock_date.weekday() == 4:  # Friday\n",
    "        # Set end date to the next Monday\n",
    "        price_adj_end_date = stock_date + timedelta(days=3)\n",
    "    else:\n",
    "        # Set end date to the next day\n",
    "        price_adj_end_date = stock_date + timedelta(days=1)\n",
    "    \n",
    "    # using yahoo finance function to get stock data dataframe\n",
    "    stock_data = get_data(ticker, end_date=price_adj_end_date)\n",
    "    # extracting the price \n",
    "    adj_close_price = stock_data['adjclose'].values[-1]\n",
    "    \n",
    "    return adj_close_price"
   ]
  },
  {
   "cell_type": "code",
   "execution_count": 56,
   "id": "b2d3b061",
   "metadata": {},
   "outputs": [],
   "source": [
    "# define a function to get stock trading volume\n",
    "\n",
    "def get_stock_volume(ticker, vol_date):\n",
    "    # Check if the input date is a Friday\n",
    "    if vol_date.weekday() == 4:  # Friday\n",
    "        # Set end date to the next Monday\n",
    "        vol_adj_end_date = vol_date + timedelta(days=3)\n",
    "    else:\n",
    "        # Set end date to the next day\n",
    "        vol_adj_end_date = vol_date + timedelta(days=1)\n",
    "    \n",
    "    # using yahoo finance function to get stock data dataframe\n",
    "    stock_data = get_data(ticker, end_date=vol_adj_end_date)\n",
    "    \n",
    "    #extracting the volume\n",
    "    trading_vol = stock_data['volume'].values[-1]\n",
    "    \n",
    "    return trading_vol"
   ]
  },
  {
   "cell_type": "code",
   "execution_count": 57,
   "id": "d9e42820",
   "metadata": {},
   "outputs": [],
   "source": [
    "# function to get 4 previous weekdays from given_date\n",
    "\n",
    "def get_previous_weekdays(weekday_date):\n",
    "    previous_weekdays = []\n",
    "    previous_date = weekday_date - timedelta(days=1)\n",
    "    while len(previous_weekdays) < 4:\n",
    "        if previous_date.weekday() < 5:\n",
    "            previous_weekdays.append(previous_date)\n",
    "        previous_date -= timedelta(days=1)\n",
    "\n",
    "    return previous_weekdays\n"
   ]
  },
  {
   "cell_type": "code",
   "execution_count": 97,
   "id": "63f02233",
   "metadata": {},
   "outputs": [],
   "source": [
    "# function to get company's financial ratios by scraping stockanalysis.com\n",
    "\n",
    "def get_stock_financials(ticker, fin_date):\n",
    "    \n",
    "    financial_ratios = {}\n",
    "\n",
    "    # setting brwoser\n",
    "    browser = Browser('chrome')\n",
    "    \n",
    "    # URL of the website\n",
    "    url = f\"https://stockanalysis.com/stocks/{ticker}/financials/ratios/?p=quarterly\"\n",
    "\n",
    "    # Use Selenium to open the webpage and let JavaScript execute\n",
    "    driver = webdriver.Chrome()  # Make sure you have the ChromeDriver executable in your PATH\n",
    "    driver.get(url)\n",
    "\n",
    "    # Allow some time for JavaScript to execute and load the content\n",
    "    time.sleep(5)  # Adjust the sleep time based on your needs\n",
    "\n",
    "    # Get the page source after JavaScript execution\n",
    "    page_source = driver.page_source\n",
    "\n",
    "    # Close the Selenium WebDriver\n",
    "    driver.quit()\n",
    "\n",
    "    # Parse the HTML content of the page\n",
    "    soup = BeautifulSoup(page_source, \"html.parser\")\n",
    "\n",
    "    table = soup.find(\"table\", class_=\"w-full\")\n",
    "\n",
    "    # Check if the table is found\n",
    "    try:\n",
    "        # Use pandas to read the HTML table into a DataFrame\n",
    "        df = pd.read_html(str(table))[0]\n",
    "        # Extract date columns excluding the first column\n",
    "        date_columns = df.columns[2:-1]\n",
    "        \n",
    "        # Convert date columns to datetime objects\n",
    "        date_columns = pd.to_datetime(date_columns)\n",
    "        \n",
    "        # Find the closest date column to the given date that is earlier\n",
    "        earlier_dates = [date for date in date_columns if date < fin_date]\n",
    "        closest_date_column = max(earlier_dates)\n",
    "\n",
    "        # Access the closest column\n",
    "        closest_column = closest_date_column.strftime('%Y-%m-%d')\n",
    "        \n",
    "    except:\n",
    "        print(\"Table not found on the page.\")\n",
    "    \n",
    "    \n",
    "\n",
    "    #extracting financial ratios\n",
    "    try: \n",
    "        financial_ratios['pe_ratio']=float(df.loc[df['Quarter Ended'] == 'PE Ratio', closest_column].values[0])\n",
    "        financial_ratios['debt_to_equity']=float(df.loc[df['Quarter Ended'] == 'Debt / Equity Ratio', closest_column].values[0])\n",
    "        financial_ratios['quick_ratio']=float(df.loc[df['Quarter Ended'] == 'Quick Ratio', closest_column].values[0])\n",
    "        total_shareholder_return_str = df.loc[df['Quarter Ended'] == 'Total Shareholder Return', closest_column].values[0]\n",
    "        financial_ratios['total_shareholder_return'] = float(total_shareholder_return_str.strip('%'))\n",
    "    \n",
    "    except:\n",
    "        pass \n",
    "    \n",
    "    # URL of the website\n",
    "    url = f\"https://stockanalysis.com/stocks/{ticker}/financials/?p=quarterly\"\n",
    "\n",
    "    # Use Selenium to open the webpage and let JavaScript execute\n",
    "    driver = webdriver.Chrome()  # Make sure you have the ChromeDriver executable in your PATH\n",
    "    driver.get(url)\n",
    "\n",
    "    # Allow some time for JavaScript to execute and load the content\n",
    "    time.sleep(5)  # Adjust the sleep time based on your needs\n",
    "\n",
    "    # Get the page source after JavaScript execution\n",
    "    page_source = driver.page_source\n",
    "\n",
    "    # Close the Selenium WebDriver\n",
    "    driver.quit()\n",
    "\n",
    "    # Parse the HTML content of the page\n",
    "    soup = BeautifulSoup(page_source, \"html.parser\")\n",
    "\n",
    "    # Find the table by class name\n",
    "    table = soup.find(\"table\", class_=\"w-full\")\n",
    "\n",
    "    # Check if the table is found\n",
    "    try:\n",
    "    # Use pandas to read the HTML table into a DataFrame\n",
    "        df = pd.read_html(str(table))[0]\n",
    "        \n",
    "    except:\n",
    "        print(\"Table not found on the page.\")\n",
    "    \n",
    "    try:\n",
    "        profit_margin_str= df.loc[df['Quarter Ended'] == 'Profit Margin', closest_column].values[0]\n",
    "        financial_ratios['profit_margin'] = float(profit_margin_str.strip('%'))\n",
    "        cash_margin_str= df.loc[df['Quarter Ended'] == 'Free Cash Flow Margin', closest_column].values[0]\n",
    "        financial_ratios['free_cash_margin'] = float(cash_margin_str.strip('%'))\n",
    "    except:\n",
    "        pass\n",
    "\n",
    "    return financial_ratios\n",
    "    \n",
    "    "
   ]
  },
  {
   "cell_type": "code",
   "execution_count": 59,
   "id": "bb220ef9",
   "metadata": {},
   "outputs": [],
   "source": [
    "# function to calculate stock's volatility\n",
    "\n",
    "def calculate_volatility(ticker, sd_date):\n",
    "    df=get_data(ticker, end_date=sd_date)\n",
    "    # Calculate daily returns\n",
    "    df['daily_return'] = df['adjclose'].pct_change()\n",
    "\n",
    "    # Calculate volatility as the standard deviation of daily returns\n",
    "    volatility = df['daily_return'].std()\n",
    "\n",
    "    return volatility"
   ]
  },
  {
   "cell_type": "code",
   "execution_count": 13,
   "id": "aecbb828",
   "metadata": {},
   "outputs": [],
   "source": [
    "#------------------------NEED TO FIND A NEW SOURCE---------------------------------\n",
    "\n",
    "def get_news_sentiment(ticker, news_date):\n",
    "    \n",
    "    # Extract year, month, and day\n",
    "    news_end_date=news_date\n",
    "    end_year = news_end_date.year\n",
    "    end_month = str(news_end_date.month).zfill(2)\n",
    "    end_day = str(news_end_date.day).zfill(2)\n",
    "    \n",
    "    news_start_date = news_end_date - timedelta(weeks=4)\n",
    "    start_year = news_start_date.year\n",
    "    start_month = str(news_start_date.month).zfill(2)\n",
    "    start_day = str(news_start_date.day).zfill(2)\n",
    "   "
   ]
  },
  {
   "cell_type": "code",
   "execution_count": 60,
   "id": "b7903b33",
   "metadata": {},
   "outputs": [],
   "source": [
    "# extracting daily federal interest rate information from alphavantage\n",
    "\n",
    "# using alphavantage API\n",
    "url = f'https://www.alphavantage.co/query?function=FEDERAL_FUNDS_RATE&interval=daily&apikey={alphavantage_api_key}'\n",
    "r = requests.get(url)\n",
    "data = r.json()\n",
    "\n",
    "daily_interest_rates = data\n",
    "\n",
    "# converting json to dataframe\n",
    "daily_interest_rate_df = pd.DataFrame(daily_interest_rates['data'])\n",
    "\n",
    "# Export DataFrame to CSV so that we can refer to it without making an api call\n",
    "daily_interest_rate_df.to_csv('daily_interest_rates.csv', index=False)\n"
   ]
  },
  {
   "cell_type": "code",
   "execution_count": 61,
   "id": "a85664b1",
   "metadata": {},
   "outputs": [],
   "source": [
    "# extracting monthly CPI information from alphavantage\n",
    "\n",
    "# using alphavantage api\n",
    "url = f'https://www.alphavantage.co/query?function=CPI&interval=monthly&apikey=demo'\n",
    "r = requests.get(url)\n",
    "data = r.json()\n",
    "\n",
    "monthly_cpi = data\n",
    "\n",
    "# converting json to dataframe\n",
    "monthly_cpi_df = pd.DataFrame(monthly_cpi['data'])\n",
    "monthly_cpi_df['date'] = pd.to_datetime(monthly_cpi_df['date'])\n",
    "\n",
    "\n",
    "# Export DataFrame to CSV so that we can refer to it without making an api call\n",
    "monthly_cpi_df.to_csv('monthly_cpi.csv', index=False)"
   ]
  },
  {
   "cell_type": "code",
   "execution_count": 62,
   "id": "51961146",
   "metadata": {},
   "outputs": [],
   "source": [
    "# extracting monthly unemployment rate information from alphavantage\n",
    "\n",
    "# using alphavantage api\n",
    "url = f'https://www.alphavantage.co/query?function=UNEMPLOYMENT&apikey=demo'\n",
    "r = requests.get(url)\n",
    "data = r.json()\n",
    "\n",
    "monthly_unemployment_rate = data\n",
    "\n",
    "# converting json to dataframe\n",
    "monthly_unemployment_rate_df = pd.DataFrame(monthly_unemployment_rate['data'])\n",
    "monthly_unemployment_rate_df['date'] = pd.to_datetime(monthly_unemployment_rate_df['date'])\n",
    "\n",
    "# Export DataFrame to CSV so that we can refer to it without making an api call\n",
    "monthly_unemployment_rate_df.to_csv('monthly_unemployment_rate.csv', index=False)"
   ]
  },
  {
   "cell_type": "code",
   "execution_count": 63,
   "id": "bdef26aa",
   "metadata": {},
   "outputs": [],
   "source": [
    "# define a function to extract economic indicators for the given date\n",
    "\n",
    "def get_economic_indicators(econ_date):\n",
    "    \n",
    "    economic_indicators_dict={}\n",
    "    \n",
    "    # convert datetime object to matching string \n",
    "    formatted_date = econ_date.strftime('%Y-%m-%d')\n",
    "    \n",
    "    # retrieve CPI value\n",
    "    # Locate the value for the given date, matching only month and year\n",
    "    economic_indicators_dict['cpi'] = float(monthly_cpi_df.loc[monthly_cpi_df['date'].dt.to_period('M') == pd.to_datetime(econ_date).to_period('M'), 'value'].iloc[0])    \n",
    "    \n",
    "    # retrieve federal interest rate value\n",
    "    economic_indicators_dict['interest_rate'] = float(daily_interest_rate_df.loc[daily_interest_rate_df['date'] == formatted_date, 'value'].iloc[0])\n",
    "\n",
    "    # retrieve unemployement rate\n",
    "    # Locate the value for the given date, matching only month and year\n",
    "    economic_indicators_dict['unemployment_rate'] = float(monthly_unemployment_rate_df.loc[monthly_unemployment_rate_df['date'].dt.to_period('M') == pd.to_datetime(econ_date).to_period('M'), 'value'].iloc[0])\n",
    "    \n",
    "    return economic_indicators_dict"
   ]
  },
  {
   "cell_type": "code",
   "execution_count": 64,
   "id": "400f860f",
   "metadata": {},
   "outputs": [],
   "source": [
    "# function to retrieve technical indicators\n",
    "\n",
    "def get_technical_indicators(ticker, tech_date):\n",
    "    \n",
    "    technical_indicators_dict={}\n",
    "    \n",
    "    # changing date into UNIX format\n",
    "    end_timestamp = int(tech_date.timestamp())\n",
    "    \n",
    "    # choosing a timestamp of one week earlier\n",
    "    start_tech_date = tech_date - timedelta(weeks=1)\n",
    "    \n",
    "    # changing the date to UNIX format\n",
    "    start_timestamp = int(start_tech_date.timestamp())\n",
    "    \n",
    "    # retrieving SMA \n",
    "    technical_indicators_dict['sma']= finnhub_client.technical_indicator(symbol=ticker, resolution='D', _from=start_timestamp, to=end_timestamp, indicator='sma', indicator_fields={\"timeperiod\": 5})['sma'][-1]\n",
    "    \n",
    "    #retrieving RSI\n",
    "    technical_indicators_dict['rsi']= finnhub_client.technical_indicator(symbol=ticker, resolution='D', _from=start_timestamp, to=end_timestamp, indicator='rsi', indicator_fields={\"timeperiod\": 5})['rsi'][-1]\n",
    "\n",
    "    # retrieving EMA \n",
    "    technical_indicators_dict['ema']= finnhub_client.technical_indicator(symbol=ticker, resolution='D', _from=start_timestamp, to=end_timestamp, indicator='ema', indicator_fields={\"timeperiod\": 5})['ema'][-1]\n",
    "    \n",
    "    return technical_indicators_dict"
   ]
  },
  {
   "cell_type": "code",
   "execution_count": 65,
   "id": "13a499ee",
   "metadata": {},
   "outputs": [],
   "source": [
    "# function to create label value for data\n",
    "\n",
    "def create_label(ticker, y_date):\n",
    "    print(y_date)\n",
    "    initial_price = get_stock_price(ticker, y_date)\n",
    "    print(initial_price)\n",
    "    \n",
    "    # find the next weekday\n",
    "    \n",
    "    # check if date landed on friday and calculate the next weekday date\n",
    "    if y_date.weekday() == 4:\n",
    "        next_weekday_date = y_date + timedelta(days=3)\n",
    "    else:\n",
    "        next_weekday_date = y_date + timedelta(days=1)\n",
    "\n",
    "    print(next_weekday_date)\n",
    "    \n",
    "    next_price = get_stock_price(ticker, next_weekday_date)\n",
    "    \n",
    "    print(next_price)\n",
    "    \n",
    "    if next_price >= initial_price:\n",
    "        return 1 # 1 is class increase, in order to simplify the classification we put stayed the same in same category as increase\n",
    "    else:\n",
    "        return 0 # 0 is class decrease"
   ]
  },
  {
   "cell_type": "markdown",
   "id": "31de6993",
   "metadata": {},
   "source": [
    "### Running a loop to generate multiple rows of data for training and testing"
   ]
  },
  {
   "cell_type": "code",
   "execution_count": 21,
   "id": "da2a2f60",
   "metadata": {},
   "outputs": [],
   "source": [
    "page=10"
   ]
  },
  {
   "cell_type": "code",
   "execution_count": 106,
   "id": "33e12b0d",
   "metadata": {},
   "outputs": [
    {
     "name": "stderr",
     "output_type": "stream",
     "text": [
      "C:\\Users\\gayat\\AppData\\Local\\Temp\\ipykernel_23816\\3272197425.py:34: FutureWarning: Passing literal html to 'read_html' is deprecated and will be removed in a future version. To read from a literal string, wrap it in a 'StringIO' object.\n",
      "  df = pd.read_html(str(table))[0]\n",
      "C:\\Users\\gayat\\AppData\\Local\\Temp\\ipykernel_23816\\3272197425.py:89: FutureWarning: Passing literal html to 'read_html' is deprecated and will be removed in a future version. To read from a literal string, wrap it in a 'StringIO' object.\n",
      "  df = pd.read_html(str(table))[0]\n",
      "C:\\Users\\gayat\\AppData\\Local\\Temp\\ipykernel_23816\\3272197425.py:34: FutureWarning: Passing literal html to 'read_html' is deprecated and will be removed in a future version. To read from a literal string, wrap it in a 'StringIO' object.\n",
      "  df = pd.read_html(str(table))[0]\n",
      "C:\\Users\\gayat\\AppData\\Local\\Temp\\ipykernel_23816\\3272197425.py:89: FutureWarning: Passing literal html to 'read_html' is deprecated and will be removed in a future version. To read from a literal string, wrap it in a 'StringIO' object.\n",
      "  df = pd.read_html(str(table))[0]\n"
     ]
    },
    {
     "name": "stdout",
     "output_type": "stream",
     "text": [
      "2017-08-16 00:00:00\n",
      "94.00019836425781\n",
      "2017-08-17 00:00:00\n",
      "92.4930191040039\n",
      "1\n"
     ]
    },
    {
     "name": "stderr",
     "output_type": "stream",
     "text": [
      "C:\\Users\\gayat\\AppData\\Local\\Temp\\ipykernel_23816\\3272197425.py:34: FutureWarning: Passing literal html to 'read_html' is deprecated and will be removed in a future version. To read from a literal string, wrap it in a 'StringIO' object.\n",
      "  df = pd.read_html(str(table))[0]\n",
      "C:\\Users\\gayat\\AppData\\Local\\Temp\\ipykernel_23816\\3272197425.py:89: FutureWarning: Passing literal html to 'read_html' is deprecated and will be removed in a future version. To read from a literal string, wrap it in a 'StringIO' object.\n",
      "  df = pd.read_html(str(table))[0]\n",
      "C:\\Users\\gayat\\AppData\\Local\\Temp\\ipykernel_23816\\3272197425.py:34: FutureWarning: Passing literal html to 'read_html' is deprecated and will be removed in a future version. To read from a literal string, wrap it in a 'StringIO' object.\n",
      "  df = pd.read_html(str(table))[0]\n",
      "C:\\Users\\gayat\\AppData\\Local\\Temp\\ipykernel_23816\\3272197425.py:89: FutureWarning: Passing literal html to 'read_html' is deprecated and will be removed in a future version. To read from a literal string, wrap it in a 'StringIO' object.\n",
      "  df = pd.read_html(str(table))[0]\n"
     ]
    },
    {
     "name": "stdout",
     "output_type": "stream",
     "text": [
      "2015-09-23 00:00:00\n",
      "57.024356842041016\n",
      "2015-09-24 00:00:00\n",
      "56.16374206542969\n",
      "2\n"
     ]
    },
    {
     "name": "stderr",
     "output_type": "stream",
     "text": [
      "C:\\Users\\gayat\\AppData\\Local\\Temp\\ipykernel_23816\\3272197425.py:34: FutureWarning: Passing literal html to 'read_html' is deprecated and will be removed in a future version. To read from a literal string, wrap it in a 'StringIO' object.\n",
      "  df = pd.read_html(str(table))[0]\n",
      "C:\\Users\\gayat\\AppData\\Local\\Temp\\ipykernel_23816\\3272197425.py:89: FutureWarning: Passing literal html to 'read_html' is deprecated and will be removed in a future version. To read from a literal string, wrap it in a 'StringIO' object.\n",
      "  df = pd.read_html(str(table))[0]\n",
      "C:\\Users\\gayat\\AppData\\Local\\Temp\\ipykernel_23816\\3272197425.py:34: FutureWarning: Passing literal html to 'read_html' is deprecated and will be removed in a future version. To read from a literal string, wrap it in a 'StringIO' object.\n",
      "  df = pd.read_html(str(table))[0]\n",
      "C:\\Users\\gayat\\AppData\\Local\\Temp\\ipykernel_23816\\3272197425.py:89: FutureWarning: Passing literal html to 'read_html' is deprecated and will be removed in a future version. To read from a literal string, wrap it in a 'StringIO' object.\n",
      "  df = pd.read_html(str(table))[0]\n"
     ]
    },
    {
     "name": "stdout",
     "output_type": "stream",
     "text": [
      "2019-10-03 00:00:00\n",
      "112.17744445800781\n",
      "2019-10-04 00:00:00\n",
      "112.71389770507812\n",
      "3\n"
     ]
    },
    {
     "name": "stderr",
     "output_type": "stream",
     "text": [
      "C:\\Users\\gayat\\AppData\\Local\\Temp\\ipykernel_23816\\3272197425.py:34: FutureWarning: Passing literal html to 'read_html' is deprecated and will be removed in a future version. To read from a literal string, wrap it in a 'StringIO' object.\n",
      "  df = pd.read_html(str(table))[0]\n",
      "C:\\Users\\gayat\\AppData\\Local\\Temp\\ipykernel_23816\\3272197425.py:89: FutureWarning: Passing literal html to 'read_html' is deprecated and will be removed in a future version. To read from a literal string, wrap it in a 'StringIO' object.\n",
      "  df = pd.read_html(str(table))[0]\n",
      "C:\\Users\\gayat\\AppData\\Local\\Temp\\ipykernel_23816\\3272197425.py:34: FutureWarning: Passing literal html to 'read_html' is deprecated and will be removed in a future version. To read from a literal string, wrap it in a 'StringIO' object.\n",
      "  df = pd.read_html(str(table))[0]\n",
      "C:\\Users\\gayat\\AppData\\Local\\Temp\\ipykernel_23816\\3272197425.py:89: FutureWarning: Passing literal html to 'read_html' is deprecated and will be removed in a future version. To read from a literal string, wrap it in a 'StringIO' object.\n",
      "  df = pd.read_html(str(table))[0]\n"
     ]
    },
    {
     "name": "stdout",
     "output_type": "stream",
     "text": [
      "2021-12-24 00:00:00\n",
      "153.94644165039062\n",
      "2021-12-27 00:00:00\n",
      "156.3417205810547\n",
      "4\n"
     ]
    },
    {
     "name": "stderr",
     "output_type": "stream",
     "text": [
      "C:\\Users\\gayat\\AppData\\Local\\Temp\\ipykernel_23816\\3272197425.py:34: FutureWarning: Passing literal html to 'read_html' is deprecated and will be removed in a future version. To read from a literal string, wrap it in a 'StringIO' object.\n",
      "  df = pd.read_html(str(table))[0]\n",
      "C:\\Users\\gayat\\AppData\\Local\\Temp\\ipykernel_23816\\3272197425.py:89: FutureWarning: Passing literal html to 'read_html' is deprecated and will be removed in a future version. To read from a literal string, wrap it in a 'StringIO' object.\n",
      "  df = pd.read_html(str(table))[0]\n",
      "C:\\Users\\gayat\\AppData\\Local\\Temp\\ipykernel_23816\\3272197425.py:34: FutureWarning: Passing literal html to 'read_html' is deprecated and will be removed in a future version. To read from a literal string, wrap it in a 'StringIO' object.\n",
      "  df = pd.read_html(str(table))[0]\n",
      "C:\\Users\\gayat\\AppData\\Local\\Temp\\ipykernel_23816\\3272197425.py:89: FutureWarning: Passing literal html to 'read_html' is deprecated and will be removed in a future version. To read from a literal string, wrap it in a 'StringIO' object.\n",
      "  df = pd.read_html(str(table))[0]\n"
     ]
    },
    {
     "name": "stdout",
     "output_type": "stream",
     "text": [
      "2016-05-16 00:00:00\n",
      "38.939998626708984\n",
      "2016-05-17 00:00:00\n",
      "38.38999938964844\n",
      "5\n"
     ]
    },
    {
     "name": "stderr",
     "output_type": "stream",
     "text": [
      "C:\\Users\\gayat\\AppData\\Local\\Temp\\ipykernel_23816\\3272197425.py:34: FutureWarning: Passing literal html to 'read_html' is deprecated and will be removed in a future version. To read from a literal string, wrap it in a 'StringIO' object.\n",
      "  df = pd.read_html(str(table))[0]\n"
     ]
    },
    {
     "name": "stdout",
     "output_type": "stream",
     "text": [
      "Table not found on the page.\n"
     ]
    },
    {
     "name": "stderr",
     "output_type": "stream",
     "text": [
      "C:\\Users\\gayat\\AppData\\Local\\Temp\\ipykernel_23816\\3272197425.py:89: FutureWarning: Passing literal html to 'read_html' is deprecated and will be removed in a future version. To read from a literal string, wrap it in a 'StringIO' object.\n",
      "  df = pd.read_html(str(table))[0]\n"
     ]
    },
    {
     "name": "stdout",
     "output_type": "stream",
     "text": [
      "Table not found on the page.\n"
     ]
    },
    {
     "name": "stderr",
     "output_type": "stream",
     "text": [
      "C:\\Users\\gayat\\AppData\\Local\\Temp\\ipykernel_23816\\3272197425.py:34: FutureWarning: Passing literal html to 'read_html' is deprecated and will be removed in a future version. To read from a literal string, wrap it in a 'StringIO' object.\n",
      "  df = pd.read_html(str(table))[0]\n"
     ]
    },
    {
     "name": "stdout",
     "output_type": "stream",
     "text": [
      "Table not found on the page.\n"
     ]
    },
    {
     "name": "stderr",
     "output_type": "stream",
     "text": [
      "C:\\Users\\gayat\\AppData\\Local\\Temp\\ipykernel_23816\\3272197425.py:89: FutureWarning: Passing literal html to 'read_html' is deprecated and will be removed in a future version. To read from a literal string, wrap it in a 'StringIO' object.\n",
      "  df = pd.read_html(str(table))[0]\n"
     ]
    },
    {
     "name": "stdout",
     "output_type": "stream",
     "text": [
      "Table not found on the page.\n",
      "2023-02-16 00:00:00\n",
      "89.25904083251953\n",
      "2023-02-17 00:00:00\n",
      "89.007080078125\n",
      "6\n"
     ]
    },
    {
     "name": "stderr",
     "output_type": "stream",
     "text": [
      "C:\\Users\\gayat\\AppData\\Local\\Temp\\ipykernel_23816\\3272197425.py:34: FutureWarning: Passing literal html to 'read_html' is deprecated and will be removed in a future version. To read from a literal string, wrap it in a 'StringIO' object.\n",
      "  df = pd.read_html(str(table))[0]\n",
      "C:\\Users\\gayat\\AppData\\Local\\Temp\\ipykernel_23816\\3272197425.py:89: FutureWarning: Passing literal html to 'read_html' is deprecated and will be removed in a future version. To read from a literal string, wrap it in a 'StringIO' object.\n",
      "  df = pd.read_html(str(table))[0]\n",
      "C:\\Users\\gayat\\AppData\\Local\\Temp\\ipykernel_23816\\3272197425.py:34: FutureWarning: Passing literal html to 'read_html' is deprecated and will be removed in a future version. To read from a literal string, wrap it in a 'StringIO' object.\n",
      "  df = pd.read_html(str(table))[0]\n",
      "C:\\Users\\gayat\\AppData\\Local\\Temp\\ipykernel_23816\\3272197425.py:89: FutureWarning: Passing literal html to 'read_html' is deprecated and will be removed in a future version. To read from a literal string, wrap it in a 'StringIO' object.\n",
      "  df = pd.read_html(str(table))[0]\n"
     ]
    },
    {
     "name": "stdout",
     "output_type": "stream",
     "text": [
      "2023-10-10 00:00:00\n",
      "36.310604095458984\n",
      "2023-10-11 00:00:00\n",
      "36.75912857055664\n",
      "7\n"
     ]
    },
    {
     "name": "stderr",
     "output_type": "stream",
     "text": [
      "C:\\Users\\gayat\\AppData\\Local\\Temp\\ipykernel_23816\\3272197425.py:34: FutureWarning: Passing literal html to 'read_html' is deprecated and will be removed in a future version. To read from a literal string, wrap it in a 'StringIO' object.\n",
      "  df = pd.read_html(str(table))[0]\n",
      "C:\\Users\\gayat\\AppData\\Local\\Temp\\ipykernel_23816\\3272197425.py:89: FutureWarning: Passing literal html to 'read_html' is deprecated and will be removed in a future version. To read from a literal string, wrap it in a 'StringIO' object.\n",
      "  df = pd.read_html(str(table))[0]\n",
      "C:\\Users\\gayat\\AppData\\Local\\Temp\\ipykernel_23816\\3272197425.py:34: FutureWarning: Passing literal html to 'read_html' is deprecated and will be removed in a future version. To read from a literal string, wrap it in a 'StringIO' object.\n",
      "  df = pd.read_html(str(table))[0]\n",
      "C:\\Users\\gayat\\AppData\\Local\\Temp\\ipykernel_23816\\3272197425.py:89: FutureWarning: Passing literal html to 'read_html' is deprecated and will be removed in a future version. To read from a literal string, wrap it in a 'StringIO' object.\n",
      "  df = pd.read_html(str(table))[0]\n"
     ]
    },
    {
     "name": "stdout",
     "output_type": "stream",
     "text": [
      "2022-10-06 00:00:00\n",
      "132.05999755859375\n",
      "2022-10-07 00:00:00\n",
      "129.4199981689453\n",
      "8\n"
     ]
    },
    {
     "name": "stderr",
     "output_type": "stream",
     "text": [
      "C:\\Users\\gayat\\AppData\\Local\\Temp\\ipykernel_23816\\3272197425.py:34: FutureWarning: Passing literal html to 'read_html' is deprecated and will be removed in a future version. To read from a literal string, wrap it in a 'StringIO' object.\n",
      "  df = pd.read_html(str(table))[0]\n",
      "C:\\Users\\gayat\\AppData\\Local\\Temp\\ipykernel_23816\\3272197425.py:89: FutureWarning: Passing literal html to 'read_html' is deprecated and will be removed in a future version. To read from a literal string, wrap it in a 'StringIO' object.\n",
      "  df = pd.read_html(str(table))[0]\n",
      "C:\\Users\\gayat\\AppData\\Local\\Temp\\ipykernel_23816\\3272197425.py:34: FutureWarning: Passing literal html to 'read_html' is deprecated and will be removed in a future version. To read from a literal string, wrap it in a 'StringIO' object.\n",
      "  df = pd.read_html(str(table))[0]\n",
      "C:\\Users\\gayat\\AppData\\Local\\Temp\\ipykernel_23816\\3272197425.py:89: FutureWarning: Passing literal html to 'read_html' is deprecated and will be removed in a future version. To read from a literal string, wrap it in a 'StringIO' object.\n",
      "  df = pd.read_html(str(table))[0]\n"
     ]
    },
    {
     "name": "stdout",
     "output_type": "stream",
     "text": [
      "2021-08-05 00:00:00\n",
      "87.53984832763672\n",
      "2021-08-06 00:00:00\n",
      "87.9952621459961\n",
      "9\n"
     ]
    },
    {
     "name": "stderr",
     "output_type": "stream",
     "text": [
      "C:\\Users\\gayat\\AppData\\Local\\Temp\\ipykernel_23816\\3272197425.py:34: FutureWarning: Passing literal html to 'read_html' is deprecated and will be removed in a future version. To read from a literal string, wrap it in a 'StringIO' object.\n",
      "  df = pd.read_html(str(table))[0]\n"
     ]
    },
    {
     "name": "stdout",
     "output_type": "stream",
     "text": [
      "Table not found on the page.\n"
     ]
    },
    {
     "name": "stderr",
     "output_type": "stream",
     "text": [
      "C:\\Users\\gayat\\AppData\\Local\\Temp\\ipykernel_23816\\3272197425.py:89: FutureWarning: Passing literal html to 'read_html' is deprecated and will be removed in a future version. To read from a literal string, wrap it in a 'StringIO' object.\n",
      "  df = pd.read_html(str(table))[0]\n"
     ]
    },
    {
     "name": "stdout",
     "output_type": "stream",
     "text": [
      "Table not found on the page.\n"
     ]
    },
    {
     "name": "stderr",
     "output_type": "stream",
     "text": [
      "C:\\Users\\gayat\\AppData\\Local\\Temp\\ipykernel_23816\\3272197425.py:34: FutureWarning: Passing literal html to 'read_html' is deprecated and will be removed in a future version. To read from a literal string, wrap it in a 'StringIO' object.\n",
      "  df = pd.read_html(str(table))[0]\n"
     ]
    },
    {
     "name": "stdout",
     "output_type": "stream",
     "text": [
      "Table not found on the page.\n"
     ]
    },
    {
     "name": "stderr",
     "output_type": "stream",
     "text": [
      "C:\\Users\\gayat\\AppData\\Local\\Temp\\ipykernel_23816\\3272197425.py:89: FutureWarning: Passing literal html to 'read_html' is deprecated and will be removed in a future version. To read from a literal string, wrap it in a 'StringIO' object.\n",
      "  df = pd.read_html(str(table))[0]\n"
     ]
    },
    {
     "name": "stdout",
     "output_type": "stream",
     "text": [
      "Table not found on the page.\n",
      "2021-07-02 00:00:00\n",
      "24.878681182861328\n",
      "2021-07-05 00:00:00\n",
      "24.878681182861328\n",
      "10\n"
     ]
    },
    {
     "name": "stderr",
     "output_type": "stream",
     "text": [
      "C:\\Users\\gayat\\AppData\\Local\\Temp\\ipykernel_23816\\3272197425.py:34: FutureWarning: Passing literal html to 'read_html' is deprecated and will be removed in a future version. To read from a literal string, wrap it in a 'StringIO' object.\n",
      "  df = pd.read_html(str(table))[0]\n",
      "C:\\Users\\gayat\\AppData\\Local\\Temp\\ipykernel_23816\\3272197425.py:89: FutureWarning: Passing literal html to 'read_html' is deprecated and will be removed in a future version. To read from a literal string, wrap it in a 'StringIO' object.\n",
      "  df = pd.read_html(str(table))[0]\n",
      "C:\\Users\\gayat\\AppData\\Local\\Temp\\ipykernel_23816\\3272197425.py:34: FutureWarning: Passing literal html to 'read_html' is deprecated and will be removed in a future version. To read from a literal string, wrap it in a 'StringIO' object.\n",
      "  df = pd.read_html(str(table))[0]\n",
      "C:\\Users\\gayat\\AppData\\Local\\Temp\\ipykernel_23816\\3272197425.py:89: FutureWarning: Passing literal html to 'read_html' is deprecated and will be removed in a future version. To read from a literal string, wrap it in a 'StringIO' object.\n",
      "  df = pd.read_html(str(table))[0]\n"
     ]
    },
    {
     "name": "stdout",
     "output_type": "stream",
     "text": [
      "2020-05-18 00:00:00\n",
      "347.4950866699219\n",
      "2020-05-19 00:00:00\n",
      "338.7542724609375\n",
      "11\n"
     ]
    },
    {
     "name": "stderr",
     "output_type": "stream",
     "text": [
      "C:\\Users\\gayat\\AppData\\Local\\Temp\\ipykernel_23816\\3272197425.py:34: FutureWarning: Passing literal html to 'read_html' is deprecated and will be removed in a future version. To read from a literal string, wrap it in a 'StringIO' object.\n",
      "  df = pd.read_html(str(table))[0]\n",
      "C:\\Users\\gayat\\AppData\\Local\\Temp\\ipykernel_23816\\3272197425.py:89: FutureWarning: Passing literal html to 'read_html' is deprecated and will be removed in a future version. To read from a literal string, wrap it in a 'StringIO' object.\n",
      "  df = pd.read_html(str(table))[0]\n",
      "C:\\Users\\gayat\\AppData\\Local\\Temp\\ipykernel_23816\\3272197425.py:34: FutureWarning: Passing literal html to 'read_html' is deprecated and will be removed in a future version. To read from a literal string, wrap it in a 'StringIO' object.\n",
      "  df = pd.read_html(str(table))[0]\n",
      "C:\\Users\\gayat\\AppData\\Local\\Temp\\ipykernel_23816\\3272197425.py:89: FutureWarning: Passing literal html to 'read_html' is deprecated and will be removed in a future version. To read from a literal string, wrap it in a 'StringIO' object.\n",
      "  df = pd.read_html(str(table))[0]\n"
     ]
    },
    {
     "name": "stdout",
     "output_type": "stream",
     "text": [
      "2021-03-31 00:00:00\n",
      "33.64637756347656\n",
      "2021-04-01 00:00:00\n",
      "33.713802337646484\n",
      "12\n"
     ]
    },
    {
     "name": "stderr",
     "output_type": "stream",
     "text": [
      "C:\\Users\\gayat\\AppData\\Local\\Temp\\ipykernel_23816\\3272197425.py:34: FutureWarning: Passing literal html to 'read_html' is deprecated and will be removed in a future version. To read from a literal string, wrap it in a 'StringIO' object.\n",
      "  df = pd.read_html(str(table))[0]\n",
      "C:\\Users\\gayat\\AppData\\Local\\Temp\\ipykernel_23816\\3272197425.py:89: FutureWarning: Passing literal html to 'read_html' is deprecated and will be removed in a future version. To read from a literal string, wrap it in a 'StringIO' object.\n",
      "  df = pd.read_html(str(table))[0]\n",
      "C:\\Users\\gayat\\AppData\\Local\\Temp\\ipykernel_23816\\3272197425.py:34: FutureWarning: Passing literal html to 'read_html' is deprecated and will be removed in a future version. To read from a literal string, wrap it in a 'StringIO' object.\n",
      "  df = pd.read_html(str(table))[0]\n",
      "C:\\Users\\gayat\\AppData\\Local\\Temp\\ipykernel_23816\\3272197425.py:89: FutureWarning: Passing literal html to 'read_html' is deprecated and will be removed in a future version. To read from a literal string, wrap it in a 'StringIO' object.\n",
      "  df = pd.read_html(str(table))[0]\n"
     ]
    },
    {
     "name": "stdout",
     "output_type": "stream",
     "text": [
      "2020-01-09 00:00:00\n",
      "64.16000366210938\n",
      "2020-01-10 00:00:00\n",
      "64.4800033569336\n",
      "13\n"
     ]
    },
    {
     "name": "stderr",
     "output_type": "stream",
     "text": [
      "C:\\Users\\gayat\\AppData\\Local\\Temp\\ipykernel_23816\\3272197425.py:34: FutureWarning: Passing literal html to 'read_html' is deprecated and will be removed in a future version. To read from a literal string, wrap it in a 'StringIO' object.\n",
      "  df = pd.read_html(str(table))[0]\n",
      "C:\\Users\\gayat\\AppData\\Local\\Temp\\ipykernel_23816\\3272197425.py:89: FutureWarning: Passing literal html to 'read_html' is deprecated and will be removed in a future version. To read from a literal string, wrap it in a 'StringIO' object.\n",
      "  df = pd.read_html(str(table))[0]\n",
      "C:\\Users\\gayat\\AppData\\Local\\Temp\\ipykernel_23816\\3272197425.py:34: FutureWarning: Passing literal html to 'read_html' is deprecated and will be removed in a future version. To read from a literal string, wrap it in a 'StringIO' object.\n",
      "  df = pd.read_html(str(table))[0]\n",
      "C:\\Users\\gayat\\AppData\\Local\\Temp\\ipykernel_23816\\3272197425.py:89: FutureWarning: Passing literal html to 'read_html' is deprecated and will be removed in a future version. To read from a literal string, wrap it in a 'StringIO' object.\n",
      "  df = pd.read_html(str(table))[0]\n"
     ]
    },
    {
     "name": "stdout",
     "output_type": "stream",
     "text": [
      "2017-06-28 00:00:00\n",
      "92.24198150634766\n",
      "2017-06-29 00:00:00\n",
      "90.2989273071289\n",
      "14\n"
     ]
    },
    {
     "name": "stderr",
     "output_type": "stream",
     "text": [
      "C:\\Users\\gayat\\AppData\\Local\\Temp\\ipykernel_23816\\3272197425.py:34: FutureWarning: Passing literal html to 'read_html' is deprecated and will be removed in a future version. To read from a literal string, wrap it in a 'StringIO' object.\n",
      "  df = pd.read_html(str(table))[0]\n",
      "C:\\Users\\gayat\\AppData\\Local\\Temp\\ipykernel_23816\\3272197425.py:89: FutureWarning: Passing literal html to 'read_html' is deprecated and will be removed in a future version. To read from a literal string, wrap it in a 'StringIO' object.\n",
      "  df = pd.read_html(str(table))[0]\n",
      "C:\\Users\\gayat\\AppData\\Local\\Temp\\ipykernel_23816\\3272197425.py:34: FutureWarning: Passing literal html to 'read_html' is deprecated and will be removed in a future version. To read from a literal string, wrap it in a 'StringIO' object.\n",
      "  df = pd.read_html(str(table))[0]\n",
      "C:\\Users\\gayat\\AppData\\Local\\Temp\\ipykernel_23816\\3272197425.py:89: FutureWarning: Passing literal html to 'read_html' is deprecated and will be removed in a future version. To read from a literal string, wrap it in a 'StringIO' object.\n",
      "  df = pd.read_html(str(table))[0]\n"
     ]
    },
    {
     "name": "stdout",
     "output_type": "stream",
     "text": [
      "2016-05-27 00:00:00\n",
      "62.12779235839844\n",
      "2016-05-30 00:00:00\n",
      "62.12779235839844\n",
      "15\n"
     ]
    },
    {
     "name": "stderr",
     "output_type": "stream",
     "text": [
      "C:\\Users\\gayat\\AppData\\Local\\Temp\\ipykernel_23816\\3272197425.py:34: FutureWarning: Passing literal html to 'read_html' is deprecated and will be removed in a future version. To read from a literal string, wrap it in a 'StringIO' object.\n",
      "  df = pd.read_html(str(table))[0]\n",
      "C:\\Users\\gayat\\AppData\\Local\\Temp\\ipykernel_23816\\3272197425.py:89: FutureWarning: Passing literal html to 'read_html' is deprecated and will be removed in a future version. To read from a literal string, wrap it in a 'StringIO' object.\n",
      "  df = pd.read_html(str(table))[0]\n",
      "C:\\Users\\gayat\\AppData\\Local\\Temp\\ipykernel_23816\\3272197425.py:34: FutureWarning: Passing literal html to 'read_html' is deprecated and will be removed in a future version. To read from a literal string, wrap it in a 'StringIO' object.\n",
      "  df = pd.read_html(str(table))[0]\n",
      "C:\\Users\\gayat\\AppData\\Local\\Temp\\ipykernel_23816\\3272197425.py:89: FutureWarning: Passing literal html to 'read_html' is deprecated and will be removed in a future version. To read from a literal string, wrap it in a 'StringIO' object.\n",
      "  df = pd.read_html(str(table))[0]\n"
     ]
    },
    {
     "name": "stdout",
     "output_type": "stream",
     "text": [
      "2016-06-27 00:00:00\n",
      "51.561309814453125\n",
      "2016-06-28 00:00:00\n",
      "52.576072692871094\n",
      "16\n"
     ]
    },
    {
     "name": "stderr",
     "output_type": "stream",
     "text": [
      "C:\\Users\\gayat\\AppData\\Local\\Temp\\ipykernel_23816\\3272197425.py:34: FutureWarning: Passing literal html to 'read_html' is deprecated and will be removed in a future version. To read from a literal string, wrap it in a 'StringIO' object.\n",
      "  df = pd.read_html(str(table))[0]\n",
      "C:\\Users\\gayat\\AppData\\Local\\Temp\\ipykernel_23816\\3272197425.py:89: FutureWarning: Passing literal html to 'read_html' is deprecated and will be removed in a future version. To read from a literal string, wrap it in a 'StringIO' object.\n",
      "  df = pd.read_html(str(table))[0]\n",
      "C:\\Users\\gayat\\AppData\\Local\\Temp\\ipykernel_23816\\3272197425.py:34: FutureWarning: Passing literal html to 'read_html' is deprecated and will be removed in a future version. To read from a literal string, wrap it in a 'StringIO' object.\n",
      "  df = pd.read_html(str(table))[0]\n",
      "C:\\Users\\gayat\\AppData\\Local\\Temp\\ipykernel_23816\\3272197425.py:89: FutureWarning: Passing literal html to 'read_html' is deprecated and will be removed in a future version. To read from a literal string, wrap it in a 'StringIO' object.\n",
      "  df = pd.read_html(str(table))[0]\n"
     ]
    },
    {
     "name": "stdout",
     "output_type": "stream",
     "text": [
      "2019-11-01 00:00:00\n",
      "54.86779022216797\n",
      "2019-11-04 00:00:00\n",
      "55.473121643066406\n",
      "17\n"
     ]
    },
    {
     "name": "stderr",
     "output_type": "stream",
     "text": [
      "C:\\Users\\gayat\\AppData\\Local\\Temp\\ipykernel_23816\\3272197425.py:34: FutureWarning: Passing literal html to 'read_html' is deprecated and will be removed in a future version. To read from a literal string, wrap it in a 'StringIO' object.\n",
      "  df = pd.read_html(str(table))[0]\n",
      "C:\\Users\\gayat\\AppData\\Local\\Temp\\ipykernel_23816\\3272197425.py:89: FutureWarning: Passing literal html to 'read_html' is deprecated and will be removed in a future version. To read from a literal string, wrap it in a 'StringIO' object.\n",
      "  df = pd.read_html(str(table))[0]\n",
      "C:\\Users\\gayat\\AppData\\Local\\Temp\\ipykernel_23816\\3272197425.py:34: FutureWarning: Passing literal html to 'read_html' is deprecated and will be removed in a future version. To read from a literal string, wrap it in a 'StringIO' object.\n",
      "  df = pd.read_html(str(table))[0]\n",
      "C:\\Users\\gayat\\AppData\\Local\\Temp\\ipykernel_23816\\3272197425.py:89: FutureWarning: Passing literal html to 'read_html' is deprecated and will be removed in a future version. To read from a literal string, wrap it in a 'StringIO' object.\n",
      "  df = pd.read_html(str(table))[0]\n"
     ]
    },
    {
     "name": "stdout",
     "output_type": "stream",
     "text": [
      "2021-11-26 00:00:00\n",
      "154.80999755859375\n",
      "2021-11-29 00:00:00\n",
      "161.91000366210938\n",
      "18\n"
     ]
    },
    {
     "name": "stderr",
     "output_type": "stream",
     "text": [
      "C:\\Users\\gayat\\AppData\\Local\\Temp\\ipykernel_23816\\3272197425.py:34: FutureWarning: Passing literal html to 'read_html' is deprecated and will be removed in a future version. To read from a literal string, wrap it in a 'StringIO' object.\n",
      "  df = pd.read_html(str(table))[0]\n",
      "C:\\Users\\gayat\\AppData\\Local\\Temp\\ipykernel_23816\\3272197425.py:89: FutureWarning: Passing literal html to 'read_html' is deprecated and will be removed in a future version. To read from a literal string, wrap it in a 'StringIO' object.\n",
      "  df = pd.read_html(str(table))[0]\n",
      "C:\\Users\\gayat\\AppData\\Local\\Temp\\ipykernel_23816\\3272197425.py:34: FutureWarning: Passing literal html to 'read_html' is deprecated and will be removed in a future version. To read from a literal string, wrap it in a 'StringIO' object.\n",
      "  df = pd.read_html(str(table))[0]\n",
      "C:\\Users\\gayat\\AppData\\Local\\Temp\\ipykernel_23816\\3272197425.py:89: FutureWarning: Passing literal html to 'read_html' is deprecated and will be removed in a future version. To read from a literal string, wrap it in a 'StringIO' object.\n",
      "  df = pd.read_html(str(table))[0]\n"
     ]
    },
    {
     "name": "stdout",
     "output_type": "stream",
     "text": [
      "2022-04-05 00:00:00\n",
      "33.52000045776367\n",
      "2022-04-06 00:00:00\n",
      "32.43000030517578\n",
      "19\n"
     ]
    },
    {
     "name": "stderr",
     "output_type": "stream",
     "text": [
      "C:\\Users\\gayat\\AppData\\Local\\Temp\\ipykernel_23816\\3272197425.py:34: FutureWarning: Passing literal html to 'read_html' is deprecated and will be removed in a future version. To read from a literal string, wrap it in a 'StringIO' object.\n",
      "  df = pd.read_html(str(table))[0]\n",
      "C:\\Users\\gayat\\AppData\\Local\\Temp\\ipykernel_23816\\3272197425.py:89: FutureWarning: Passing literal html to 'read_html' is deprecated and will be removed in a future version. To read from a literal string, wrap it in a 'StringIO' object.\n",
      "  df = pd.read_html(str(table))[0]\n",
      "C:\\Users\\gayat\\AppData\\Local\\Temp\\ipykernel_23816\\3272197425.py:34: FutureWarning: Passing literal html to 'read_html' is deprecated and will be removed in a future version. To read from a literal string, wrap it in a 'StringIO' object.\n",
      "  df = pd.read_html(str(table))[0]\n",
      "C:\\Users\\gayat\\AppData\\Local\\Temp\\ipykernel_23816\\3272197425.py:89: FutureWarning: Passing literal html to 'read_html' is deprecated and will be removed in a future version. To read from a literal string, wrap it in a 'StringIO' object.\n",
      "  df = pd.read_html(str(table))[0]\n"
     ]
    },
    {
     "name": "stdout",
     "output_type": "stream",
     "text": [
      "2017-07-20 00:00:00\n",
      "177.55999755859375\n",
      "2017-07-21 00:00:00\n",
      "177.33999633789062\n",
      "20\n"
     ]
    },
    {
     "name": "stderr",
     "output_type": "stream",
     "text": [
      "C:\\Users\\gayat\\AppData\\Local\\Temp\\ipykernel_23816\\3272197425.py:34: FutureWarning: Passing literal html to 'read_html' is deprecated and will be removed in a future version. To read from a literal string, wrap it in a 'StringIO' object.\n",
      "  df = pd.read_html(str(table))[0]\n",
      "C:\\Users\\gayat\\AppData\\Local\\Temp\\ipykernel_23816\\3272197425.py:89: FutureWarning: Passing literal html to 'read_html' is deprecated and will be removed in a future version. To read from a literal string, wrap it in a 'StringIO' object.\n",
      "  df = pd.read_html(str(table))[0]\n",
      "C:\\Users\\gayat\\AppData\\Local\\Temp\\ipykernel_23816\\3272197425.py:34: FutureWarning: Passing literal html to 'read_html' is deprecated and will be removed in a future version. To read from a literal string, wrap it in a 'StringIO' object.\n",
      "  df = pd.read_html(str(table))[0]\n",
      "C:\\Users\\gayat\\AppData\\Local\\Temp\\ipykernel_23816\\3272197425.py:89: FutureWarning: Passing literal html to 'read_html' is deprecated and will be removed in a future version. To read from a literal string, wrap it in a 'StringIO' object.\n",
      "  df = pd.read_html(str(table))[0]\n"
     ]
    },
    {
     "name": "stdout",
     "output_type": "stream",
     "text": [
      "2015-12-25 00:00:00\n",
      "24.04215431213379\n",
      "2015-12-28 00:00:00\n",
      "23.905982971191406\n",
      "21\n"
     ]
    },
    {
     "name": "stderr",
     "output_type": "stream",
     "text": [
      "C:\\Users\\gayat\\AppData\\Local\\Temp\\ipykernel_23816\\3272197425.py:34: FutureWarning: Passing literal html to 'read_html' is deprecated and will be removed in a future version. To read from a literal string, wrap it in a 'StringIO' object.\n",
      "  df = pd.read_html(str(table))[0]\n",
      "C:\\Users\\gayat\\AppData\\Local\\Temp\\ipykernel_23816\\3272197425.py:89: FutureWarning: Passing literal html to 'read_html' is deprecated and will be removed in a future version. To read from a literal string, wrap it in a 'StringIO' object.\n",
      "  df = pd.read_html(str(table))[0]\n",
      "C:\\Users\\gayat\\AppData\\Local\\Temp\\ipykernel_23816\\3272197425.py:34: FutureWarning: Passing literal html to 'read_html' is deprecated and will be removed in a future version. To read from a literal string, wrap it in a 'StringIO' object.\n",
      "  df = pd.read_html(str(table))[0]\n",
      "C:\\Users\\gayat\\AppData\\Local\\Temp\\ipykernel_23816\\3272197425.py:89: FutureWarning: Passing literal html to 'read_html' is deprecated and will be removed in a future version. To read from a literal string, wrap it in a 'StringIO' object.\n",
      "  df = pd.read_html(str(table))[0]\n"
     ]
    },
    {
     "name": "stdout",
     "output_type": "stream",
     "text": [
      "2022-07-21 00:00:00\n",
      "321.77593994140625\n",
      "2022-07-22 00:00:00\n",
      "323.57708740234375\n",
      "22\n"
     ]
    },
    {
     "name": "stderr",
     "output_type": "stream",
     "text": [
      "C:\\Users\\gayat\\AppData\\Local\\Temp\\ipykernel_23816\\3272197425.py:34: FutureWarning: Passing literal html to 'read_html' is deprecated and will be removed in a future version. To read from a literal string, wrap it in a 'StringIO' object.\n",
      "  df = pd.read_html(str(table))[0]\n",
      "C:\\Users\\gayat\\AppData\\Local\\Temp\\ipykernel_23816\\3272197425.py:89: FutureWarning: Passing literal html to 'read_html' is deprecated and will be removed in a future version. To read from a literal string, wrap it in a 'StringIO' object.\n",
      "  df = pd.read_html(str(table))[0]\n",
      "C:\\Users\\gayat\\AppData\\Local\\Temp\\ipykernel_23816\\3272197425.py:34: FutureWarning: Passing literal html to 'read_html' is deprecated and will be removed in a future version. To read from a literal string, wrap it in a 'StringIO' object.\n",
      "  df = pd.read_html(str(table))[0]\n",
      "C:\\Users\\gayat\\AppData\\Local\\Temp\\ipykernel_23816\\3272197425.py:89: FutureWarning: Passing literal html to 'read_html' is deprecated and will be removed in a future version. To read from a literal string, wrap it in a 'StringIO' object.\n",
      "  df = pd.read_html(str(table))[0]\n"
     ]
    },
    {
     "name": "stdout",
     "output_type": "stream",
     "text": [
      "2015-12-23 00:00:00\n",
      "24.811620712280273\n",
      "2015-12-24 00:00:00\n",
      "24.756011962890625\n",
      "23\n"
     ]
    },
    {
     "name": "stderr",
     "output_type": "stream",
     "text": [
      "C:\\Users\\gayat\\AppData\\Local\\Temp\\ipykernel_23816\\3272197425.py:34: FutureWarning: Passing literal html to 'read_html' is deprecated and will be removed in a future version. To read from a literal string, wrap it in a 'StringIO' object.\n",
      "  df = pd.read_html(str(table))[0]\n",
      "C:\\Users\\gayat\\AppData\\Local\\Temp\\ipykernel_23816\\3272197425.py:89: FutureWarning: Passing literal html to 'read_html' is deprecated and will be removed in a future version. To read from a literal string, wrap it in a 'StringIO' object.\n",
      "  df = pd.read_html(str(table))[0]\n",
      "C:\\Users\\gayat\\AppData\\Local\\Temp\\ipykernel_23816\\3272197425.py:34: FutureWarning: Passing literal html to 'read_html' is deprecated and will be removed in a future version. To read from a literal string, wrap it in a 'StringIO' object.\n",
      "  df = pd.read_html(str(table))[0]\n",
      "C:\\Users\\gayat\\AppData\\Local\\Temp\\ipykernel_23816\\3272197425.py:89: FutureWarning: Passing literal html to 'read_html' is deprecated and will be removed in a future version. To read from a literal string, wrap it in a 'StringIO' object.\n",
      "  df = pd.read_html(str(table))[0]\n"
     ]
    },
    {
     "name": "stdout",
     "output_type": "stream",
     "text": [
      "2023-10-30 00:00:00\n",
      "40.0\n",
      "2023-10-31 00:00:00\n",
      "40.31999969482422\n",
      "24\n"
     ]
    },
    {
     "name": "stderr",
     "output_type": "stream",
     "text": [
      "C:\\Users\\gayat\\AppData\\Local\\Temp\\ipykernel_23816\\3272197425.py:34: FutureWarning: Passing literal html to 'read_html' is deprecated and will be removed in a future version. To read from a literal string, wrap it in a 'StringIO' object.\n",
      "  df = pd.read_html(str(table))[0]\n",
      "C:\\Users\\gayat\\AppData\\Local\\Temp\\ipykernel_23816\\3272197425.py:89: FutureWarning: Passing literal html to 'read_html' is deprecated and will be removed in a future version. To read from a literal string, wrap it in a 'StringIO' object.\n",
      "  df = pd.read_html(str(table))[0]\n",
      "C:\\Users\\gayat\\AppData\\Local\\Temp\\ipykernel_23816\\3272197425.py:34: FutureWarning: Passing literal html to 'read_html' is deprecated and will be removed in a future version. To read from a literal string, wrap it in a 'StringIO' object.\n",
      "  df = pd.read_html(str(table))[0]\n",
      "C:\\Users\\gayat\\AppData\\Local\\Temp\\ipykernel_23816\\3272197425.py:89: FutureWarning: Passing literal html to 'read_html' is deprecated and will be removed in a future version. To read from a literal string, wrap it in a 'StringIO' object.\n",
      "  df = pd.read_html(str(table))[0]\n"
     ]
    },
    {
     "name": "stdout",
     "output_type": "stream",
     "text": [
      "2017-06-16 00:00:00\n",
      "114.80416870117188\n",
      "2017-06-19 00:00:00\n",
      "115.13480377197266\n",
      "25\n"
     ]
    },
    {
     "name": "stderr",
     "output_type": "stream",
     "text": [
      "C:\\Users\\gayat\\AppData\\Local\\Temp\\ipykernel_23816\\3272197425.py:34: FutureWarning: Passing literal html to 'read_html' is deprecated and will be removed in a future version. To read from a literal string, wrap it in a 'StringIO' object.\n",
      "  df = pd.read_html(str(table))[0]\n",
      "C:\\Users\\gayat\\AppData\\Local\\Temp\\ipykernel_23816\\3272197425.py:89: FutureWarning: Passing literal html to 'read_html' is deprecated and will be removed in a future version. To read from a literal string, wrap it in a 'StringIO' object.\n",
      "  df = pd.read_html(str(table))[0]\n",
      "C:\\Users\\gayat\\AppData\\Local\\Temp\\ipykernel_23816\\3272197425.py:34: FutureWarning: Passing literal html to 'read_html' is deprecated and will be removed in a future version. To read from a literal string, wrap it in a 'StringIO' object.\n",
      "  df = pd.read_html(str(table))[0]\n",
      "C:\\Users\\gayat\\AppData\\Local\\Temp\\ipykernel_23816\\3272197425.py:89: FutureWarning: Passing literal html to 'read_html' is deprecated and will be removed in a future version. To read from a literal string, wrap it in a 'StringIO' object.\n",
      "  df = pd.read_html(str(table))[0]\n"
     ]
    },
    {
     "name": "stdout",
     "output_type": "stream",
     "text": [
      "2017-02-28 00:00:00\n",
      "77.56183624267578\n",
      "2017-03-01 00:00:00\n",
      "77.3282241821289\n",
      "26\n"
     ]
    },
    {
     "name": "stderr",
     "output_type": "stream",
     "text": [
      "C:\\Users\\gayat\\AppData\\Local\\Temp\\ipykernel_23816\\3272197425.py:34: FutureWarning: Passing literal html to 'read_html' is deprecated and will be removed in a future version. To read from a literal string, wrap it in a 'StringIO' object.\n",
      "  df = pd.read_html(str(table))[0]\n",
      "C:\\Users\\gayat\\AppData\\Local\\Temp\\ipykernel_23816\\3272197425.py:89: FutureWarning: Passing literal html to 'read_html' is deprecated and will be removed in a future version. To read from a literal string, wrap it in a 'StringIO' object.\n",
      "  df = pd.read_html(str(table))[0]\n",
      "C:\\Users\\gayat\\AppData\\Local\\Temp\\ipykernel_23816\\3272197425.py:34: FutureWarning: Passing literal html to 'read_html' is deprecated and will be removed in a future version. To read from a literal string, wrap it in a 'StringIO' object.\n",
      "  df = pd.read_html(str(table))[0]\n",
      "C:\\Users\\gayat\\AppData\\Local\\Temp\\ipykernel_23816\\3272197425.py:89: FutureWarning: Passing literal html to 'read_html' is deprecated and will be removed in a future version. To read from a literal string, wrap it in a 'StringIO' object.\n",
      "  df = pd.read_html(str(table))[0]\n"
     ]
    },
    {
     "name": "stdout",
     "output_type": "stream",
     "text": [
      "2019-08-16 00:00:00\n",
      "91.56964111328125\n",
      "2019-08-19 00:00:00\n",
      "92.34693908691406\n",
      "27\n"
     ]
    },
    {
     "name": "stderr",
     "output_type": "stream",
     "text": [
      "C:\\Users\\gayat\\AppData\\Local\\Temp\\ipykernel_23816\\3272197425.py:34: FutureWarning: Passing literal html to 'read_html' is deprecated and will be removed in a future version. To read from a literal string, wrap it in a 'StringIO' object.\n",
      "  df = pd.read_html(str(table))[0]\n",
      "C:\\Users\\gayat\\AppData\\Local\\Temp\\ipykernel_23816\\3272197425.py:89: FutureWarning: Passing literal html to 'read_html' is deprecated and will be removed in a future version. To read from a literal string, wrap it in a 'StringIO' object.\n",
      "  df = pd.read_html(str(table))[0]\n",
      "C:\\Users\\gayat\\AppData\\Local\\Temp\\ipykernel_23816\\3272197425.py:34: FutureWarning: Passing literal html to 'read_html' is deprecated and will be removed in a future version. To read from a literal string, wrap it in a 'StringIO' object.\n",
      "  df = pd.read_html(str(table))[0]\n",
      "C:\\Users\\gayat\\AppData\\Local\\Temp\\ipykernel_23816\\3272197425.py:89: FutureWarning: Passing literal html to 'read_html' is deprecated and will be removed in a future version. To read from a literal string, wrap it in a 'StringIO' object.\n",
      "  df = pd.read_html(str(table))[0]\n"
     ]
    },
    {
     "name": "stdout",
     "output_type": "stream",
     "text": [
      "2019-10-23 00:00:00\n",
      "46.52573776245117\n",
      "2019-10-24 00:00:00\n",
      "48.276554107666016\n",
      "28\n"
     ]
    },
    {
     "name": "stderr",
     "output_type": "stream",
     "text": [
      "C:\\Users\\gayat\\AppData\\Local\\Temp\\ipykernel_23816\\3272197425.py:34: FutureWarning: Passing literal html to 'read_html' is deprecated and will be removed in a future version. To read from a literal string, wrap it in a 'StringIO' object.\n",
      "  df = pd.read_html(str(table))[0]\n",
      "C:\\Users\\gayat\\AppData\\Local\\Temp\\ipykernel_23816\\3272197425.py:89: FutureWarning: Passing literal html to 'read_html' is deprecated and will be removed in a future version. To read from a literal string, wrap it in a 'StringIO' object.\n",
      "  df = pd.read_html(str(table))[0]\n",
      "C:\\Users\\gayat\\AppData\\Local\\Temp\\ipykernel_23816\\3272197425.py:34: FutureWarning: Passing literal html to 'read_html' is deprecated and will be removed in a future version. To read from a literal string, wrap it in a 'StringIO' object.\n",
      "  df = pd.read_html(str(table))[0]\n",
      "C:\\Users\\gayat\\AppData\\Local\\Temp\\ipykernel_23816\\3272197425.py:89: FutureWarning: Passing literal html to 'read_html' is deprecated and will be removed in a future version. To read from a literal string, wrap it in a 'StringIO' object.\n",
      "  df = pd.read_html(str(table))[0]\n"
     ]
    },
    {
     "name": "stdout",
     "output_type": "stream",
     "text": [
      "2023-10-20 00:00:00\n",
      "80.04000091552734\n",
      "2023-10-23 00:00:00\n",
      "81.27999877929688\n",
      "29\n"
     ]
    },
    {
     "name": "stderr",
     "output_type": "stream",
     "text": [
      "C:\\Users\\gayat\\AppData\\Local\\Temp\\ipykernel_23816\\3272197425.py:34: FutureWarning: Passing literal html to 'read_html' is deprecated and will be removed in a future version. To read from a literal string, wrap it in a 'StringIO' object.\n",
      "  df = pd.read_html(str(table))[0]\n",
      "C:\\Users\\gayat\\AppData\\Local\\Temp\\ipykernel_23816\\3272197425.py:89: FutureWarning: Passing literal html to 'read_html' is deprecated and will be removed in a future version. To read from a literal string, wrap it in a 'StringIO' object.\n",
      "  df = pd.read_html(str(table))[0]\n",
      "C:\\Users\\gayat\\AppData\\Local\\Temp\\ipykernel_23816\\3272197425.py:34: FutureWarning: Passing literal html to 'read_html' is deprecated and will be removed in a future version. To read from a literal string, wrap it in a 'StringIO' object.\n",
      "  df = pd.read_html(str(table))[0]\n",
      "C:\\Users\\gayat\\AppData\\Local\\Temp\\ipykernel_23816\\3272197425.py:89: FutureWarning: Passing literal html to 'read_html' is deprecated and will be removed in a future version. To read from a literal string, wrap it in a 'StringIO' object.\n",
      "  df = pd.read_html(str(table))[0]\n"
     ]
    },
    {
     "name": "stdout",
     "output_type": "stream",
     "text": [
      "2017-11-17 00:00:00\n",
      "50.954498291015625\n",
      "2017-11-20 00:00:00\n",
      "50.91899871826172\n",
      "30\n"
     ]
    },
    {
     "name": "stderr",
     "output_type": "stream",
     "text": [
      "C:\\Users\\gayat\\AppData\\Local\\Temp\\ipykernel_23816\\3272197425.py:34: FutureWarning: Passing literal html to 'read_html' is deprecated and will be removed in a future version. To read from a literal string, wrap it in a 'StringIO' object.\n",
      "  df = pd.read_html(str(table))[0]\n",
      "C:\\Users\\gayat\\AppData\\Local\\Temp\\ipykernel_23816\\3272197425.py:89: FutureWarning: Passing literal html to 'read_html' is deprecated and will be removed in a future version. To read from a literal string, wrap it in a 'StringIO' object.\n",
      "  df = pd.read_html(str(table))[0]\n",
      "C:\\Users\\gayat\\AppData\\Local\\Temp\\ipykernel_23816\\3272197425.py:34: FutureWarning: Passing literal html to 'read_html' is deprecated and will be removed in a future version. To read from a literal string, wrap it in a 'StringIO' object.\n",
      "  df = pd.read_html(str(table))[0]\n",
      "C:\\Users\\gayat\\AppData\\Local\\Temp\\ipykernel_23816\\3272197425.py:89: FutureWarning: Passing literal html to 'read_html' is deprecated and will be removed in a future version. To read from a literal string, wrap it in a 'StringIO' object.\n",
      "  df = pd.read_html(str(table))[0]\n"
     ]
    },
    {
     "name": "stdout",
     "output_type": "stream",
     "text": [
      "2015-08-24 00:00:00\n",
      "85.62999725341797\n",
      "2015-08-25 00:00:00\n",
      "85.75\n",
      "31\n"
     ]
    },
    {
     "name": "stderr",
     "output_type": "stream",
     "text": [
      "C:\\Users\\gayat\\AppData\\Local\\Temp\\ipykernel_23816\\3272197425.py:34: FutureWarning: Passing literal html to 'read_html' is deprecated and will be removed in a future version. To read from a literal string, wrap it in a 'StringIO' object.\n",
      "  df = pd.read_html(str(table))[0]\n",
      "C:\\Users\\gayat\\AppData\\Local\\Temp\\ipykernel_23816\\3272197425.py:89: FutureWarning: Passing literal html to 'read_html' is deprecated and will be removed in a future version. To read from a literal string, wrap it in a 'StringIO' object.\n",
      "  df = pd.read_html(str(table))[0]\n",
      "C:\\Users\\gayat\\AppData\\Local\\Temp\\ipykernel_23816\\3272197425.py:34: FutureWarning: Passing literal html to 'read_html' is deprecated and will be removed in a future version. To read from a literal string, wrap it in a 'StringIO' object.\n",
      "  df = pd.read_html(str(table))[0]\n",
      "C:\\Users\\gayat\\AppData\\Local\\Temp\\ipykernel_23816\\3272197425.py:89: FutureWarning: Passing literal html to 'read_html' is deprecated and will be removed in a future version. To read from a literal string, wrap it in a 'StringIO' object.\n",
      "  df = pd.read_html(str(table))[0]\n"
     ]
    },
    {
     "name": "stdout",
     "output_type": "stream",
     "text": [
      "2018-11-09 00:00:00\n",
      "137.47039794921875\n",
      "2018-11-12 00:00:00\n",
      "135.5222625732422\n",
      "32\n"
     ]
    },
    {
     "name": "stderr",
     "output_type": "stream",
     "text": [
      "C:\\Users\\gayat\\AppData\\Local\\Temp\\ipykernel_23816\\3272197425.py:34: FutureWarning: Passing literal html to 'read_html' is deprecated and will be removed in a future version. To read from a literal string, wrap it in a 'StringIO' object.\n",
      "  df = pd.read_html(str(table))[0]\n",
      "C:\\Users\\gayat\\AppData\\Local\\Temp\\ipykernel_23816\\3272197425.py:89: FutureWarning: Passing literal html to 'read_html' is deprecated and will be removed in a future version. To read from a literal string, wrap it in a 'StringIO' object.\n",
      "  df = pd.read_html(str(table))[0]\n",
      "C:\\Users\\gayat\\AppData\\Local\\Temp\\ipykernel_23816\\3272197425.py:34: FutureWarning: Passing literal html to 'read_html' is deprecated and will be removed in a future version. To read from a literal string, wrap it in a 'StringIO' object.\n",
      "  df = pd.read_html(str(table))[0]\n",
      "C:\\Users\\gayat\\AppData\\Local\\Temp\\ipykernel_23816\\3272197425.py:89: FutureWarning: Passing literal html to 'read_html' is deprecated and will be removed in a future version. To read from a literal string, wrap it in a 'StringIO' object.\n",
      "  df = pd.read_html(str(table))[0]\n"
     ]
    },
    {
     "name": "stdout",
     "output_type": "stream",
     "text": [
      "2020-09-11 00:00:00\n",
      "212.0813751220703\n",
      "2020-09-14 00:00:00\n",
      "215.49282836914062\n",
      "33\n"
     ]
    },
    {
     "name": "stderr",
     "output_type": "stream",
     "text": [
      "C:\\Users\\gayat\\AppData\\Local\\Temp\\ipykernel_23816\\3272197425.py:34: FutureWarning: Passing literal html to 'read_html' is deprecated and will be removed in a future version. To read from a literal string, wrap it in a 'StringIO' object.\n",
      "  df = pd.read_html(str(table))[0]\n",
      "C:\\Users\\gayat\\AppData\\Local\\Temp\\ipykernel_23816\\3272197425.py:89: FutureWarning: Passing literal html to 'read_html' is deprecated and will be removed in a future version. To read from a literal string, wrap it in a 'StringIO' object.\n",
      "  df = pd.read_html(str(table))[0]\n",
      "C:\\Users\\gayat\\AppData\\Local\\Temp\\ipykernel_23816\\3272197425.py:34: FutureWarning: Passing literal html to 'read_html' is deprecated and will be removed in a future version. To read from a literal string, wrap it in a 'StringIO' object.\n",
      "  df = pd.read_html(str(table))[0]\n",
      "C:\\Users\\gayat\\AppData\\Local\\Temp\\ipykernel_23816\\3272197425.py:89: FutureWarning: Passing literal html to 'read_html' is deprecated and will be removed in a future version. To read from a literal string, wrap it in a 'StringIO' object.\n",
      "  df = pd.read_html(str(table))[0]\n"
     ]
    },
    {
     "name": "stdout",
     "output_type": "stream",
     "text": [
      "2018-01-31 00:00:00\n",
      "70.00634765625\n",
      "2018-02-01 00:00:00\n",
      "71.60696411132812\n",
      "34\n"
     ]
    },
    {
     "name": "stderr",
     "output_type": "stream",
     "text": [
      "C:\\Users\\gayat\\AppData\\Local\\Temp\\ipykernel_23816\\3272197425.py:34: FutureWarning: Passing literal html to 'read_html' is deprecated and will be removed in a future version. To read from a literal string, wrap it in a 'StringIO' object.\n",
      "  df = pd.read_html(str(table))[0]\n",
      "C:\\Users\\gayat\\AppData\\Local\\Temp\\ipykernel_23816\\3272197425.py:89: FutureWarning: Passing literal html to 'read_html' is deprecated and will be removed in a future version. To read from a literal string, wrap it in a 'StringIO' object.\n",
      "  df = pd.read_html(str(table))[0]\n",
      "C:\\Users\\gayat\\AppData\\Local\\Temp\\ipykernel_23816\\3272197425.py:34: FutureWarning: Passing literal html to 'read_html' is deprecated and will be removed in a future version. To read from a literal string, wrap it in a 'StringIO' object.\n",
      "  df = pd.read_html(str(table))[0]\n",
      "C:\\Users\\gayat\\AppData\\Local\\Temp\\ipykernel_23816\\3272197425.py:89: FutureWarning: Passing literal html to 'read_html' is deprecated and will be removed in a future version. To read from a literal string, wrap it in a 'StringIO' object.\n",
      "  df = pd.read_html(str(table))[0]\n"
     ]
    },
    {
     "name": "stdout",
     "output_type": "stream",
     "text": [
      "2015-02-06 00:00:00\n",
      "26.47266387939453\n",
      "2015-02-09 00:00:00\n",
      "26.338422775268555\n",
      "35\n"
     ]
    },
    {
     "name": "stderr",
     "output_type": "stream",
     "text": [
      "C:\\Users\\gayat\\AppData\\Local\\Temp\\ipykernel_23816\\3272197425.py:34: FutureWarning: Passing literal html to 'read_html' is deprecated and will be removed in a future version. To read from a literal string, wrap it in a 'StringIO' object.\n",
      "  df = pd.read_html(str(table))[0]\n"
     ]
    },
    {
     "name": "stdout",
     "output_type": "stream",
     "text": [
      "Table not found on the page.\n"
     ]
    },
    {
     "name": "stderr",
     "output_type": "stream",
     "text": [
      "C:\\Users\\gayat\\AppData\\Local\\Temp\\ipykernel_23816\\3272197425.py:89: FutureWarning: Passing literal html to 'read_html' is deprecated and will be removed in a future version. To read from a literal string, wrap it in a 'StringIO' object.\n",
      "  df = pd.read_html(str(table))[0]\n"
     ]
    },
    {
     "name": "stdout",
     "output_type": "stream",
     "text": [
      "Table not found on the page.\n"
     ]
    },
    {
     "name": "stderr",
     "output_type": "stream",
     "text": [
      "C:\\Users\\gayat\\AppData\\Local\\Temp\\ipykernel_23816\\3272197425.py:34: FutureWarning: Passing literal html to 'read_html' is deprecated and will be removed in a future version. To read from a literal string, wrap it in a 'StringIO' object.\n",
      "  df = pd.read_html(str(table))[0]\n"
     ]
    },
    {
     "name": "stdout",
     "output_type": "stream",
     "text": [
      "Table not found on the page.\n"
     ]
    },
    {
     "name": "stderr",
     "output_type": "stream",
     "text": [
      "C:\\Users\\gayat\\AppData\\Local\\Temp\\ipykernel_23816\\3272197425.py:89: FutureWarning: Passing literal html to 'read_html' is deprecated and will be removed in a future version. To read from a literal string, wrap it in a 'StringIO' object.\n",
      "  df = pd.read_html(str(table))[0]\n"
     ]
    },
    {
     "name": "stdout",
     "output_type": "stream",
     "text": [
      "Table not found on the page.\n",
      "2021-03-01 00:00:00\n",
      "22.985883712768555\n",
      "2021-03-02 00:00:00\n",
      "23.089035034179688\n",
      "36\n"
     ]
    },
    {
     "name": "stderr",
     "output_type": "stream",
     "text": [
      "C:\\Users\\gayat\\AppData\\Local\\Temp\\ipykernel_23816\\3272197425.py:34: FutureWarning: Passing literal html to 'read_html' is deprecated and will be removed in a future version. To read from a literal string, wrap it in a 'StringIO' object.\n",
      "  df = pd.read_html(str(table))[0]\n",
      "C:\\Users\\gayat\\AppData\\Local\\Temp\\ipykernel_23816\\3272197425.py:89: FutureWarning: Passing literal html to 'read_html' is deprecated and will be removed in a future version. To read from a literal string, wrap it in a 'StringIO' object.\n",
      "  df = pd.read_html(str(table))[0]\n",
      "C:\\Users\\gayat\\AppData\\Local\\Temp\\ipykernel_23816\\3272197425.py:34: FutureWarning: Passing literal html to 'read_html' is deprecated and will be removed in a future version. To read from a literal string, wrap it in a 'StringIO' object.\n",
      "  df = pd.read_html(str(table))[0]\n",
      "C:\\Users\\gayat\\AppData\\Local\\Temp\\ipykernel_23816\\3272197425.py:89: FutureWarning: Passing literal html to 'read_html' is deprecated and will be removed in a future version. To read from a literal string, wrap it in a 'StringIO' object.\n",
      "  df = pd.read_html(str(table))[0]\n"
     ]
    },
    {
     "name": "stdout",
     "output_type": "stream",
     "text": [
      "2022-04-26 00:00:00\n",
      "129.26461791992188\n",
      "2022-04-27 00:00:00\n",
      "129.25498962402344\n",
      "37\n"
     ]
    },
    {
     "name": "stderr",
     "output_type": "stream",
     "text": [
      "C:\\Users\\gayat\\AppData\\Local\\Temp\\ipykernel_23816\\3272197425.py:34: FutureWarning: Passing literal html to 'read_html' is deprecated and will be removed in a future version. To read from a literal string, wrap it in a 'StringIO' object.\n",
      "  df = pd.read_html(str(table))[0]\n",
      "C:\\Users\\gayat\\AppData\\Local\\Temp\\ipykernel_23816\\3272197425.py:89: FutureWarning: Passing literal html to 'read_html' is deprecated and will be removed in a future version. To read from a literal string, wrap it in a 'StringIO' object.\n",
      "  df = pd.read_html(str(table))[0]\n",
      "C:\\Users\\gayat\\AppData\\Local\\Temp\\ipykernel_23816\\3272197425.py:34: FutureWarning: Passing literal html to 'read_html' is deprecated and will be removed in a future version. To read from a literal string, wrap it in a 'StringIO' object.\n",
      "  df = pd.read_html(str(table))[0]\n",
      "C:\\Users\\gayat\\AppData\\Local\\Temp\\ipykernel_23816\\3272197425.py:89: FutureWarning: Passing literal html to 'read_html' is deprecated and will be removed in a future version. To read from a literal string, wrap it in a 'StringIO' object.\n",
      "  df = pd.read_html(str(table))[0]\n"
     ]
    },
    {
     "name": "stdout",
     "output_type": "stream",
     "text": [
      "2020-12-16 00:00:00\n",
      "40.879486083984375\n",
      "2020-12-17 00:00:00\n",
      "40.909339904785156\n",
      "38\n"
     ]
    },
    {
     "name": "stderr",
     "output_type": "stream",
     "text": [
      "C:\\Users\\gayat\\AppData\\Local\\Temp\\ipykernel_23816\\3272197425.py:34: FutureWarning: Passing literal html to 'read_html' is deprecated and will be removed in a future version. To read from a literal string, wrap it in a 'StringIO' object.\n",
      "  df = pd.read_html(str(table))[0]\n",
      "C:\\Users\\gayat\\AppData\\Local\\Temp\\ipykernel_23816\\3272197425.py:89: FutureWarning: Passing literal html to 'read_html' is deprecated and will be removed in a future version. To read from a literal string, wrap it in a 'StringIO' object.\n",
      "  df = pd.read_html(str(table))[0]\n",
      "C:\\Users\\gayat\\AppData\\Local\\Temp\\ipykernel_23816\\3272197425.py:34: FutureWarning: Passing literal html to 'read_html' is deprecated and will be removed in a future version. To read from a literal string, wrap it in a 'StringIO' object.\n",
      "  df = pd.read_html(str(table))[0]\n",
      "C:\\Users\\gayat\\AppData\\Local\\Temp\\ipykernel_23816\\3272197425.py:89: FutureWarning: Passing literal html to 'read_html' is deprecated and will be removed in a future version. To read from a literal string, wrap it in a 'StringIO' object.\n",
      "  df = pd.read_html(str(table))[0]\n"
     ]
    },
    {
     "name": "stdout",
     "output_type": "stream",
     "text": [
      "2018-02-06 00:00:00\n",
      "3036.68994140625\n",
      "2018-02-07 00:00:00\n",
      "2983.7099609375\n",
      "39\n"
     ]
    },
    {
     "name": "stderr",
     "output_type": "stream",
     "text": [
      "C:\\Users\\gayat\\AppData\\Local\\Temp\\ipykernel_23816\\3272197425.py:34: FutureWarning: Passing literal html to 'read_html' is deprecated and will be removed in a future version. To read from a literal string, wrap it in a 'StringIO' object.\n",
      "  df = pd.read_html(str(table))[0]\n",
      "C:\\Users\\gayat\\AppData\\Local\\Temp\\ipykernel_23816\\3272197425.py:89: FutureWarning: Passing literal html to 'read_html' is deprecated and will be removed in a future version. To read from a literal string, wrap it in a 'StringIO' object.\n",
      "  df = pd.read_html(str(table))[0]\n",
      "C:\\Users\\gayat\\AppData\\Local\\Temp\\ipykernel_23816\\3272197425.py:34: FutureWarning: Passing literal html to 'read_html' is deprecated and will be removed in a future version. To read from a literal string, wrap it in a 'StringIO' object.\n",
      "  df = pd.read_html(str(table))[0]\n",
      "C:\\Users\\gayat\\AppData\\Local\\Temp\\ipykernel_23816\\3272197425.py:89: FutureWarning: Passing literal html to 'read_html' is deprecated and will be removed in a future version. To read from a literal string, wrap it in a 'StringIO' object.\n",
      "  df = pd.read_html(str(table))[0]\n"
     ]
    },
    {
     "name": "stdout",
     "output_type": "stream",
     "text": [
      "2019-01-15 00:00:00\n",
      "68.23436737060547\n",
      "2019-01-16 00:00:00\n",
      "67.68348693847656\n",
      "40\n"
     ]
    },
    {
     "name": "stderr",
     "output_type": "stream",
     "text": [
      "C:\\Users\\gayat\\AppData\\Local\\Temp\\ipykernel_23816\\3272197425.py:34: FutureWarning: Passing literal html to 'read_html' is deprecated and will be removed in a future version. To read from a literal string, wrap it in a 'StringIO' object.\n",
      "  df = pd.read_html(str(table))[0]\n",
      "C:\\Users\\gayat\\AppData\\Local\\Temp\\ipykernel_23816\\3272197425.py:89: FutureWarning: Passing literal html to 'read_html' is deprecated and will be removed in a future version. To read from a literal string, wrap it in a 'StringIO' object.\n",
      "  df = pd.read_html(str(table))[0]\n",
      "C:\\Users\\gayat\\AppData\\Local\\Temp\\ipykernel_23816\\3272197425.py:34: FutureWarning: Passing literal html to 'read_html' is deprecated and will be removed in a future version. To read from a literal string, wrap it in a 'StringIO' object.\n",
      "  df = pd.read_html(str(table))[0]\n",
      "C:\\Users\\gayat\\AppData\\Local\\Temp\\ipykernel_23816\\3272197425.py:89: FutureWarning: Passing literal html to 'read_html' is deprecated and will be removed in a future version. To read from a literal string, wrap it in a 'StringIO' object.\n",
      "  df = pd.read_html(str(table))[0]\n"
     ]
    },
    {
     "name": "stdout",
     "output_type": "stream",
     "text": [
      "2021-07-21 00:00:00\n",
      "146.78109741210938\n",
      "2021-07-22 00:00:00\n",
      "148.11146545410156\n",
      "41\n"
     ]
    },
    {
     "name": "stderr",
     "output_type": "stream",
     "text": [
      "C:\\Users\\gayat\\AppData\\Local\\Temp\\ipykernel_23816\\3272197425.py:34: FutureWarning: Passing literal html to 'read_html' is deprecated and will be removed in a future version. To read from a literal string, wrap it in a 'StringIO' object.\n",
      "  df = pd.read_html(str(table))[0]\n"
     ]
    },
    {
     "name": "stdout",
     "output_type": "stream",
     "text": [
      "Table not found on the page.\n"
     ]
    },
    {
     "name": "stderr",
     "output_type": "stream",
     "text": [
      "C:\\Users\\gayat\\AppData\\Local\\Temp\\ipykernel_23816\\3272197425.py:89: FutureWarning: Passing literal html to 'read_html' is deprecated and will be removed in a future version. To read from a literal string, wrap it in a 'StringIO' object.\n",
      "  df = pd.read_html(str(table))[0]\n"
     ]
    },
    {
     "name": "stdout",
     "output_type": "stream",
     "text": [
      "Table not found on the page.\n"
     ]
    },
    {
     "name": "stderr",
     "output_type": "stream",
     "text": [
      "C:\\Users\\gayat\\AppData\\Local\\Temp\\ipykernel_23816\\3272197425.py:34: FutureWarning: Passing literal html to 'read_html' is deprecated and will be removed in a future version. To read from a literal string, wrap it in a 'StringIO' object.\n",
      "  df = pd.read_html(str(table))[0]\n"
     ]
    },
    {
     "name": "stdout",
     "output_type": "stream",
     "text": [
      "Table not found on the page.\n"
     ]
    },
    {
     "name": "stderr",
     "output_type": "stream",
     "text": [
      "C:\\Users\\gayat\\AppData\\Local\\Temp\\ipykernel_23816\\3272197425.py:89: FutureWarning: Passing literal html to 'read_html' is deprecated and will be removed in a future version. To read from a literal string, wrap it in a 'StringIO' object.\n",
      "  df = pd.read_html(str(table))[0]\n"
     ]
    },
    {
     "name": "stdout",
     "output_type": "stream",
     "text": [
      "Table not found on the page.\n",
      "2022-08-02 00:00:00\n",
      "57.861488342285156\n",
      "2022-08-03 00:00:00\n",
      "57.764564514160156\n",
      "42\n"
     ]
    },
    {
     "name": "stderr",
     "output_type": "stream",
     "text": [
      "C:\\Users\\gayat\\AppData\\Local\\Temp\\ipykernel_23816\\3272197425.py:34: FutureWarning: Passing literal html to 'read_html' is deprecated and will be removed in a future version. To read from a literal string, wrap it in a 'StringIO' object.\n",
      "  df = pd.read_html(str(table))[0]\n",
      "C:\\Users\\gayat\\AppData\\Local\\Temp\\ipykernel_23816\\3272197425.py:89: FutureWarning: Passing literal html to 'read_html' is deprecated and will be removed in a future version. To read from a literal string, wrap it in a 'StringIO' object.\n",
      "  df = pd.read_html(str(table))[0]\n",
      "C:\\Users\\gayat\\AppData\\Local\\Temp\\ipykernel_23816\\3272197425.py:34: FutureWarning: Passing literal html to 'read_html' is deprecated and will be removed in a future version. To read from a literal string, wrap it in a 'StringIO' object.\n",
      "  df = pd.read_html(str(table))[0]\n",
      "C:\\Users\\gayat\\AppData\\Local\\Temp\\ipykernel_23816\\3272197425.py:89: FutureWarning: Passing literal html to 'read_html' is deprecated and will be removed in a future version. To read from a literal string, wrap it in a 'StringIO' object.\n",
      "  df = pd.read_html(str(table))[0]\n"
     ]
    },
    {
     "name": "stdout",
     "output_type": "stream",
     "text": [
      "2018-08-20 00:00:00\n",
      "94.10014343261719\n",
      "2018-08-21 00:00:00\n",
      "96.24054718017578\n",
      "43\n"
     ]
    },
    {
     "name": "stderr",
     "output_type": "stream",
     "text": [
      "C:\\Users\\gayat\\AppData\\Local\\Temp\\ipykernel_23816\\3272197425.py:34: FutureWarning: Passing literal html to 'read_html' is deprecated and will be removed in a future version. To read from a literal string, wrap it in a 'StringIO' object.\n",
      "  df = pd.read_html(str(table))[0]\n",
      "C:\\Users\\gayat\\AppData\\Local\\Temp\\ipykernel_23816\\3272197425.py:89: FutureWarning: Passing literal html to 'read_html' is deprecated and will be removed in a future version. To read from a literal string, wrap it in a 'StringIO' object.\n",
      "  df = pd.read_html(str(table))[0]\n",
      "C:\\Users\\gayat\\AppData\\Local\\Temp\\ipykernel_23816\\3272197425.py:34: FutureWarning: Passing literal html to 'read_html' is deprecated and will be removed in a future version. To read from a literal string, wrap it in a 'StringIO' object.\n",
      "  df = pd.read_html(str(table))[0]\n",
      "C:\\Users\\gayat\\AppData\\Local\\Temp\\ipykernel_23816\\3272197425.py:89: FutureWarning: Passing literal html to 'read_html' is deprecated and will be removed in a future version. To read from a literal string, wrap it in a 'StringIO' object.\n",
      "  df = pd.read_html(str(table))[0]\n"
     ]
    },
    {
     "name": "stdout",
     "output_type": "stream",
     "text": [
      "2022-06-23 00:00:00\n",
      "55.381690979003906\n",
      "2022-06-24 00:00:00\n",
      "56.79363250732422\n",
      "44\n"
     ]
    },
    {
     "name": "stderr",
     "output_type": "stream",
     "text": [
      "C:\\Users\\gayat\\AppData\\Local\\Temp\\ipykernel_23816\\3272197425.py:34: FutureWarning: Passing literal html to 'read_html' is deprecated and will be removed in a future version. To read from a literal string, wrap it in a 'StringIO' object.\n",
      "  df = pd.read_html(str(table))[0]\n",
      "C:\\Users\\gayat\\AppData\\Local\\Temp\\ipykernel_23816\\3272197425.py:89: FutureWarning: Passing literal html to 'read_html' is deprecated and will be removed in a future version. To read from a literal string, wrap it in a 'StringIO' object.\n",
      "  df = pd.read_html(str(table))[0]\n",
      "C:\\Users\\gayat\\AppData\\Local\\Temp\\ipykernel_23816\\3272197425.py:34: FutureWarning: Passing literal html to 'read_html' is deprecated and will be removed in a future version. To read from a literal string, wrap it in a 'StringIO' object.\n",
      "  df = pd.read_html(str(table))[0]\n",
      "C:\\Users\\gayat\\AppData\\Local\\Temp\\ipykernel_23816\\3272197425.py:89: FutureWarning: Passing literal html to 'read_html' is deprecated and will be removed in a future version. To read from a literal string, wrap it in a 'StringIO' object.\n",
      "  df = pd.read_html(str(table))[0]\n"
     ]
    },
    {
     "name": "stdout",
     "output_type": "stream",
     "text": [
      "2020-10-06 00:00:00\n",
      "81.22000122070312\n",
      "2020-10-07 00:00:00\n",
      "83.20999908447266\n",
      "45\n"
     ]
    },
    {
     "name": "stderr",
     "output_type": "stream",
     "text": [
      "C:\\Users\\gayat\\AppData\\Local\\Temp\\ipykernel_23816\\3272197425.py:34: FutureWarning: Passing literal html to 'read_html' is deprecated and will be removed in a future version. To read from a literal string, wrap it in a 'StringIO' object.\n",
      "  df = pd.read_html(str(table))[0]\n",
      "C:\\Users\\gayat\\AppData\\Local\\Temp\\ipykernel_23816\\3272197425.py:89: FutureWarning: Passing literal html to 'read_html' is deprecated and will be removed in a future version. To read from a literal string, wrap it in a 'StringIO' object.\n",
      "  df = pd.read_html(str(table))[0]\n",
      "C:\\Users\\gayat\\AppData\\Local\\Temp\\ipykernel_23816\\3272197425.py:34: FutureWarning: Passing literal html to 'read_html' is deprecated and will be removed in a future version. To read from a literal string, wrap it in a 'StringIO' object.\n",
      "  df = pd.read_html(str(table))[0]\n",
      "C:\\Users\\gayat\\AppData\\Local\\Temp\\ipykernel_23816\\3272197425.py:89: FutureWarning: Passing literal html to 'read_html' is deprecated and will be removed in a future version. To read from a literal string, wrap it in a 'StringIO' object.\n",
      "  df = pd.read_html(str(table))[0]\n"
     ]
    },
    {
     "name": "stdout",
     "output_type": "stream",
     "text": [
      "2018-06-25 00:00:00\n",
      "83.929931640625\n",
      "2018-06-26 00:00:00\n",
      "83.78738403320312\n",
      "46\n"
     ]
    },
    {
     "name": "stderr",
     "output_type": "stream",
     "text": [
      "C:\\Users\\gayat\\AppData\\Local\\Temp\\ipykernel_23816\\3272197425.py:34: FutureWarning: Passing literal html to 'read_html' is deprecated and will be removed in a future version. To read from a literal string, wrap it in a 'StringIO' object.\n",
      "  df = pd.read_html(str(table))[0]\n",
      "C:\\Users\\gayat\\AppData\\Local\\Temp\\ipykernel_23816\\3272197425.py:89: FutureWarning: Passing literal html to 'read_html' is deprecated and will be removed in a future version. To read from a literal string, wrap it in a 'StringIO' object.\n",
      "  df = pd.read_html(str(table))[0]\n",
      "C:\\Users\\gayat\\AppData\\Local\\Temp\\ipykernel_23816\\3272197425.py:34: FutureWarning: Passing literal html to 'read_html' is deprecated and will be removed in a future version. To read from a literal string, wrap it in a 'StringIO' object.\n",
      "  df = pd.read_html(str(table))[0]\n",
      "C:\\Users\\gayat\\AppData\\Local\\Temp\\ipykernel_23816\\3272197425.py:89: FutureWarning: Passing literal html to 'read_html' is deprecated and will be removed in a future version. To read from a literal string, wrap it in a 'StringIO' object.\n",
      "  df = pd.read_html(str(table))[0]\n"
     ]
    },
    {
     "name": "stdout",
     "output_type": "stream",
     "text": [
      "2020-08-17 00:00:00\n",
      "36.25013732910156\n",
      "2020-08-18 00:00:00\n",
      "35.88800048828125\n",
      "47\n"
     ]
    },
    {
     "name": "stderr",
     "output_type": "stream",
     "text": [
      "C:\\Users\\gayat\\AppData\\Local\\Temp\\ipykernel_23816\\3272197425.py:34: FutureWarning: Passing literal html to 'read_html' is deprecated and will be removed in a future version. To read from a literal string, wrap it in a 'StringIO' object.\n",
      "  df = pd.read_html(str(table))[0]\n",
      "C:\\Users\\gayat\\AppData\\Local\\Temp\\ipykernel_23816\\3272197425.py:89: FutureWarning: Passing literal html to 'read_html' is deprecated and will be removed in a future version. To read from a literal string, wrap it in a 'StringIO' object.\n",
      "  df = pd.read_html(str(table))[0]\n",
      "C:\\Users\\gayat\\AppData\\Local\\Temp\\ipykernel_23816\\3272197425.py:34: FutureWarning: Passing literal html to 'read_html' is deprecated and will be removed in a future version. To read from a literal string, wrap it in a 'StringIO' object.\n",
      "  df = pd.read_html(str(table))[0]\n",
      "C:\\Users\\gayat\\AppData\\Local\\Temp\\ipykernel_23816\\3272197425.py:89: FutureWarning: Passing literal html to 'read_html' is deprecated and will be removed in a future version. To read from a literal string, wrap it in a 'StringIO' object.\n",
      "  df = pd.read_html(str(table))[0]\n"
     ]
    },
    {
     "name": "stdout",
     "output_type": "stream",
     "text": [
      "2022-12-08 00:00:00\n",
      "136.614501953125\n",
      "2022-12-09 00:00:00\n",
      "136.88340759277344\n",
      "48\n"
     ]
    },
    {
     "name": "stderr",
     "output_type": "stream",
     "text": [
      "C:\\Users\\gayat\\AppData\\Local\\Temp\\ipykernel_23816\\3272197425.py:34: FutureWarning: Passing literal html to 'read_html' is deprecated and will be removed in a future version. To read from a literal string, wrap it in a 'StringIO' object.\n",
      "  df = pd.read_html(str(table))[0]\n",
      "C:\\Users\\gayat\\AppData\\Local\\Temp\\ipykernel_23816\\3272197425.py:89: FutureWarning: Passing literal html to 'read_html' is deprecated and will be removed in a future version. To read from a literal string, wrap it in a 'StringIO' object.\n",
      "  df = pd.read_html(str(table))[0]\n",
      "C:\\Users\\gayat\\AppData\\Local\\Temp\\ipykernel_23816\\3272197425.py:34: FutureWarning: Passing literal html to 'read_html' is deprecated and will be removed in a future version. To read from a literal string, wrap it in a 'StringIO' object.\n",
      "  df = pd.read_html(str(table))[0]\n",
      "C:\\Users\\gayat\\AppData\\Local\\Temp\\ipykernel_23816\\3272197425.py:89: FutureWarning: Passing literal html to 'read_html' is deprecated and will be removed in a future version. To read from a literal string, wrap it in a 'StringIO' object.\n",
      "  df = pd.read_html(str(table))[0]\n"
     ]
    },
    {
     "name": "stdout",
     "output_type": "stream",
     "text": [
      "2016-03-18 00:00:00\n",
      "95.46160125732422\n",
      "2016-03-21 00:00:00\n",
      "95.45280456542969\n",
      "49\n"
     ]
    },
    {
     "name": "stderr",
     "output_type": "stream",
     "text": [
      "C:\\Users\\gayat\\AppData\\Local\\Temp\\ipykernel_23816\\3272197425.py:34: FutureWarning: Passing literal html to 'read_html' is deprecated and will be removed in a future version. To read from a literal string, wrap it in a 'StringIO' object.\n",
      "  df = pd.read_html(str(table))[0]\n",
      "C:\\Users\\gayat\\AppData\\Local\\Temp\\ipykernel_23816\\3272197425.py:89: FutureWarning: Passing literal html to 'read_html' is deprecated and will be removed in a future version. To read from a literal string, wrap it in a 'StringIO' object.\n",
      "  df = pd.read_html(str(table))[0]\n",
      "C:\\Users\\gayat\\AppData\\Local\\Temp\\ipykernel_23816\\3272197425.py:34: FutureWarning: Passing literal html to 'read_html' is deprecated and will be removed in a future version. To read from a literal string, wrap it in a 'StringIO' object.\n",
      "  df = pd.read_html(str(table))[0]\n",
      "C:\\Users\\gayat\\AppData\\Local\\Temp\\ipykernel_23816\\3272197425.py:89: FutureWarning: Passing literal html to 'read_html' is deprecated and will be removed in a future version. To read from a literal string, wrap it in a 'StringIO' object.\n",
      "  df = pd.read_html(str(table))[0]\n"
     ]
    },
    {
     "name": "stdout",
     "output_type": "stream",
     "text": [
      "2022-09-02 00:00:00\n",
      "48.871421813964844\n",
      "2022-09-05 00:00:00\n",
      "48.871421813964844\n",
      "50\n"
     ]
    },
    {
     "name": "stderr",
     "output_type": "stream",
     "text": [
      "C:\\Users\\gayat\\AppData\\Local\\Temp\\ipykernel_23816\\3272197425.py:34: FutureWarning: Passing literal html to 'read_html' is deprecated and will be removed in a future version. To read from a literal string, wrap it in a 'StringIO' object.\n",
      "  df = pd.read_html(str(table))[0]\n",
      "C:\\Users\\gayat\\AppData\\Local\\Temp\\ipykernel_23816\\3272197425.py:89: FutureWarning: Passing literal html to 'read_html' is deprecated and will be removed in a future version. To read from a literal string, wrap it in a 'StringIO' object.\n",
      "  df = pd.read_html(str(table))[0]\n",
      "C:\\Users\\gayat\\AppData\\Local\\Temp\\ipykernel_23816\\3272197425.py:34: FutureWarning: Passing literal html to 'read_html' is deprecated and will be removed in a future version. To read from a literal string, wrap it in a 'StringIO' object.\n",
      "  df = pd.read_html(str(table))[0]\n",
      "C:\\Users\\gayat\\AppData\\Local\\Temp\\ipykernel_23816\\3272197425.py:89: FutureWarning: Passing literal html to 'read_html' is deprecated and will be removed in a future version. To read from a literal string, wrap it in a 'StringIO' object.\n",
      "  df = pd.read_html(str(table))[0]\n"
     ]
    },
    {
     "name": "stdout",
     "output_type": "stream",
     "text": [
      "2020-02-26 00:00:00\n",
      "51.869998931884766\n",
      "2020-02-27 00:00:00\n",
      "48.7599983215332\n",
      "51\n"
     ]
    },
    {
     "name": "stderr",
     "output_type": "stream",
     "text": [
      "C:\\Users\\gayat\\AppData\\Local\\Temp\\ipykernel_23816\\3272197425.py:34: FutureWarning: Passing literal html to 'read_html' is deprecated and will be removed in a future version. To read from a literal string, wrap it in a 'StringIO' object.\n",
      "  df = pd.read_html(str(table))[0]\n",
      "C:\\Users\\gayat\\AppData\\Local\\Temp\\ipykernel_23816\\3272197425.py:89: FutureWarning: Passing literal html to 'read_html' is deprecated and will be removed in a future version. To read from a literal string, wrap it in a 'StringIO' object.\n",
      "  df = pd.read_html(str(table))[0]\n",
      "C:\\Users\\gayat\\AppData\\Local\\Temp\\ipykernel_23816\\3272197425.py:34: FutureWarning: Passing literal html to 'read_html' is deprecated and will be removed in a future version. To read from a literal string, wrap it in a 'StringIO' object.\n",
      "  df = pd.read_html(str(table))[0]\n",
      "C:\\Users\\gayat\\AppData\\Local\\Temp\\ipykernel_23816\\3272197425.py:89: FutureWarning: Passing literal html to 'read_html' is deprecated and will be removed in a future version. To read from a literal string, wrap it in a 'StringIO' object.\n",
      "  df = pd.read_html(str(table))[0]\n"
     ]
    },
    {
     "name": "stdout",
     "output_type": "stream",
     "text": [
      "2015-01-01 00:00:00\n",
      "94.76911163330078\n",
      "2015-01-02 00:00:00\n",
      "94.57870483398438\n",
      "52\n"
     ]
    },
    {
     "name": "stderr",
     "output_type": "stream",
     "text": [
      "C:\\Users\\gayat\\AppData\\Local\\Temp\\ipykernel_23816\\3272197425.py:34: FutureWarning: Passing literal html to 'read_html' is deprecated and will be removed in a future version. To read from a literal string, wrap it in a 'StringIO' object.\n",
      "  df = pd.read_html(str(table))[0]\n",
      "C:\\Users\\gayat\\AppData\\Local\\Temp\\ipykernel_23816\\3272197425.py:89: FutureWarning: Passing literal html to 'read_html' is deprecated and will be removed in a future version. To read from a literal string, wrap it in a 'StringIO' object.\n",
      "  df = pd.read_html(str(table))[0]\n",
      "C:\\Users\\gayat\\AppData\\Local\\Temp\\ipykernel_23816\\3272197425.py:34: FutureWarning: Passing literal html to 'read_html' is deprecated and will be removed in a future version. To read from a literal string, wrap it in a 'StringIO' object.\n",
      "  df = pd.read_html(str(table))[0]\n",
      "C:\\Users\\gayat\\AppData\\Local\\Temp\\ipykernel_23816\\3272197425.py:89: FutureWarning: Passing literal html to 'read_html' is deprecated and will be removed in a future version. To read from a literal string, wrap it in a 'StringIO' object.\n",
      "  df = pd.read_html(str(table))[0]\n"
     ]
    },
    {
     "name": "stdout",
     "output_type": "stream",
     "text": [
      "2018-08-09 00:00:00\n",
      "207.75514221191406\n",
      "2018-08-10 00:00:00\n",
      "204.0493621826172\n",
      "53\n"
     ]
    },
    {
     "name": "stderr",
     "output_type": "stream",
     "text": [
      "C:\\Users\\gayat\\AppData\\Local\\Temp\\ipykernel_23816\\3272197425.py:34: FutureWarning: Passing literal html to 'read_html' is deprecated and will be removed in a future version. To read from a literal string, wrap it in a 'StringIO' object.\n",
      "  df = pd.read_html(str(table))[0]\n",
      "C:\\Users\\gayat\\AppData\\Local\\Temp\\ipykernel_23816\\3272197425.py:89: FutureWarning: Passing literal html to 'read_html' is deprecated and will be removed in a future version. To read from a literal string, wrap it in a 'StringIO' object.\n",
      "  df = pd.read_html(str(table))[0]\n",
      "C:\\Users\\gayat\\AppData\\Local\\Temp\\ipykernel_23816\\3272197425.py:34: FutureWarning: Passing literal html to 'read_html' is deprecated and will be removed in a future version. To read from a literal string, wrap it in a 'StringIO' object.\n",
      "  df = pd.read_html(str(table))[0]\n",
      "C:\\Users\\gayat\\AppData\\Local\\Temp\\ipykernel_23816\\3272197425.py:89: FutureWarning: Passing literal html to 'read_html' is deprecated and will be removed in a future version. To read from a literal string, wrap it in a 'StringIO' object.\n",
      "  df = pd.read_html(str(table))[0]\n"
     ]
    },
    {
     "name": "stdout",
     "output_type": "stream",
     "text": [
      "2016-06-08 00:00:00\n",
      "202.3328857421875\n",
      "2016-06-09 00:00:00\n",
      "199.31472778320312\n",
      "54\n"
     ]
    },
    {
     "name": "stderr",
     "output_type": "stream",
     "text": [
      "C:\\Users\\gayat\\AppData\\Local\\Temp\\ipykernel_23816\\3272197425.py:34: FutureWarning: Passing literal html to 'read_html' is deprecated and will be removed in a future version. To read from a literal string, wrap it in a 'StringIO' object.\n",
      "  df = pd.read_html(str(table))[0]\n",
      "C:\\Users\\gayat\\AppData\\Local\\Temp\\ipykernel_23816\\3272197425.py:89: FutureWarning: Passing literal html to 'read_html' is deprecated and will be removed in a future version. To read from a literal string, wrap it in a 'StringIO' object.\n",
      "  df = pd.read_html(str(table))[0]\n",
      "C:\\Users\\gayat\\AppData\\Local\\Temp\\ipykernel_23816\\3272197425.py:34: FutureWarning: Passing literal html to 'read_html' is deprecated and will be removed in a future version. To read from a literal string, wrap it in a 'StringIO' object.\n",
      "  df = pd.read_html(str(table))[0]\n",
      "C:\\Users\\gayat\\AppData\\Local\\Temp\\ipykernel_23816\\3272197425.py:89: FutureWarning: Passing literal html to 'read_html' is deprecated and will be removed in a future version. To read from a literal string, wrap it in a 'StringIO' object.\n",
      "  df = pd.read_html(str(table))[0]\n"
     ]
    },
    {
     "name": "stdout",
     "output_type": "stream",
     "text": [
      "2017-07-11 00:00:00\n",
      "60.7603874206543\n",
      "2017-07-12 00:00:00\n",
      "60.24479675292969\n",
      "55\n"
     ]
    },
    {
     "name": "stderr",
     "output_type": "stream",
     "text": [
      "C:\\Users\\gayat\\AppData\\Local\\Temp\\ipykernel_23816\\3272197425.py:34: FutureWarning: Passing literal html to 'read_html' is deprecated and will be removed in a future version. To read from a literal string, wrap it in a 'StringIO' object.\n",
      "  df = pd.read_html(str(table))[0]\n",
      "C:\\Users\\gayat\\AppData\\Local\\Temp\\ipykernel_23816\\3272197425.py:89: FutureWarning: Passing literal html to 'read_html' is deprecated and will be removed in a future version. To read from a literal string, wrap it in a 'StringIO' object.\n",
      "  df = pd.read_html(str(table))[0]\n",
      "C:\\Users\\gayat\\AppData\\Local\\Temp\\ipykernel_23816\\3272197425.py:34: FutureWarning: Passing literal html to 'read_html' is deprecated and will be removed in a future version. To read from a literal string, wrap it in a 'StringIO' object.\n",
      "  df = pd.read_html(str(table))[0]\n",
      "C:\\Users\\gayat\\AppData\\Local\\Temp\\ipykernel_23816\\3272197425.py:89: FutureWarning: Passing literal html to 'read_html' is deprecated and will be removed in a future version. To read from a literal string, wrap it in a 'StringIO' object.\n",
      "  df = pd.read_html(str(table))[0]\n"
     ]
    },
    {
     "name": "stdout",
     "output_type": "stream",
     "text": [
      "2018-08-20 00:00:00\n",
      "116.25341033935547\n",
      "2018-08-21 00:00:00\n",
      "116.50993347167969\n",
      "56\n"
     ]
    },
    {
     "name": "stderr",
     "output_type": "stream",
     "text": [
      "C:\\Users\\gayat\\AppData\\Local\\Temp\\ipykernel_23816\\3272197425.py:34: FutureWarning: Passing literal html to 'read_html' is deprecated and will be removed in a future version. To read from a literal string, wrap it in a 'StringIO' object.\n",
      "  df = pd.read_html(str(table))[0]\n",
      "C:\\Users\\gayat\\AppData\\Local\\Temp\\ipykernel_23816\\3272197425.py:89: FutureWarning: Passing literal html to 'read_html' is deprecated and will be removed in a future version. To read from a literal string, wrap it in a 'StringIO' object.\n",
      "  df = pd.read_html(str(table))[0]\n",
      "C:\\Users\\gayat\\AppData\\Local\\Temp\\ipykernel_23816\\3272197425.py:34: FutureWarning: Passing literal html to 'read_html' is deprecated and will be removed in a future version. To read from a literal string, wrap it in a 'StringIO' object.\n",
      "  df = pd.read_html(str(table))[0]\n",
      "C:\\Users\\gayat\\AppData\\Local\\Temp\\ipykernel_23816\\3272197425.py:89: FutureWarning: Passing literal html to 'read_html' is deprecated and will be removed in a future version. To read from a literal string, wrap it in a 'StringIO' object.\n",
      "  df = pd.read_html(str(table))[0]\n"
     ]
    },
    {
     "name": "stdout",
     "output_type": "stream",
     "text": [
      "2022-01-05 00:00:00\n",
      "89.5859375\n",
      "2022-01-06 00:00:00\n",
      "91.63563537597656\n",
      "57\n"
     ]
    },
    {
     "name": "stderr",
     "output_type": "stream",
     "text": [
      "C:\\Users\\gayat\\AppData\\Local\\Temp\\ipykernel_23816\\3272197425.py:34: FutureWarning: Passing literal html to 'read_html' is deprecated and will be removed in a future version. To read from a literal string, wrap it in a 'StringIO' object.\n",
      "  df = pd.read_html(str(table))[0]\n",
      "C:\\Users\\gayat\\AppData\\Local\\Temp\\ipykernel_23816\\3272197425.py:89: FutureWarning: Passing literal html to 'read_html' is deprecated and will be removed in a future version. To read from a literal string, wrap it in a 'StringIO' object.\n",
      "  df = pd.read_html(str(table))[0]\n",
      "C:\\Users\\gayat\\AppData\\Local\\Temp\\ipykernel_23816\\3272197425.py:34: FutureWarning: Passing literal html to 'read_html' is deprecated and will be removed in a future version. To read from a literal string, wrap it in a 'StringIO' object.\n",
      "  df = pd.read_html(str(table))[0]\n",
      "C:\\Users\\gayat\\AppData\\Local\\Temp\\ipykernel_23816\\3272197425.py:89: FutureWarning: Passing literal html to 'read_html' is deprecated and will be removed in a future version. To read from a literal string, wrap it in a 'StringIO' object.\n",
      "  df = pd.read_html(str(table))[0]\n"
     ]
    },
    {
     "name": "stdout",
     "output_type": "stream",
     "text": [
      "2017-12-21 00:00:00\n",
      "60.056819915771484\n",
      "2017-12-22 00:00:00\n",
      "59.675785064697266\n",
      "58\n"
     ]
    },
    {
     "name": "stderr",
     "output_type": "stream",
     "text": [
      "C:\\Users\\gayat\\AppData\\Local\\Temp\\ipykernel_23816\\3272197425.py:34: FutureWarning: Passing literal html to 'read_html' is deprecated and will be removed in a future version. To read from a literal string, wrap it in a 'StringIO' object.\n",
      "  df = pd.read_html(str(table))[0]\n",
      "C:\\Users\\gayat\\AppData\\Local\\Temp\\ipykernel_23816\\3272197425.py:89: FutureWarning: Passing literal html to 'read_html' is deprecated and will be removed in a future version. To read from a literal string, wrap it in a 'StringIO' object.\n",
      "  df = pd.read_html(str(table))[0]\n",
      "C:\\Users\\gayat\\AppData\\Local\\Temp\\ipykernel_23816\\3272197425.py:34: FutureWarning: Passing literal html to 'read_html' is deprecated and will be removed in a future version. To read from a literal string, wrap it in a 'StringIO' object.\n",
      "  df = pd.read_html(str(table))[0]\n",
      "C:\\Users\\gayat\\AppData\\Local\\Temp\\ipykernel_23816\\3272197425.py:89: FutureWarning: Passing literal html to 'read_html' is deprecated and will be removed in a future version. To read from a literal string, wrap it in a 'StringIO' object.\n",
      "  df = pd.read_html(str(table))[0]\n"
     ]
    },
    {
     "name": "stdout",
     "output_type": "stream",
     "text": [
      "2022-07-12 00:00:00\n",
      "211.3699951171875\n",
      "2022-07-13 00:00:00\n",
      "207.9199981689453\n",
      "59\n"
     ]
    },
    {
     "name": "stderr",
     "output_type": "stream",
     "text": [
      "C:\\Users\\gayat\\AppData\\Local\\Temp\\ipykernel_23816\\3272197425.py:34: FutureWarning: Passing literal html to 'read_html' is deprecated and will be removed in a future version. To read from a literal string, wrap it in a 'StringIO' object.\n",
      "  df = pd.read_html(str(table))[0]\n",
      "C:\\Users\\gayat\\AppData\\Local\\Temp\\ipykernel_23816\\3272197425.py:89: FutureWarning: Passing literal html to 'read_html' is deprecated and will be removed in a future version. To read from a literal string, wrap it in a 'StringIO' object.\n",
      "  df = pd.read_html(str(table))[0]\n",
      "C:\\Users\\gayat\\AppData\\Local\\Temp\\ipykernel_23816\\3272197425.py:34: FutureWarning: Passing literal html to 'read_html' is deprecated and will be removed in a future version. To read from a literal string, wrap it in a 'StringIO' object.\n",
      "  df = pd.read_html(str(table))[0]\n",
      "C:\\Users\\gayat\\AppData\\Local\\Temp\\ipykernel_23816\\3272197425.py:89: FutureWarning: Passing literal html to 'read_html' is deprecated and will be removed in a future version. To read from a literal string, wrap it in a 'StringIO' object.\n",
      "  df = pd.read_html(str(table))[0]\n"
     ]
    },
    {
     "name": "stdout",
     "output_type": "stream",
     "text": [
      "2022-01-24 00:00:00\n",
      "519.6599731445312\n",
      "2022-01-25 00:00:00\n",
      "502.7200012207031\n",
      "60\n"
     ]
    },
    {
     "name": "stderr",
     "output_type": "stream",
     "text": [
      "C:\\Users\\gayat\\AppData\\Local\\Temp\\ipykernel_23816\\3272197425.py:34: FutureWarning: Passing literal html to 'read_html' is deprecated and will be removed in a future version. To read from a literal string, wrap it in a 'StringIO' object.\n",
      "  df = pd.read_html(str(table))[0]\n",
      "C:\\Users\\gayat\\AppData\\Local\\Temp\\ipykernel_23816\\3272197425.py:89: FutureWarning: Passing literal html to 'read_html' is deprecated and will be removed in a future version. To read from a literal string, wrap it in a 'StringIO' object.\n",
      "  df = pd.read_html(str(table))[0]\n",
      "C:\\Users\\gayat\\AppData\\Local\\Temp\\ipykernel_23816\\3272197425.py:34: FutureWarning: Passing literal html to 'read_html' is deprecated and will be removed in a future version. To read from a literal string, wrap it in a 'StringIO' object.\n",
      "  df = pd.read_html(str(table))[0]\n",
      "C:\\Users\\gayat\\AppData\\Local\\Temp\\ipykernel_23816\\3272197425.py:89: FutureWarning: Passing literal html to 'read_html' is deprecated and will be removed in a future version. To read from a literal string, wrap it in a 'StringIO' object.\n",
      "  df = pd.read_html(str(table))[0]\n"
     ]
    },
    {
     "name": "stdout",
     "output_type": "stream",
     "text": [
      "2019-09-26 00:00:00\n",
      "36.3410530090332\n",
      "2019-09-27 00:00:00\n",
      "36.17055892944336\n",
      "61\n"
     ]
    },
    {
     "name": "stderr",
     "output_type": "stream",
     "text": [
      "C:\\Users\\gayat\\AppData\\Local\\Temp\\ipykernel_23816\\3272197425.py:34: FutureWarning: Passing literal html to 'read_html' is deprecated and will be removed in a future version. To read from a literal string, wrap it in a 'StringIO' object.\n",
      "  df = pd.read_html(str(table))[0]\n",
      "C:\\Users\\gayat\\AppData\\Local\\Temp\\ipykernel_23816\\3272197425.py:89: FutureWarning: Passing literal html to 'read_html' is deprecated and will be removed in a future version. To read from a literal string, wrap it in a 'StringIO' object.\n",
      "  df = pd.read_html(str(table))[0]\n",
      "C:\\Users\\gayat\\AppData\\Local\\Temp\\ipykernel_23816\\3272197425.py:34: FutureWarning: Passing literal html to 'read_html' is deprecated and will be removed in a future version. To read from a literal string, wrap it in a 'StringIO' object.\n",
      "  df = pd.read_html(str(table))[0]\n",
      "C:\\Users\\gayat\\AppData\\Local\\Temp\\ipykernel_23816\\3272197425.py:89: FutureWarning: Passing literal html to 'read_html' is deprecated and will be removed in a future version. To read from a literal string, wrap it in a 'StringIO' object.\n",
      "  df = pd.read_html(str(table))[0]\n"
     ]
    },
    {
     "name": "stdout",
     "output_type": "stream",
     "text": [
      "2020-03-27 00:00:00\n",
      "34.95335388183594\n",
      "2020-03-30 00:00:00\n",
      "36.2861213684082\n",
      "62\n"
     ]
    },
    {
     "name": "stderr",
     "output_type": "stream",
     "text": [
      "C:\\Users\\gayat\\AppData\\Local\\Temp\\ipykernel_23816\\3272197425.py:34: FutureWarning: Passing literal html to 'read_html' is deprecated and will be removed in a future version. To read from a literal string, wrap it in a 'StringIO' object.\n",
      "  df = pd.read_html(str(table))[0]\n",
      "C:\\Users\\gayat\\AppData\\Local\\Temp\\ipykernel_23816\\3272197425.py:89: FutureWarning: Passing literal html to 'read_html' is deprecated and will be removed in a future version. To read from a literal string, wrap it in a 'StringIO' object.\n",
      "  df = pd.read_html(str(table))[0]\n",
      "C:\\Users\\gayat\\AppData\\Local\\Temp\\ipykernel_23816\\3272197425.py:34: FutureWarning: Passing literal html to 'read_html' is deprecated and will be removed in a future version. To read from a literal string, wrap it in a 'StringIO' object.\n",
      "  df = pd.read_html(str(table))[0]\n",
      "C:\\Users\\gayat\\AppData\\Local\\Temp\\ipykernel_23816\\3272197425.py:89: FutureWarning: Passing literal html to 'read_html' is deprecated and will be removed in a future version. To read from a literal string, wrap it in a 'StringIO' object.\n",
      "  df = pd.read_html(str(table))[0]\n"
     ]
    },
    {
     "name": "stdout",
     "output_type": "stream",
     "text": [
      "2016-05-03 00:00:00\n",
      "18.156700134277344\n",
      "2016-05-04 00:00:00\n",
      "18.48668098449707\n",
      "63\n"
     ]
    },
    {
     "name": "stderr",
     "output_type": "stream",
     "text": [
      "C:\\Users\\gayat\\AppData\\Local\\Temp\\ipykernel_23816\\3272197425.py:34: FutureWarning: Passing literal html to 'read_html' is deprecated and will be removed in a future version. To read from a literal string, wrap it in a 'StringIO' object.\n",
      "  df = pd.read_html(str(table))[0]\n",
      "C:\\Users\\gayat\\AppData\\Local\\Temp\\ipykernel_23816\\3272197425.py:89: FutureWarning: Passing literal html to 'read_html' is deprecated and will be removed in a future version. To read from a literal string, wrap it in a 'StringIO' object.\n",
      "  df = pd.read_html(str(table))[0]\n",
      "C:\\Users\\gayat\\AppData\\Local\\Temp\\ipykernel_23816\\3272197425.py:34: FutureWarning: Passing literal html to 'read_html' is deprecated and will be removed in a future version. To read from a literal string, wrap it in a 'StringIO' object.\n",
      "  df = pd.read_html(str(table))[0]\n",
      "C:\\Users\\gayat\\AppData\\Local\\Temp\\ipykernel_23816\\3272197425.py:89: FutureWarning: Passing literal html to 'read_html' is deprecated and will be removed in a future version. To read from a literal string, wrap it in a 'StringIO' object.\n",
      "  df = pd.read_html(str(table))[0]\n"
     ]
    },
    {
     "name": "stdout",
     "output_type": "stream",
     "text": [
      "2023-02-20 00:00:00\n",
      "65.73308563232422\n",
      "2023-02-21 00:00:00\n",
      "65.48725891113281\n",
      "64\n"
     ]
    },
    {
     "name": "stderr",
     "output_type": "stream",
     "text": [
      "C:\\Users\\gayat\\AppData\\Local\\Temp\\ipykernel_23816\\3272197425.py:34: FutureWarning: Passing literal html to 'read_html' is deprecated and will be removed in a future version. To read from a literal string, wrap it in a 'StringIO' object.\n",
      "  df = pd.read_html(str(table))[0]\n",
      "C:\\Users\\gayat\\AppData\\Local\\Temp\\ipykernel_23816\\3272197425.py:89: FutureWarning: Passing literal html to 'read_html' is deprecated and will be removed in a future version. To read from a literal string, wrap it in a 'StringIO' object.\n",
      "  df = pd.read_html(str(table))[0]\n",
      "C:\\Users\\gayat\\AppData\\Local\\Temp\\ipykernel_23816\\3272197425.py:34: FutureWarning: Passing literal html to 'read_html' is deprecated and will be removed in a future version. To read from a literal string, wrap it in a 'StringIO' object.\n",
      "  df = pd.read_html(str(table))[0]\n",
      "C:\\Users\\gayat\\AppData\\Local\\Temp\\ipykernel_23816\\3272197425.py:89: FutureWarning: Passing literal html to 'read_html' is deprecated and will be removed in a future version. To read from a literal string, wrap it in a 'StringIO' object.\n",
      "  df = pd.read_html(str(table))[0]\n"
     ]
    },
    {
     "name": "stdout",
     "output_type": "stream",
     "text": [
      "2021-12-14 00:00:00\n",
      "78.16836547851562\n",
      "2021-12-15 00:00:00\n",
      "78.76795959472656\n",
      "65\n"
     ]
    },
    {
     "name": "stderr",
     "output_type": "stream",
     "text": [
      "C:\\Users\\gayat\\AppData\\Local\\Temp\\ipykernel_23816\\3272197425.py:34: FutureWarning: Passing literal html to 'read_html' is deprecated and will be removed in a future version. To read from a literal string, wrap it in a 'StringIO' object.\n",
      "  df = pd.read_html(str(table))[0]\n",
      "C:\\Users\\gayat\\AppData\\Local\\Temp\\ipykernel_23816\\3272197425.py:89: FutureWarning: Passing literal html to 'read_html' is deprecated and will be removed in a future version. To read from a literal string, wrap it in a 'StringIO' object.\n",
      "  df = pd.read_html(str(table))[0]\n",
      "C:\\Users\\gayat\\AppData\\Local\\Temp\\ipykernel_23816\\3272197425.py:34: FutureWarning: Passing literal html to 'read_html' is deprecated and will be removed in a future version. To read from a literal string, wrap it in a 'StringIO' object.\n",
      "  df = pd.read_html(str(table))[0]\n",
      "C:\\Users\\gayat\\AppData\\Local\\Temp\\ipykernel_23816\\3272197425.py:89: FutureWarning: Passing literal html to 'read_html' is deprecated and will be removed in a future version. To read from a literal string, wrap it in a 'StringIO' object.\n",
      "  df = pd.read_html(str(table))[0]\n"
     ]
    },
    {
     "name": "stdout",
     "output_type": "stream",
     "text": [
      "2019-04-16 00:00:00\n",
      "48.02377700805664\n",
      "2019-04-17 00:00:00\n",
      "48.03133773803711\n",
      "66\n"
     ]
    },
    {
     "name": "stderr",
     "output_type": "stream",
     "text": [
      "C:\\Users\\gayat\\AppData\\Local\\Temp\\ipykernel_23816\\3272197425.py:34: FutureWarning: Passing literal html to 'read_html' is deprecated and will be removed in a future version. To read from a literal string, wrap it in a 'StringIO' object.\n",
      "  df = pd.read_html(str(table))[0]\n",
      "C:\\Users\\gayat\\AppData\\Local\\Temp\\ipykernel_23816\\3272197425.py:89: FutureWarning: Passing literal html to 'read_html' is deprecated and will be removed in a future version. To read from a literal string, wrap it in a 'StringIO' object.\n",
      "  df = pd.read_html(str(table))[0]\n",
      "C:\\Users\\gayat\\AppData\\Local\\Temp\\ipykernel_23816\\3272197425.py:34: FutureWarning: Passing literal html to 'read_html' is deprecated and will be removed in a future version. To read from a literal string, wrap it in a 'StringIO' object.\n",
      "  df = pd.read_html(str(table))[0]\n",
      "C:\\Users\\gayat\\AppData\\Local\\Temp\\ipykernel_23816\\3272197425.py:89: FutureWarning: Passing literal html to 'read_html' is deprecated and will be removed in a future version. To read from a literal string, wrap it in a 'StringIO' object.\n",
      "  df = pd.read_html(str(table))[0]\n"
     ]
    },
    {
     "name": "stdout",
     "output_type": "stream",
     "text": [
      "2019-05-07 00:00:00\n",
      "24.160505294799805\n",
      "2019-05-08 00:00:00\n",
      "24.53400421142578\n",
      "67\n"
     ]
    },
    {
     "name": "stderr",
     "output_type": "stream",
     "text": [
      "C:\\Users\\gayat\\AppData\\Local\\Temp\\ipykernel_23816\\3272197425.py:34: FutureWarning: Passing literal html to 'read_html' is deprecated and will be removed in a future version. To read from a literal string, wrap it in a 'StringIO' object.\n",
      "  df = pd.read_html(str(table))[0]\n",
      "C:\\Users\\gayat\\AppData\\Local\\Temp\\ipykernel_23816\\3272197425.py:89: FutureWarning: Passing literal html to 'read_html' is deprecated and will be removed in a future version. To read from a literal string, wrap it in a 'StringIO' object.\n",
      "  df = pd.read_html(str(table))[0]\n",
      "C:\\Users\\gayat\\AppData\\Local\\Temp\\ipykernel_23816\\3272197425.py:34: FutureWarning: Passing literal html to 'read_html' is deprecated and will be removed in a future version. To read from a literal string, wrap it in a 'StringIO' object.\n",
      "  df = pd.read_html(str(table))[0]\n",
      "C:\\Users\\gayat\\AppData\\Local\\Temp\\ipykernel_23816\\3272197425.py:89: FutureWarning: Passing literal html to 'read_html' is deprecated and will be removed in a future version. To read from a literal string, wrap it in a 'StringIO' object.\n",
      "  df = pd.read_html(str(table))[0]\n"
     ]
    },
    {
     "name": "stdout",
     "output_type": "stream",
     "text": [
      "2022-11-29 00:00:00\n",
      "29.459999084472656\n",
      "2022-11-30 00:00:00\n",
      "29.190000534057617\n",
      "68\n"
     ]
    },
    {
     "name": "stderr",
     "output_type": "stream",
     "text": [
      "C:\\Users\\gayat\\AppData\\Local\\Temp\\ipykernel_23816\\3272197425.py:34: FutureWarning: Passing literal html to 'read_html' is deprecated and will be removed in a future version. To read from a literal string, wrap it in a 'StringIO' object.\n",
      "  df = pd.read_html(str(table))[0]\n",
      "C:\\Users\\gayat\\AppData\\Local\\Temp\\ipykernel_23816\\3272197425.py:89: FutureWarning: Passing literal html to 'read_html' is deprecated and will be removed in a future version. To read from a literal string, wrap it in a 'StringIO' object.\n",
      "  df = pd.read_html(str(table))[0]\n",
      "C:\\Users\\gayat\\AppData\\Local\\Temp\\ipykernel_23816\\3272197425.py:34: FutureWarning: Passing literal html to 'read_html' is deprecated and will be removed in a future version. To read from a literal string, wrap it in a 'StringIO' object.\n",
      "  df = pd.read_html(str(table))[0]\n",
      "C:\\Users\\gayat\\AppData\\Local\\Temp\\ipykernel_23816\\3272197425.py:89: FutureWarning: Passing literal html to 'read_html' is deprecated and will be removed in a future version. To read from a literal string, wrap it in a 'StringIO' object.\n",
      "  df = pd.read_html(str(table))[0]\n"
     ]
    },
    {
     "name": "stdout",
     "output_type": "stream",
     "text": [
      "2021-11-12 00:00:00\n",
      "348.6160583496094\n",
      "2021-11-15 00:00:00\n",
      "348.95526123046875\n",
      "69\n"
     ]
    },
    {
     "name": "stderr",
     "output_type": "stream",
     "text": [
      "C:\\Users\\gayat\\AppData\\Local\\Temp\\ipykernel_23816\\3272197425.py:34: FutureWarning: Passing literal html to 'read_html' is deprecated and will be removed in a future version. To read from a literal string, wrap it in a 'StringIO' object.\n",
      "  df = pd.read_html(str(table))[0]\n",
      "C:\\Users\\gayat\\AppData\\Local\\Temp\\ipykernel_23816\\3272197425.py:89: FutureWarning: Passing literal html to 'read_html' is deprecated and will be removed in a future version. To read from a literal string, wrap it in a 'StringIO' object.\n",
      "  df = pd.read_html(str(table))[0]\n",
      "C:\\Users\\gayat\\AppData\\Local\\Temp\\ipykernel_23816\\3272197425.py:34: FutureWarning: Passing literal html to 'read_html' is deprecated and will be removed in a future version. To read from a literal string, wrap it in a 'StringIO' object.\n",
      "  df = pd.read_html(str(table))[0]\n",
      "C:\\Users\\gayat\\AppData\\Local\\Temp\\ipykernel_23816\\3272197425.py:89: FutureWarning: Passing literal html to 'read_html' is deprecated and will be removed in a future version. To read from a literal string, wrap it in a 'StringIO' object.\n",
      "  df = pd.read_html(str(table))[0]\n"
     ]
    },
    {
     "name": "stdout",
     "output_type": "stream",
     "text": [
      "2018-01-02 00:00:00\n",
      "153.38999938964844\n",
      "2018-01-03 00:00:00\n",
      "153.42999267578125\n",
      "70\n"
     ]
    },
    {
     "name": "stderr",
     "output_type": "stream",
     "text": [
      "C:\\Users\\gayat\\AppData\\Local\\Temp\\ipykernel_23816\\3272197425.py:34: FutureWarning: Passing literal html to 'read_html' is deprecated and will be removed in a future version. To read from a literal string, wrap it in a 'StringIO' object.\n",
      "  df = pd.read_html(str(table))[0]\n",
      "C:\\Users\\gayat\\AppData\\Local\\Temp\\ipykernel_23816\\3272197425.py:89: FutureWarning: Passing literal html to 'read_html' is deprecated and will be removed in a future version. To read from a literal string, wrap it in a 'StringIO' object.\n",
      "  df = pd.read_html(str(table))[0]\n",
      "C:\\Users\\gayat\\AppData\\Local\\Temp\\ipykernel_23816\\3272197425.py:34: FutureWarning: Passing literal html to 'read_html' is deprecated and will be removed in a future version. To read from a literal string, wrap it in a 'StringIO' object.\n",
      "  df = pd.read_html(str(table))[0]\n",
      "C:\\Users\\gayat\\AppData\\Local\\Temp\\ipykernel_23816\\3272197425.py:89: FutureWarning: Passing literal html to 'read_html' is deprecated and will be removed in a future version. To read from a literal string, wrap it in a 'StringIO' object.\n",
      "  df = pd.read_html(str(table))[0]\n"
     ]
    },
    {
     "name": "stdout",
     "output_type": "stream",
     "text": [
      "2016-08-02 00:00:00\n",
      "62.380001068115234\n",
      "2016-08-03 00:00:00\n",
      "62.560001373291016\n",
      "71\n"
     ]
    },
    {
     "name": "stderr",
     "output_type": "stream",
     "text": [
      "C:\\Users\\gayat\\AppData\\Local\\Temp\\ipykernel_23816\\3272197425.py:34: FutureWarning: Passing literal html to 'read_html' is deprecated and will be removed in a future version. To read from a literal string, wrap it in a 'StringIO' object.\n",
      "  df = pd.read_html(str(table))[0]\n",
      "C:\\Users\\gayat\\AppData\\Local\\Temp\\ipykernel_23816\\3272197425.py:89: FutureWarning: Passing literal html to 'read_html' is deprecated and will be removed in a future version. To read from a literal string, wrap it in a 'StringIO' object.\n",
      "  df = pd.read_html(str(table))[0]\n",
      "C:\\Users\\gayat\\AppData\\Local\\Temp\\ipykernel_23816\\3272197425.py:34: FutureWarning: Passing literal html to 'read_html' is deprecated and will be removed in a future version. To read from a literal string, wrap it in a 'StringIO' object.\n",
      "  df = pd.read_html(str(table))[0]\n",
      "C:\\Users\\gayat\\AppData\\Local\\Temp\\ipykernel_23816\\3272197425.py:89: FutureWarning: Passing literal html to 'read_html' is deprecated and will be removed in a future version. To read from a literal string, wrap it in a 'StringIO' object.\n",
      "  df = pd.read_html(str(table))[0]\n"
     ]
    },
    {
     "name": "stdout",
     "output_type": "stream",
     "text": [
      "2022-07-05 00:00:00\n",
      "288.9800109863281\n",
      "2022-07-06 00:00:00\n",
      "291.1600036621094\n",
      "72\n"
     ]
    },
    {
     "name": "stderr",
     "output_type": "stream",
     "text": [
      "C:\\Users\\gayat\\AppData\\Local\\Temp\\ipykernel_23816\\3272197425.py:34: FutureWarning: Passing literal html to 'read_html' is deprecated and will be removed in a future version. To read from a literal string, wrap it in a 'StringIO' object.\n",
      "  df = pd.read_html(str(table))[0]\n",
      "C:\\Users\\gayat\\AppData\\Local\\Temp\\ipykernel_23816\\3272197425.py:89: FutureWarning: Passing literal html to 'read_html' is deprecated and will be removed in a future version. To read from a literal string, wrap it in a 'StringIO' object.\n",
      "  df = pd.read_html(str(table))[0]\n",
      "C:\\Users\\gayat\\AppData\\Local\\Temp\\ipykernel_23816\\3272197425.py:34: FutureWarning: Passing literal html to 'read_html' is deprecated and will be removed in a future version. To read from a literal string, wrap it in a 'StringIO' object.\n",
      "  df = pd.read_html(str(table))[0]\n",
      "C:\\Users\\gayat\\AppData\\Local\\Temp\\ipykernel_23816\\3272197425.py:89: FutureWarning: Passing literal html to 'read_html' is deprecated and will be removed in a future version. To read from a literal string, wrap it in a 'StringIO' object.\n",
      "  df = pd.read_html(str(table))[0]\n"
     ]
    },
    {
     "name": "stdout",
     "output_type": "stream",
     "text": [
      "2017-11-02 00:00:00\n",
      "99.1500015258789\n",
      "2017-11-03 00:00:00\n",
      "99.66999816894531\n",
      "73\n"
     ]
    },
    {
     "name": "stderr",
     "output_type": "stream",
     "text": [
      "C:\\Users\\gayat\\AppData\\Local\\Temp\\ipykernel_23816\\3272197425.py:34: FutureWarning: Passing literal html to 'read_html' is deprecated and will be removed in a future version. To read from a literal string, wrap it in a 'StringIO' object.\n",
      "  df = pd.read_html(str(table))[0]\n",
      "C:\\Users\\gayat\\AppData\\Local\\Temp\\ipykernel_23816\\3272197425.py:89: FutureWarning: Passing literal html to 'read_html' is deprecated and will be removed in a future version. To read from a literal string, wrap it in a 'StringIO' object.\n",
      "  df = pd.read_html(str(table))[0]\n",
      "C:\\Users\\gayat\\AppData\\Local\\Temp\\ipykernel_23816\\3272197425.py:34: FutureWarning: Passing literal html to 'read_html' is deprecated and will be removed in a future version. To read from a literal string, wrap it in a 'StringIO' object.\n",
      "  df = pd.read_html(str(table))[0]\n",
      "C:\\Users\\gayat\\AppData\\Local\\Temp\\ipykernel_23816\\3272197425.py:89: FutureWarning: Passing literal html to 'read_html' is deprecated and will be removed in a future version. To read from a literal string, wrap it in a 'StringIO' object.\n",
      "  df = pd.read_html(str(table))[0]\n"
     ]
    },
    {
     "name": "stdout",
     "output_type": "stream",
     "text": [
      "2018-03-29 00:00:00\n",
      "115.04418182373047\n",
      "2018-03-30 00:00:00\n",
      "115.04419708251953\n",
      "74\n"
     ]
    },
    {
     "name": "stderr",
     "output_type": "stream",
     "text": [
      "C:\\Users\\gayat\\AppData\\Local\\Temp\\ipykernel_23816\\3272197425.py:34: FutureWarning: Passing literal html to 'read_html' is deprecated and will be removed in a future version. To read from a literal string, wrap it in a 'StringIO' object.\n",
      "  df = pd.read_html(str(table))[0]\n",
      "C:\\Users\\gayat\\AppData\\Local\\Temp\\ipykernel_23816\\3272197425.py:89: FutureWarning: Passing literal html to 'read_html' is deprecated and will be removed in a future version. To read from a literal string, wrap it in a 'StringIO' object.\n",
      "  df = pd.read_html(str(table))[0]\n",
      "C:\\Users\\gayat\\AppData\\Local\\Temp\\ipykernel_23816\\3272197425.py:34: FutureWarning: Passing literal html to 'read_html' is deprecated and will be removed in a future version. To read from a literal string, wrap it in a 'StringIO' object.\n",
      "  df = pd.read_html(str(table))[0]\n",
      "C:\\Users\\gayat\\AppData\\Local\\Temp\\ipykernel_23816\\3272197425.py:89: FutureWarning: Passing literal html to 'read_html' is deprecated and will be removed in a future version. To read from a literal string, wrap it in a 'StringIO' object.\n",
      "  df = pd.read_html(str(table))[0]\n"
     ]
    },
    {
     "name": "stdout",
     "output_type": "stream",
     "text": [
      "2021-08-27 00:00:00\n",
      "459.5\n",
      "2021-08-30 00:00:00\n",
      "455.1400146484375\n",
      "75\n"
     ]
    },
    {
     "name": "stderr",
     "output_type": "stream",
     "text": [
      "C:\\Users\\gayat\\AppData\\Local\\Temp\\ipykernel_23816\\3272197425.py:34: FutureWarning: Passing literal html to 'read_html' is deprecated and will be removed in a future version. To read from a literal string, wrap it in a 'StringIO' object.\n",
      "  df = pd.read_html(str(table))[0]\n",
      "C:\\Users\\gayat\\AppData\\Local\\Temp\\ipykernel_23816\\3272197425.py:89: FutureWarning: Passing literal html to 'read_html' is deprecated and will be removed in a future version. To read from a literal string, wrap it in a 'StringIO' object.\n",
      "  df = pd.read_html(str(table))[0]\n",
      "C:\\Users\\gayat\\AppData\\Local\\Temp\\ipykernel_23816\\3272197425.py:34: FutureWarning: Passing literal html to 'read_html' is deprecated and will be removed in a future version. To read from a literal string, wrap it in a 'StringIO' object.\n",
      "  df = pd.read_html(str(table))[0]\n",
      "C:\\Users\\gayat\\AppData\\Local\\Temp\\ipykernel_23816\\3272197425.py:89: FutureWarning: Passing literal html to 'read_html' is deprecated and will be removed in a future version. To read from a literal string, wrap it in a 'StringIO' object.\n",
      "  df = pd.read_html(str(table))[0]\n"
     ]
    },
    {
     "name": "stdout",
     "output_type": "stream",
     "text": [
      "2018-07-02 00:00:00\n",
      "164.04776000976562\n",
      "2018-07-03 00:00:00\n",
      "166.0789794921875\n",
      "76\n"
     ]
    },
    {
     "name": "stderr",
     "output_type": "stream",
     "text": [
      "C:\\Users\\gayat\\AppData\\Local\\Temp\\ipykernel_23816\\3272197425.py:34: FutureWarning: Passing literal html to 'read_html' is deprecated and will be removed in a future version. To read from a literal string, wrap it in a 'StringIO' object.\n",
      "  df = pd.read_html(str(table))[0]\n",
      "C:\\Users\\gayat\\AppData\\Local\\Temp\\ipykernel_23816\\3272197425.py:89: FutureWarning: Passing literal html to 'read_html' is deprecated and will be removed in a future version. To read from a literal string, wrap it in a 'StringIO' object.\n",
      "  df = pd.read_html(str(table))[0]\n",
      "C:\\Users\\gayat\\AppData\\Local\\Temp\\ipykernel_23816\\3272197425.py:34: FutureWarning: Passing literal html to 'read_html' is deprecated and will be removed in a future version. To read from a literal string, wrap it in a 'StringIO' object.\n",
      "  df = pd.read_html(str(table))[0]\n",
      "C:\\Users\\gayat\\AppData\\Local\\Temp\\ipykernel_23816\\3272197425.py:89: FutureWarning: Passing literal html to 'read_html' is deprecated and will be removed in a future version. To read from a literal string, wrap it in a 'StringIO' object.\n",
      "  df = pd.read_html(str(table))[0]\n"
     ]
    },
    {
     "name": "stdout",
     "output_type": "stream",
     "text": [
      "2021-11-11 00:00:00\n",
      "99.91999816894531\n",
      "2021-11-12 00:00:00\n",
      "100.81999969482422\n",
      "77\n"
     ]
    },
    {
     "name": "stderr",
     "output_type": "stream",
     "text": [
      "C:\\Users\\gayat\\AppData\\Local\\Temp\\ipykernel_23816\\3272197425.py:34: FutureWarning: Passing literal html to 'read_html' is deprecated and will be removed in a future version. To read from a literal string, wrap it in a 'StringIO' object.\n",
      "  df = pd.read_html(str(table))[0]\n",
      "C:\\Users\\gayat\\AppData\\Local\\Temp\\ipykernel_23816\\3272197425.py:89: FutureWarning: Passing literal html to 'read_html' is deprecated and will be removed in a future version. To read from a literal string, wrap it in a 'StringIO' object.\n",
      "  df = pd.read_html(str(table))[0]\n",
      "C:\\Users\\gayat\\AppData\\Local\\Temp\\ipykernel_23816\\3272197425.py:34: FutureWarning: Passing literal html to 'read_html' is deprecated and will be removed in a future version. To read from a literal string, wrap it in a 'StringIO' object.\n",
      "  df = pd.read_html(str(table))[0]\n",
      "C:\\Users\\gayat\\AppData\\Local\\Temp\\ipykernel_23816\\3272197425.py:89: FutureWarning: Passing literal html to 'read_html' is deprecated and will be removed in a future version. To read from a literal string, wrap it in a 'StringIO' object.\n",
      "  df = pd.read_html(str(table))[0]\n"
     ]
    },
    {
     "name": "stdout",
     "output_type": "stream",
     "text": [
      "2023-05-22 00:00:00\n",
      "363.010009765625\n",
      "2023-05-23 00:00:00\n",
      "355.989990234375\n",
      "78\n"
     ]
    },
    {
     "name": "stderr",
     "output_type": "stream",
     "text": [
      "C:\\Users\\gayat\\AppData\\Local\\Temp\\ipykernel_23816\\3272197425.py:34: FutureWarning: Passing literal html to 'read_html' is deprecated and will be removed in a future version. To read from a literal string, wrap it in a 'StringIO' object.\n",
      "  df = pd.read_html(str(table))[0]\n",
      "C:\\Users\\gayat\\AppData\\Local\\Temp\\ipykernel_23816\\3272197425.py:89: FutureWarning: Passing literal html to 'read_html' is deprecated and will be removed in a future version. To read from a literal string, wrap it in a 'StringIO' object.\n",
      "  df = pd.read_html(str(table))[0]\n",
      "C:\\Users\\gayat\\AppData\\Local\\Temp\\ipykernel_23816\\3272197425.py:34: FutureWarning: Passing literal html to 'read_html' is deprecated and will be removed in a future version. To read from a literal string, wrap it in a 'StringIO' object.\n",
      "  df = pd.read_html(str(table))[0]\n",
      "C:\\Users\\gayat\\AppData\\Local\\Temp\\ipykernel_23816\\3272197425.py:89: FutureWarning: Passing literal html to 'read_html' is deprecated and will be removed in a future version. To read from a literal string, wrap it in a 'StringIO' object.\n",
      "  df = pd.read_html(str(table))[0]\n"
     ]
    },
    {
     "name": "stdout",
     "output_type": "stream",
     "text": [
      "2017-01-02 00:00:00\n",
      "11.3100004196167\n",
      "2017-01-03 00:00:00\n",
      "11.270000457763672\n",
      "79\n"
     ]
    },
    {
     "name": "stderr",
     "output_type": "stream",
     "text": [
      "C:\\Users\\gayat\\AppData\\Local\\Temp\\ipykernel_23816\\3272197425.py:34: FutureWarning: Passing literal html to 'read_html' is deprecated and will be removed in a future version. To read from a literal string, wrap it in a 'StringIO' object.\n",
      "  df = pd.read_html(str(table))[0]\n",
      "C:\\Users\\gayat\\AppData\\Local\\Temp\\ipykernel_23816\\3272197425.py:89: FutureWarning: Passing literal html to 'read_html' is deprecated and will be removed in a future version. To read from a literal string, wrap it in a 'StringIO' object.\n",
      "  df = pd.read_html(str(table))[0]\n",
      "C:\\Users\\gayat\\AppData\\Local\\Temp\\ipykernel_23816\\3272197425.py:34: FutureWarning: Passing literal html to 'read_html' is deprecated and will be removed in a future version. To read from a literal string, wrap it in a 'StringIO' object.\n",
      "  df = pd.read_html(str(table))[0]\n",
      "C:\\Users\\gayat\\AppData\\Local\\Temp\\ipykernel_23816\\3272197425.py:89: FutureWarning: Passing literal html to 'read_html' is deprecated and will be removed in a future version. To read from a literal string, wrap it in a 'StringIO' object.\n",
      "  df = pd.read_html(str(table))[0]\n"
     ]
    },
    {
     "name": "stdout",
     "output_type": "stream",
     "text": [
      "2017-05-18 00:00:00\n",
      "65.30999755859375\n",
      "2017-05-19 00:00:00\n",
      "65.93000030517578\n",
      "80\n"
     ]
    },
    {
     "name": "stderr",
     "output_type": "stream",
     "text": [
      "C:\\Users\\gayat\\AppData\\Local\\Temp\\ipykernel_23816\\3272197425.py:34: FutureWarning: Passing literal html to 'read_html' is deprecated and will be removed in a future version. To read from a literal string, wrap it in a 'StringIO' object.\n",
      "  df = pd.read_html(str(table))[0]\n",
      "C:\\Users\\gayat\\AppData\\Local\\Temp\\ipykernel_23816\\3272197425.py:89: FutureWarning: Passing literal html to 'read_html' is deprecated and will be removed in a future version. To read from a literal string, wrap it in a 'StringIO' object.\n",
      "  df = pd.read_html(str(table))[0]\n",
      "C:\\Users\\gayat\\AppData\\Local\\Temp\\ipykernel_23816\\3272197425.py:34: FutureWarning: Passing literal html to 'read_html' is deprecated and will be removed in a future version. To read from a literal string, wrap it in a 'StringIO' object.\n",
      "  df = pd.read_html(str(table))[0]\n",
      "C:\\Users\\gayat\\AppData\\Local\\Temp\\ipykernel_23816\\3272197425.py:89: FutureWarning: Passing literal html to 'read_html' is deprecated and will be removed in a future version. To read from a literal string, wrap it in a 'StringIO' object.\n",
      "  df = pd.read_html(str(table))[0]\n"
     ]
    },
    {
     "name": "stdout",
     "output_type": "stream",
     "text": [
      "2015-09-29 00:00:00\n",
      "55.57961654663086\n",
      "2015-09-30 00:00:00\n",
      "57.76355743408203\n",
      "81\n"
     ]
    },
    {
     "name": "stderr",
     "output_type": "stream",
     "text": [
      "C:\\Users\\gayat\\AppData\\Local\\Temp\\ipykernel_23816\\3272197425.py:34: FutureWarning: Passing literal html to 'read_html' is deprecated and will be removed in a future version. To read from a literal string, wrap it in a 'StringIO' object.\n",
      "  df = pd.read_html(str(table))[0]\n",
      "C:\\Users\\gayat\\AppData\\Local\\Temp\\ipykernel_23816\\3272197425.py:89: FutureWarning: Passing literal html to 'read_html' is deprecated and will be removed in a future version. To read from a literal string, wrap it in a 'StringIO' object.\n",
      "  df = pd.read_html(str(table))[0]\n",
      "C:\\Users\\gayat\\AppData\\Local\\Temp\\ipykernel_23816\\3272197425.py:34: FutureWarning: Passing literal html to 'read_html' is deprecated and will be removed in a future version. To read from a literal string, wrap it in a 'StringIO' object.\n",
      "  df = pd.read_html(str(table))[0]\n",
      "C:\\Users\\gayat\\AppData\\Local\\Temp\\ipykernel_23816\\3272197425.py:89: FutureWarning: Passing literal html to 'read_html' is deprecated and will be removed in a future version. To read from a literal string, wrap it in a 'StringIO' object.\n",
      "  df = pd.read_html(str(table))[0]\n"
     ]
    },
    {
     "name": "stdout",
     "output_type": "stream",
     "text": [
      "2015-11-17 00:00:00\n",
      "15.041518211364746\n",
      "2015-11-18 00:00:00\n",
      "15.366368293762207\n",
      "82\n"
     ]
    },
    {
     "name": "stderr",
     "output_type": "stream",
     "text": [
      "C:\\Users\\gayat\\AppData\\Local\\Temp\\ipykernel_23816\\3272197425.py:34: FutureWarning: Passing literal html to 'read_html' is deprecated and will be removed in a future version. To read from a literal string, wrap it in a 'StringIO' object.\n",
      "  df = pd.read_html(str(table))[0]\n",
      "C:\\Users\\gayat\\AppData\\Local\\Temp\\ipykernel_23816\\3272197425.py:89: FutureWarning: Passing literal html to 'read_html' is deprecated and will be removed in a future version. To read from a literal string, wrap it in a 'StringIO' object.\n",
      "  df = pd.read_html(str(table))[0]\n",
      "C:\\Users\\gayat\\AppData\\Local\\Temp\\ipykernel_23816\\3272197425.py:34: FutureWarning: Passing literal html to 'read_html' is deprecated and will be removed in a future version. To read from a literal string, wrap it in a 'StringIO' object.\n",
      "  df = pd.read_html(str(table))[0]\n",
      "C:\\Users\\gayat\\AppData\\Local\\Temp\\ipykernel_23816\\3272197425.py:89: FutureWarning: Passing literal html to 'read_html' is deprecated and will be removed in a future version. To read from a literal string, wrap it in a 'StringIO' object.\n",
      "  df = pd.read_html(str(table))[0]\n"
     ]
    },
    {
     "name": "stdout",
     "output_type": "stream",
     "text": [
      "2015-09-24 00:00:00\n",
      "20.251514434814453\n",
      "2015-09-25 00:00:00\n",
      "20.46082878112793\n",
      "83\n"
     ]
    },
    {
     "name": "stderr",
     "output_type": "stream",
     "text": [
      "C:\\Users\\gayat\\AppData\\Local\\Temp\\ipykernel_23816\\3272197425.py:34: FutureWarning: Passing literal html to 'read_html' is deprecated and will be removed in a future version. To read from a literal string, wrap it in a 'StringIO' object.\n",
      "  df = pd.read_html(str(table))[0]\n",
      "C:\\Users\\gayat\\AppData\\Local\\Temp\\ipykernel_23816\\3272197425.py:89: FutureWarning: Passing literal html to 'read_html' is deprecated and will be removed in a future version. To read from a literal string, wrap it in a 'StringIO' object.\n",
      "  df = pd.read_html(str(table))[0]\n",
      "C:\\Users\\gayat\\AppData\\Local\\Temp\\ipykernel_23816\\3272197425.py:34: FutureWarning: Passing literal html to 'read_html' is deprecated and will be removed in a future version. To read from a literal string, wrap it in a 'StringIO' object.\n",
      "  df = pd.read_html(str(table))[0]\n",
      "C:\\Users\\gayat\\AppData\\Local\\Temp\\ipykernel_23816\\3272197425.py:89: FutureWarning: Passing literal html to 'read_html' is deprecated and will be removed in a future version. To read from a literal string, wrap it in a 'StringIO' object.\n",
      "  df = pd.read_html(str(table))[0]\n"
     ]
    },
    {
     "ename": "IndexError",
     "evalue": "single positional indexer is out-of-bounds",
     "output_type": "error",
     "traceback": [
      "\u001b[1;31m---------------------------------------------------------------------------\u001b[0m",
      "\u001b[1;31mIndexError\u001b[0m                                Traceback (most recent call last)",
      "Cell \u001b[1;32mIn[106], line 43\u001b[0m\n\u001b[0;32m     40\u001b[0m data_dict[\u001b[38;5;124m'\u001b[39m\u001b[38;5;124mvolatility\u001b[39m\u001b[38;5;124m'\u001b[39m] \u001b[38;5;241m=\u001b[39m calculate_volatility(ticker, input_date)\n\u001b[0;32m     42\u001b[0m \u001b[38;5;66;03m# retrieve economic indicators\u001b[39;00m\n\u001b[1;32m---> 43\u001b[0m \u001b[38;5;28;01mfor\u001b[39;00m key, value \u001b[38;5;129;01min\u001b[39;00m \u001b[43mget_economic_indicators\u001b[49m\u001b[43m(\u001b[49m\u001b[43minput_date\u001b[49m\u001b[43m)\u001b[49m\u001b[38;5;241m.\u001b[39mitems():\n\u001b[0;32m     44\u001b[0m     data_dict[key] \u001b[38;5;241m=\u001b[39m value\n\u001b[0;32m     46\u001b[0m \u001b[38;5;66;03m# retrieve stocktechnical indicators    \u001b[39;00m\n",
      "Cell \u001b[1;32mIn[63], line 12\u001b[0m, in \u001b[0;36mget_economic_indicators\u001b[1;34m(econ_date)\u001b[0m\n\u001b[0;32m      8\u001b[0m formatted_date \u001b[38;5;241m=\u001b[39m econ_date\u001b[38;5;241m.\u001b[39mstrftime(\u001b[38;5;124m'\u001b[39m\u001b[38;5;124m%\u001b[39m\u001b[38;5;124mY-\u001b[39m\u001b[38;5;124m%\u001b[39m\u001b[38;5;124mm-\u001b[39m\u001b[38;5;132;01m%d\u001b[39;00m\u001b[38;5;124m'\u001b[39m)\n\u001b[0;32m     10\u001b[0m \u001b[38;5;66;03m# retrieve CPI value\u001b[39;00m\n\u001b[0;32m     11\u001b[0m \u001b[38;5;66;03m# Locate the value for the given date, matching only month and year\u001b[39;00m\n\u001b[1;32m---> 12\u001b[0m economic_indicators_dict[\u001b[38;5;124m'\u001b[39m\u001b[38;5;124mcpi\u001b[39m\u001b[38;5;124m'\u001b[39m] \u001b[38;5;241m=\u001b[39m \u001b[38;5;28mfloat\u001b[39m(\u001b[43mmonthly_cpi_df\u001b[49m\u001b[38;5;241;43m.\u001b[39;49m\u001b[43mloc\u001b[49m\u001b[43m[\u001b[49m\u001b[43mmonthly_cpi_df\u001b[49m\u001b[43m[\u001b[49m\u001b[38;5;124;43m'\u001b[39;49m\u001b[38;5;124;43mdate\u001b[39;49m\u001b[38;5;124;43m'\u001b[39;49m\u001b[43m]\u001b[49m\u001b[38;5;241;43m.\u001b[39;49m\u001b[43mdt\u001b[49m\u001b[38;5;241;43m.\u001b[39;49m\u001b[43mto_period\u001b[49m\u001b[43m(\u001b[49m\u001b[38;5;124;43m'\u001b[39;49m\u001b[38;5;124;43mM\u001b[39;49m\u001b[38;5;124;43m'\u001b[39;49m\u001b[43m)\u001b[49m\u001b[43m \u001b[49m\u001b[38;5;241;43m==\u001b[39;49m\u001b[43m \u001b[49m\u001b[43mpd\u001b[49m\u001b[38;5;241;43m.\u001b[39;49m\u001b[43mto_datetime\u001b[49m\u001b[43m(\u001b[49m\u001b[43mecon_date\u001b[49m\u001b[43m)\u001b[49m\u001b[38;5;241;43m.\u001b[39;49m\u001b[43mto_period\u001b[49m\u001b[43m(\u001b[49m\u001b[38;5;124;43m'\u001b[39;49m\u001b[38;5;124;43mM\u001b[39;49m\u001b[38;5;124;43m'\u001b[39;49m\u001b[43m)\u001b[49m\u001b[43m,\u001b[49m\u001b[43m \u001b[49m\u001b[38;5;124;43m'\u001b[39;49m\u001b[38;5;124;43mvalue\u001b[39;49m\u001b[38;5;124;43m'\u001b[39;49m\u001b[43m]\u001b[49m\u001b[38;5;241;43m.\u001b[39;49m\u001b[43miloc\u001b[49m\u001b[43m[\u001b[49m\u001b[38;5;241;43m0\u001b[39;49m\u001b[43m]\u001b[49m)    \n\u001b[0;32m     14\u001b[0m \u001b[38;5;66;03m# retrieve federal interest rate value\u001b[39;00m\n\u001b[0;32m     15\u001b[0m economic_indicators_dict[\u001b[38;5;124m'\u001b[39m\u001b[38;5;124minterest_rate\u001b[39m\u001b[38;5;124m'\u001b[39m] \u001b[38;5;241m=\u001b[39m \u001b[38;5;28mfloat\u001b[39m(daily_interest_rate_df\u001b[38;5;241m.\u001b[39mloc[daily_interest_rate_df[\u001b[38;5;124m'\u001b[39m\u001b[38;5;124mdate\u001b[39m\u001b[38;5;124m'\u001b[39m] \u001b[38;5;241m==\u001b[39m formatted_date, \u001b[38;5;124m'\u001b[39m\u001b[38;5;124mvalue\u001b[39m\u001b[38;5;124m'\u001b[39m]\u001b[38;5;241m.\u001b[39miloc[\u001b[38;5;241m0\u001b[39m])\n",
      "File \u001b[1;32m~\\anaconda3\\envs\\dev\\lib\\site-packages\\pandas\\core\\indexing.py:1153\u001b[0m, in \u001b[0;36m_LocationIndexer.__getitem__\u001b[1;34m(self, key)\u001b[0m\n\u001b[0;32m   1150\u001b[0m axis \u001b[38;5;241m=\u001b[39m \u001b[38;5;28mself\u001b[39m\u001b[38;5;241m.\u001b[39maxis \u001b[38;5;129;01mor\u001b[39;00m \u001b[38;5;241m0\u001b[39m\n\u001b[0;32m   1152\u001b[0m maybe_callable \u001b[38;5;241m=\u001b[39m com\u001b[38;5;241m.\u001b[39mapply_if_callable(key, \u001b[38;5;28mself\u001b[39m\u001b[38;5;241m.\u001b[39mobj)\n\u001b[1;32m-> 1153\u001b[0m \u001b[38;5;28;01mreturn\u001b[39;00m \u001b[38;5;28;43mself\u001b[39;49m\u001b[38;5;241;43m.\u001b[39;49m\u001b[43m_getitem_axis\u001b[49m\u001b[43m(\u001b[49m\u001b[43mmaybe_callable\u001b[49m\u001b[43m,\u001b[49m\u001b[43m \u001b[49m\u001b[43maxis\u001b[49m\u001b[38;5;241;43m=\u001b[39;49m\u001b[43maxis\u001b[49m\u001b[43m)\u001b[49m\n",
      "File \u001b[1;32m~\\anaconda3\\envs\\dev\\lib\\site-packages\\pandas\\core\\indexing.py:1714\u001b[0m, in \u001b[0;36m_iLocIndexer._getitem_axis\u001b[1;34m(self, key, axis)\u001b[0m\n\u001b[0;32m   1711\u001b[0m     \u001b[38;5;28;01mraise\u001b[39;00m \u001b[38;5;167;01mTypeError\u001b[39;00m(\u001b[38;5;124m\"\u001b[39m\u001b[38;5;124mCannot index by location index with a non-integer key\u001b[39m\u001b[38;5;124m\"\u001b[39m)\n\u001b[0;32m   1713\u001b[0m \u001b[38;5;66;03m# validate the location\u001b[39;00m\n\u001b[1;32m-> 1714\u001b[0m \u001b[38;5;28;43mself\u001b[39;49m\u001b[38;5;241;43m.\u001b[39;49m\u001b[43m_validate_integer\u001b[49m\u001b[43m(\u001b[49m\u001b[43mkey\u001b[49m\u001b[43m,\u001b[49m\u001b[43m \u001b[49m\u001b[43maxis\u001b[49m\u001b[43m)\u001b[49m\n\u001b[0;32m   1716\u001b[0m \u001b[38;5;28;01mreturn\u001b[39;00m \u001b[38;5;28mself\u001b[39m\u001b[38;5;241m.\u001b[39mobj\u001b[38;5;241m.\u001b[39m_ixs(key, axis\u001b[38;5;241m=\u001b[39maxis)\n",
      "File \u001b[1;32m~\\anaconda3\\envs\\dev\\lib\\site-packages\\pandas\\core\\indexing.py:1647\u001b[0m, in \u001b[0;36m_iLocIndexer._validate_integer\u001b[1;34m(self, key, axis)\u001b[0m\n\u001b[0;32m   1645\u001b[0m len_axis \u001b[38;5;241m=\u001b[39m \u001b[38;5;28mlen\u001b[39m(\u001b[38;5;28mself\u001b[39m\u001b[38;5;241m.\u001b[39mobj\u001b[38;5;241m.\u001b[39m_get_axis(axis))\n\u001b[0;32m   1646\u001b[0m \u001b[38;5;28;01mif\u001b[39;00m key \u001b[38;5;241m>\u001b[39m\u001b[38;5;241m=\u001b[39m len_axis \u001b[38;5;129;01mor\u001b[39;00m key \u001b[38;5;241m<\u001b[39m \u001b[38;5;241m-\u001b[39mlen_axis:\n\u001b[1;32m-> 1647\u001b[0m     \u001b[38;5;28;01mraise\u001b[39;00m \u001b[38;5;167;01mIndexError\u001b[39;00m(\u001b[38;5;124m\"\u001b[39m\u001b[38;5;124msingle positional indexer is out-of-bounds\u001b[39m\u001b[38;5;124m\"\u001b[39m)\n",
      "\u001b[1;31mIndexError\u001b[0m: single positional indexer is out-of-bounds"
     ]
    }
   ],
   "source": [
    "# list to store dictionaries\n",
    "list_dict = []\n",
    "page += 1\n",
    "# runs loop until list_dic [change no. 4 as desired]\n",
    "while len(list_dict) < 500:\n",
    "\n",
    "    # data_dict\n",
    "    data_dict = {}\n",
    "    \n",
    "    # checking to see if generated ticker-date combo has available data\n",
    "    checker = False\n",
    "    \n",
    "    # runs this loop until checker is true\n",
    "    while not checker:\n",
    "\n",
    "        ticker = choose_random_stock(ticker_list)\n",
    "        input_date = generate_random_date('2015-01-01', '2023-10-31')\n",
    "\n",
    "        checker = check_stock_date(ticker, input_date)\n",
    "\n",
    "    # using function to return stock industry\n",
    "    data_dict['industry']=return_stock_industry(ticker)\n",
    "\n",
    "    # retrieve weekly returns\n",
    "    date = input_date\n",
    "    for i in range(1, 5):\n",
    "        data_dict[f'wr{i}']=(get_stock_price(ticker, date) - get_stock_price(ticker, date - timedelta(weeks = 1)))/get_stock_price(ticker, date - timedelta(weeks = 1))\n",
    "        date = date - timedelta(weeks=1)\n",
    "\n",
    "    # retrieve last 5 working day volumes\n",
    "    data_dict['vol1'] = get_stock_volume(ticker, date)\n",
    "    for i, weekday in enumerate(get_previous_weekdays(input_date)):\n",
    "        data_dict[f'vol{i+1}'] = get_stock_volume(ticker, weekday)\n",
    "\n",
    "    # retrieve stock financials    \n",
    "    for key, value in get_stock_financials(ticker, input_date).items():\n",
    "        data_dict[key] = value\n",
    "    \n",
    "    # retrieve stock volatility\n",
    "    data_dict['volatility'] = calculate_volatility(ticker, input_date)\n",
    "\n",
    "    # retrieve economic indicators\n",
    "    for key, value in get_economic_indicators(input_date).items():\n",
    "        data_dict[key] = value\n",
    "\n",
    "    # retrieve stocktechnical indicators    \n",
    "    for key, value in get_technical_indicators(ticker, input_date).items():\n",
    "        data_dict[key] = value\n",
    "\n",
    "    # generate a label for row    \n",
    "    data_dict['label'] = create_label(ticker, input_date)\n",
    "        \n",
    "    # append dictionary to list\n",
    "    list_dict.append(data_dict)\n",
    "    print(len(list_dict))"
   ]
  },
  {
   "cell_type": "code",
   "execution_count": 84,
   "id": "d5658841",
   "metadata": {
    "scrolled": true
   },
   "outputs": [
    {
     "data": {
      "text/plain": [
       "{'industry': 'Consumer Discretionary',\n",
       " 'wr1': -0.011338714161929133,\n",
       " 'wr2': 0.040786776473789525,\n",
       " 'wr3': -0.04058799531456262,\n",
       " 'wr4': -0.049109129017416805,\n",
       " 'vol1': 10195800,\n",
       " 'vol2': 10247900,\n",
       " 'vol3': 11862300,\n",
       " 'vol4': 12886300}"
      ]
     },
     "execution_count": 84,
     "metadata": {},
     "output_type": "execute_result"
    }
   ],
   "source": [
    "data_dict"
   ]
  },
  {
   "cell_type": "code",
   "execution_count": 86,
   "id": "d0253c4b",
   "metadata": {},
   "outputs": [
    {
     "name": "stdout",
     "output_type": "stream",
     "text": [
      "dis 2021-12-14 00:00:00\n"
     ]
    }
   ],
   "source": [
    "print(ticker, input_date)"
   ]
  },
  {
   "cell_type": "code",
   "execution_count": 102,
   "id": "2ac18d4f",
   "metadata": {},
   "outputs": [
    {
     "data": {
      "text/plain": [
       "Period('2023-11', 'M')"
      ]
     },
     "execution_count": 102,
     "metadata": {},
     "output_type": "execute_result"
    }
   ],
   "source": [
    "pd.to_datetime(input_date).to_period('M')"
   ]
  },
  {
   "cell_type": "code",
   "execution_count": 101,
   "id": "6874f4fe",
   "metadata": {},
   "outputs": [
    {
     "ename": "IndexError",
     "evalue": "single positional indexer is out-of-bounds",
     "output_type": "error",
     "traceback": [
      "\u001b[1;31m---------------------------------------------------------------------------\u001b[0m",
      "\u001b[1;31mIndexError\u001b[0m                                Traceback (most recent call last)",
      "Cell \u001b[1;32mIn[101], line 1\u001b[0m\n\u001b[1;32m----> 1\u001b[0m \u001b[43mmonthly_cpi_df\u001b[49m\u001b[38;5;241;43m.\u001b[39;49m\u001b[43mloc\u001b[49m\u001b[43m[\u001b[49m\u001b[43mmonthly_cpi_df\u001b[49m\u001b[43m[\u001b[49m\u001b[38;5;124;43m'\u001b[39;49m\u001b[38;5;124;43mdate\u001b[39;49m\u001b[38;5;124;43m'\u001b[39;49m\u001b[43m]\u001b[49m\u001b[38;5;241;43m.\u001b[39;49m\u001b[43mdt\u001b[49m\u001b[38;5;241;43m.\u001b[39;49m\u001b[43mto_period\u001b[49m\u001b[43m(\u001b[49m\u001b[38;5;124;43m'\u001b[39;49m\u001b[38;5;124;43mM\u001b[39;49m\u001b[38;5;124;43m'\u001b[39;49m\u001b[43m)\u001b[49m\u001b[43m \u001b[49m\u001b[38;5;241;43m==\u001b[39;49m\u001b[43m \u001b[49m\u001b[43mpd\u001b[49m\u001b[38;5;241;43m.\u001b[39;49m\u001b[43mto_datetime\u001b[49m\u001b[43m(\u001b[49m\u001b[43minput_date\u001b[49m\u001b[43m)\u001b[49m\u001b[38;5;241;43m.\u001b[39;49m\u001b[43mto_period\u001b[49m\u001b[43m(\u001b[49m\u001b[38;5;124;43m'\u001b[39;49m\u001b[38;5;124;43mM\u001b[39;49m\u001b[38;5;124;43m'\u001b[39;49m\u001b[43m)\u001b[49m\u001b[43m,\u001b[49m\u001b[43m \u001b[49m\u001b[38;5;124;43m'\u001b[39;49m\u001b[38;5;124;43mvalue\u001b[39;49m\u001b[38;5;124;43m'\u001b[39;49m\u001b[43m]\u001b[49m\u001b[38;5;241;43m.\u001b[39;49m\u001b[43miloc\u001b[49m\u001b[43m[\u001b[49m\u001b[38;5;241;43m0\u001b[39;49m\u001b[43m]\u001b[49m\n",
      "File \u001b[1;32m~\\anaconda3\\envs\\dev\\lib\\site-packages\\pandas\\core\\indexing.py:1153\u001b[0m, in \u001b[0;36m_LocationIndexer.__getitem__\u001b[1;34m(self, key)\u001b[0m\n\u001b[0;32m   1150\u001b[0m axis \u001b[38;5;241m=\u001b[39m \u001b[38;5;28mself\u001b[39m\u001b[38;5;241m.\u001b[39maxis \u001b[38;5;129;01mor\u001b[39;00m \u001b[38;5;241m0\u001b[39m\n\u001b[0;32m   1152\u001b[0m maybe_callable \u001b[38;5;241m=\u001b[39m com\u001b[38;5;241m.\u001b[39mapply_if_callable(key, \u001b[38;5;28mself\u001b[39m\u001b[38;5;241m.\u001b[39mobj)\n\u001b[1;32m-> 1153\u001b[0m \u001b[38;5;28;01mreturn\u001b[39;00m \u001b[38;5;28;43mself\u001b[39;49m\u001b[38;5;241;43m.\u001b[39;49m\u001b[43m_getitem_axis\u001b[49m\u001b[43m(\u001b[49m\u001b[43mmaybe_callable\u001b[49m\u001b[43m,\u001b[49m\u001b[43m \u001b[49m\u001b[43maxis\u001b[49m\u001b[38;5;241;43m=\u001b[39;49m\u001b[43maxis\u001b[49m\u001b[43m)\u001b[49m\n",
      "File \u001b[1;32m~\\anaconda3\\envs\\dev\\lib\\site-packages\\pandas\\core\\indexing.py:1714\u001b[0m, in \u001b[0;36m_iLocIndexer._getitem_axis\u001b[1;34m(self, key, axis)\u001b[0m\n\u001b[0;32m   1711\u001b[0m     \u001b[38;5;28;01mraise\u001b[39;00m \u001b[38;5;167;01mTypeError\u001b[39;00m(\u001b[38;5;124m\"\u001b[39m\u001b[38;5;124mCannot index by location index with a non-integer key\u001b[39m\u001b[38;5;124m\"\u001b[39m)\n\u001b[0;32m   1713\u001b[0m \u001b[38;5;66;03m# validate the location\u001b[39;00m\n\u001b[1;32m-> 1714\u001b[0m \u001b[38;5;28;43mself\u001b[39;49m\u001b[38;5;241;43m.\u001b[39;49m\u001b[43m_validate_integer\u001b[49m\u001b[43m(\u001b[49m\u001b[43mkey\u001b[49m\u001b[43m,\u001b[49m\u001b[43m \u001b[49m\u001b[43maxis\u001b[49m\u001b[43m)\u001b[49m\n\u001b[0;32m   1716\u001b[0m \u001b[38;5;28;01mreturn\u001b[39;00m \u001b[38;5;28mself\u001b[39m\u001b[38;5;241m.\u001b[39mobj\u001b[38;5;241m.\u001b[39m_ixs(key, axis\u001b[38;5;241m=\u001b[39maxis)\n",
      "File \u001b[1;32m~\\anaconda3\\envs\\dev\\lib\\site-packages\\pandas\\core\\indexing.py:1647\u001b[0m, in \u001b[0;36m_iLocIndexer._validate_integer\u001b[1;34m(self, key, axis)\u001b[0m\n\u001b[0;32m   1645\u001b[0m len_axis \u001b[38;5;241m=\u001b[39m \u001b[38;5;28mlen\u001b[39m(\u001b[38;5;28mself\u001b[39m\u001b[38;5;241m.\u001b[39mobj\u001b[38;5;241m.\u001b[39m_get_axis(axis))\n\u001b[0;32m   1646\u001b[0m \u001b[38;5;28;01mif\u001b[39;00m key \u001b[38;5;241m>\u001b[39m\u001b[38;5;241m=\u001b[39m len_axis \u001b[38;5;129;01mor\u001b[39;00m key \u001b[38;5;241m<\u001b[39m \u001b[38;5;241m-\u001b[39mlen_axis:\n\u001b[1;32m-> 1647\u001b[0m     \u001b[38;5;28;01mraise\u001b[39;00m \u001b[38;5;167;01mIndexError\u001b[39;00m(\u001b[38;5;124m\"\u001b[39m\u001b[38;5;124msingle positional indexer is out-of-bounds\u001b[39m\u001b[38;5;124m\"\u001b[39m)\n",
      "\u001b[1;31mIndexError\u001b[0m: single positional indexer is out-of-bounds"
     ]
    }
   ],
   "source": [
    "monthly_cpi_df.loc[monthly_cpi_df['date'].dt.to_period('M') == pd.to_datetime(input_date).to_period('M'), 'value'].iloc[0]  "
   ]
  },
  {
   "cell_type": "code",
   "execution_count": 104,
   "id": "6f79c01c",
   "metadata": {},
   "outputs": [
    {
     "data": {
      "text/plain": [
       "[{'industry': 'Consumer Discretionary',\n",
       "  'wr1': 0.005184658868499337,\n",
       "  'wr2': -0.017093115708889724,\n",
       "  'wr3': 0.056533940877884416,\n",
       "  'wr4': -0.05501372708795849,\n",
       "  'vol1': 3192200,\n",
       "  'vol2': 3973700,\n",
       "  'vol3': 3718400,\n",
       "  'vol4': 3711300,\n",
       "  'pe_ratio': 28.36,\n",
       "  'debt_to_equity': 0.69,\n",
       "  'quick_ratio': 0.21,\n",
       "  'total_shareholder_return': 3.26,\n",
       "  'profit_margin': 13.44,\n",
       "  'free_cash_margin': 13.55,\n",
       "  'volatility': 0.02113812995791535,\n",
       "  'cpi': 296.276,\n",
       "  'interest_rate': 1.58,\n",
       "  'unemployment_rate': 3.5,\n",
       "  'sma': 93.42333333333335,\n",
       "  'rsi': 56.14678899082585,\n",
       "  'ema': 93.24666666666667,\n",
       "  'label': 0},\n",
       " {'industry': 'Health Care',\n",
       "  'wr1': 0.055094028442556925,\n",
       "  'wr2': -0.0381637825361354,\n",
       "  'wr3': -0.04009939986851761,\n",
       "  'wr4': -0.028963134024753263,\n",
       "  'vol1': 7395317,\n",
       "  'vol2': 8888193,\n",
       "  'vol3': 13994154,\n",
       "  'vol4': 12779102,\n",
       "  'pe_ratio': 25.56,\n",
       "  'debt_to_equity': 0.94,\n",
       "  'quick_ratio': 0.88,\n",
       "  'total_shareholder_return': 6.45,\n",
       "  'profit_margin': 26.95,\n",
       "  'free_cash_margin': 6.85,\n",
       "  'volatility': 0.01605953602258045,\n",
       "  'cpi': 255.548,\n",
       "  'interest_rate': 2.45,\n",
       "  'unemployment_rate': 3.6,\n",
       "  'sma': 73.77746666666667,\n",
       "  'rsi': 100,\n",
       "  'ema': 73.9284375,\n",
       "  'label': 1},\n",
       " {'industry': 'Utilities',\n",
       "  'wr1': -0.032263844464711616,\n",
       "  'wr2': 0.005195996871346565,\n",
       "  'wr3': 0.012885644107706845,\n",
       "  'wr4': -0.0028954527463116685,\n",
       "  'vol1': 2655600,\n",
       "  'vol2': 2221200,\n",
       "  'vol3': 2128500,\n",
       "  'vol4': 3676900,\n",
       "  'pe_ratio': 16.17,\n",
       "  'debt_to_equity': 1.16,\n",
       "  'quick_ratio': 0.33,\n",
       "  'total_shareholder_return': 3.36,\n",
       "  'profit_margin': 13.74,\n",
       "  'free_cash_margin': 3.95,\n",
       "  'volatility': 0.013185415453944355,\n",
       "  'cpi': 238.638,\n",
       "  'interest_rate': 0.13,\n",
       "  'unemployment_rate': 5.3,\n",
       "  'sma': 54.613333333333344,\n",
       "  'rsi': 7.043558850787679,\n",
       "  'ema': 54.65291666666667,\n",
       "  'label': 0},\n",
       " {'industry': 'Real Estate',\n",
       "  'wr1': 0.020088005229975222,\n",
       "  'wr2': 0.05339711117681965,\n",
       "  'wr3': -0.04391487719206626,\n",
       "  'wr4': 0.0017317887342053913,\n",
       "  'vol1': 730200,\n",
       "  'vol2': 915600,\n",
       "  'vol3': 1150700,\n",
       "  'vol4': 1077100,\n",
       "  'pe_ratio': 51.09,\n",
       "  'debt_to_equity': 2.04,\n",
       "  'profit_margin': 17.74,\n",
       "  'free_cash_margin': 22.95,\n",
       "  'volatility': 0.01791999640692364,\n",
       "  'cpi': 260.388,\n",
       "  'interest_rate': 0.09,\n",
       "  'unemployment_rate': 6.9,\n",
       "  'sma': 64.43666666666667,\n",
       "  'rsi': 87.13264495631485,\n",
       "  'ema': 64.57583333333334,\n",
       "  'label': 0},\n",
       " {'industry': 'Finance',\n",
       "  'wr1': 0.022710969223170358,\n",
       "  'wr2': -0.0270961058896152,\n",
       "  'wr3': 0.07542495044287373,\n",
       "  'wr4': -0.02371095428440074,\n",
       "  'vol1': 814950,\n",
       "  'vol2': 1147950,\n",
       "  'vol3': 1247850,\n",
       "  'vol4': 1309050,\n",
       "  'pe_ratio': 11.54,\n",
       "  'debt_to_equity': 0.45,\n",
       "  'profit_margin': 13.44,\n",
       "  'free_cash_margin': -8.51,\n",
       "  'volatility': 0.023882918654715264,\n",
       "  'cpi': 256.571,\n",
       "  'interest_rate': 2.4,\n",
       "  'unemployment_rate': 3.7,\n",
       "  'sma': 57.12,\n",
       "  'rsi': 68.19663850110209,\n",
       "  'ema': 57.028058333333334,\n",
       "  'label': 1},\n",
       " {'industry': 'Industrials',\n",
       "  'wr1': -0.023898536833109135,\n",
       "  'wr2': 0.04700813685260559,\n",
       "  'wr3': -0.021632440354346014,\n",
       "  'wr4': 0.03246975270417656,\n",
       "  'vol1': 1256600,\n",
       "  'vol2': 1463400,\n",
       "  'vol3': 1891200,\n",
       "  'vol4': 1376600,\n",
       "  'pe_ratio': 15.13,\n",
       "  'debt_to_equity': 3.8,\n",
       "  'profit_margin': 6.24,\n",
       "  'free_cash_margin': -24.27,\n",
       "  'volatility': 0.019830385789002033,\n",
       "  'cpi': 255.548,\n",
       "  'interest_rate': 2.44,\n",
       "  'unemployment_rate': 3.6,\n",
       "  'sma': 164.04333333333332,\n",
       "  'rsi': 39.53871499176267,\n",
       "  'ema': 164.80916666666667,\n",
       "  'label': 1},\n",
       " {'industry': 'Consumer Discretionary',\n",
       "  'wr1': -0.10839146728517456,\n",
       "  'wr2': 0.05147053236831282,\n",
       "  'wr3': -0.0029326259316057946,\n",
       "  'wr4': -0.010159628156831297,\n",
       "  'vol1': 7548400,\n",
       "  'vol2': 9012900,\n",
       "  'vol3': 8403600,\n",
       "  'vol4': 17075400,\n",
       "  'pe_ratio': 50.17,\n",
       "  'debt_to_equity': 2.27,\n",
       "  'quick_ratio': 0.65,\n",
       "  'total_shareholder_return': 7.93,\n",
       "  'profit_margin': 0.99,\n",
       "  'free_cash_margin': 6.83,\n",
       "  'volatility': 0.030062656386675653,\n",
       "  'cpi': 256.092,\n",
       "  'interest_rate': 2.4,\n",
       "  'unemployment_rate': 3.7,\n",
       "  'sma': 25.720000000000002,\n",
       "  'rsi': 10.63711911357332,\n",
       "  'ema': 25.83416666666667,\n",
       "  'label': 0},\n",
       " {'industry': 'Finance',\n",
       "  'wr1': 0.008523279972138491,\n",
       "  'wr2': -0.015533929962920405,\n",
       "  'wr3': 0.021391297438471093,\n",
       "  'wr4': 0.03603113093115368,\n",
       "  'vol1': 852200,\n",
       "  'vol2': 647500,\n",
       "  'vol3': 626500,\n",
       "  'vol4': 851900,\n",
       "  'pe_ratio': 11.63,\n",
       "  'debt_to_equity': 0.8,\n",
       "  'profit_margin': 14.46,\n",
       "  'free_cash_margin': 20.34,\n",
       "  'volatility': 0.026249227014331623,\n",
       "  'cpi': 252.439,\n",
       "  'interest_rate': 1.92,\n",
       "  'unemployment_rate': 3.7,\n",
       "  'sma': 142.94666666666663,\n",
       "  'rsi': 56.03053435114481,\n",
       "  'ema': 143.0575,\n",
       "  'label': 0},\n",
       " {'industry': 'Consumer Discretionary',\n",
       "  'wr1': 0.044688324594088114,\n",
       "  'wr2': 0.007702949974573683,\n",
       "  'wr3': 0.058319272746611334,\n",
       "  'wr4': 0.03326136866872978,\n",
       "  'vol1': 1136500,\n",
       "  'vol2': 1522700,\n",
       "  'vol3': 929100,\n",
       "  'vol4': 635300,\n",
       "  'pe_ratio': 25.47,\n",
       "  'debt_to_equity': 0.19,\n",
       "  'quick_ratio': 1.47,\n",
       "  'total_shareholder_return': 5.62,\n",
       "  'profit_margin': 10.21,\n",
       "  'free_cash_margin': 17.05,\n",
       "  'volatility': 0.020851167762398027,\n",
       "  'cpi': 259.101,\n",
       "  'interest_rate': 0.1,\n",
       "  'unemployment_rate': 10.2,\n",
       "  'sma': 52.79333333333333,\n",
       "  'rsi': 82.3702252693437,\n",
       "  'ema': 52.71208333333333,\n",
       "  'label': 0},\n",
       " {'industry': 'Technology',\n",
       "  'wr1': 0.006199672916874751,\n",
       "  'wr2': -0.0024737588570307146,\n",
       "  'wr3': -0.004923100241053743,\n",
       "  'wr4': -0.04747943549055957,\n",
       "  'vol1': 24139200,\n",
       "  'vol2': 9682000,\n",
       "  'vol3': 13329200,\n",
       "  'vol4': 18695100,\n",
       "  'pe_ratio': 24.15,\n",
       "  'debt_to_equity': 0.65,\n",
       "  'quick_ratio': 0.49,\n",
       "  'total_shareholder_return': 3.75,\n",
       "  'profit_margin': 6.42,\n",
       "  'free_cash_margin': -18.75,\n",
       "  'volatility': 0.022295985866482453,\n",
       "  'cpi': 300.84,\n",
       "  'interest_rate': 4.58,\n",
       "  'unemployment_rate': 3.6,\n",
       "  'sma': 16.223333333333333,\n",
       "  'rsi': 57.00000000000015,\n",
       "  'ema': 16.210833333333333,\n",
       "  'label': 0},\n",
       " {'industry': 'Utilities',\n",
       "  'wr1': 0.0014344683573835851,\n",
       "  'wr2': -0.0024217679274564645,\n",
       "  'wr3': 0.007876491851312346,\n",
       "  'wr4': 0.0003333416970781722,\n",
       "  'vol1': 1072400,\n",
       "  'vol2': 1263500,\n",
       "  'vol3': 1463600,\n",
       "  'vol4': 1151100,\n",
       "  'pe_ratio': 16.06,\n",
       "  'debt_to_equity': 1.62,\n",
       "  'quick_ratio': 0.8,\n",
       "  'total_shareholder_return': 4.61,\n",
       "  'profit_margin': 13.35,\n",
       "  'free_cash_margin': 14.42,\n",
       "  'volatility': 0.02315496806652309,\n",
       "  'cpi': 252.146,\n",
       "  'interest_rate': 1.92,\n",
       "  'unemployment_rate': 3.8,\n",
       "  'sma': 90.61,\n",
       "  'rsi': 71.34986225895358,\n",
       "  'ema': 90.67583333333334,\n",
       "  'label': 1},\n",
       " {'industry': 'Consumer Staples',\n",
       "  'wr1': -0.03194521872033034,\n",
       "  'wr2': -0.06331808791631412,\n",
       "  'wr3': 0.0005344906155372802,\n",
       "  'wr4': -0.023797135330213656,\n",
       "  'vol1': 9566900,\n",
       "  'vol2': 30286300,\n",
       "  'vol3': 7369100,\n",
       "  'vol4': 8505100,\n",
       "  'pe_ratio': 30.98,\n",
       "  'debt_to_equity': 0.43,\n",
       "  'quick_ratio': 0.4,\n",
       "  'total_shareholder_return': 4.13,\n",
       "  'profit_margin': 4.04,\n",
       "  'free_cash_margin': 1.24,\n",
       "  'volatility': 0.018322324741914482,\n",
       "  'cpi': 296.808,\n",
       "  'interest_rate': 2.33,\n",
       "  'unemployment_rate': 3.5,\n",
       "  'sma': 34.419999999999995,\n",
       "  'rsi': 4.530011325028356,\n",
       "  'ema': 34.32083333333333,\n",
       "  'label': 1},\n",
       " {'industry': 'Industrials',\n",
       "  'wr1': 0.013052224510848405,\n",
       "  'wr2': -0.02387702279812381,\n",
       "  'wr3': -0.008793331367475973,\n",
       "  'wr4': -0.010185189324287643,\n",
       "  'vol1': 764000,\n",
       "  'vol2': 487800,\n",
       "  'vol3': 232800,\n",
       "  'vol4': 389200,\n",
       "  'pe_ratio': 28.23,\n",
       "  'debt_to_equity': 0.24,\n",
       "  'quick_ratio': 1.37,\n",
       "  'total_shareholder_return': 1.34,\n",
       "  'profit_margin': 7.98,\n",
       "  'free_cash_margin': 0.19,\n",
       "  'volatility': 0.01912116269853948,\n",
       "  'cpi': 244.524,\n",
       "  'interest_rate': 0.91,\n",
       "  'unemployment_rate': 4.4,\n",
       "  'sma': 104.67333333333333,\n",
       "  'rsi': 60.04654771140417,\n",
       "  'ema': 104.73291666666667,\n",
       "  'label': 0},\n",
       " {'industry': 'Industrials',\n",
       "  'wr1': -0.0016750547852843938,\n",
       "  'wr2': 0.0022382622914274577,\n",
       "  'wr3': 0.04046586086100835,\n",
       "  'wr4': -0.041038467602637914,\n",
       "  'vol1': 3526300,\n",
       "  'vol2': 4087100,\n",
       "  'vol3': 3896800,\n",
       "  'vol4': 3009400,\n",
       "  'pe_ratio': 5.36,\n",
       "  'debt_to_equity': 0.29,\n",
       "  'quick_ratio': 0.38,\n",
       "  'total_shareholder_return': 10.8,\n",
       "  'profit_margin': 10.87,\n",
       "  'free_cash_margin': 22.46,\n",
       "  'volatility': 0.02719658621232335,\n",
       "  'cpi': 305.691,\n",
       "  'interest_rate': 5.08,\n",
       "  'unemployment_rate': 3.5,\n",
       "  'sma': 35.893333333333345,\n",
       "  'rsi': 44.78527607361947,\n",
       "  'ema': 35.848749999999995,\n",
       "  'label': 1},\n",
       " {'industry': 'Industrials',\n",
       "  'wr1': 0.007596286178072381,\n",
       "  'wr2': -0.011619530256188502,\n",
       "  'wr3': 0.013038661437339215,\n",
       "  'wr4': 0.005645734653044177,\n",
       "  'vol1': 522000,\n",
       "  'vol2': 959600,\n",
       "  'vol3': 702800,\n",
       "  'vol4': 539600,\n",
       "  'pe_ratio': 18.33,\n",
       "  'debt_to_equity': -221.85,\n",
       "  'quick_ratio': 0.5,\n",
       "  'total_shareholder_return': -0.55,\n",
       "  'profit_margin': 2.2,\n",
       "  'free_cash_margin': -16.98,\n",
       "  'volatility': 0.026472023558285755,\n",
       "  'cpi': 238.638,\n",
       "  'interest_rate': 0.13,\n",
       "  'unemployment_rate': 5.3,\n",
       "  'sma': 55.303333333333335,\n",
       "  'rsi': 67.30091613812542,\n",
       "  'ema': 55.382083333333334,\n",
       "  'label': 0},\n",
       " {'industry': 'Industrials',\n",
       "  'wr1': 0.03846345056399978,\n",
       "  'wr2': 0.035132815229648194,\n",
       "  'wr3': -0.03968364837831104,\n",
       "  'wr4': 0.041648670292809,\n",
       "  'vol1': 234000,\n",
       "  'vol2': 139000,\n",
       "  'vol3': 325400,\n",
       "  'vol4': 277500,\n",
       "  'pe_ratio': 90.56,\n",
       "  'debt_to_equity': -5.37,\n",
       "  'quick_ratio': 3.54,\n",
       "  'total_shareholder_return': 4.7,\n",
       "  'profit_margin': -2.08,\n",
       "  'free_cash_margin': 21.93,\n",
       "  'volatility': 0.02159403188847305,\n",
       "  'cpi': 264.877,\n",
       "  'interest_rate': 0.07,\n",
       "  'unemployment_rate': 6.1,\n",
       "  'sma': 605.5166666666668,\n",
       "  'rsi': 77.85674625208219,\n",
       "  'ema': 608.885,\n",
       "  'label': 0}]"
      ]
     },
     "execution_count": 104,
     "metadata": {},
     "output_type": "execute_result"
    }
   ],
   "source": [
    "list_dict"
   ]
  },
  {
   "cell_type": "markdown",
   "id": "ff5374ca",
   "metadata": {},
   "source": [
    "### Export data into csv"
   ]
  },
  {
   "cell_type": "code",
   "execution_count": 107,
   "id": "a3142db4",
   "metadata": {},
   "outputs": [],
   "source": [
    "# remember to export data as csv\n",
    "data_df = pd.DataFrame(list_dict)\n",
    "data_df.to_csv(f'data{page}.csv', index=False)\n"
   ]
  },
  {
   "cell_type": "code",
   "execution_count": 108,
   "id": "33b61473",
   "metadata": {},
   "outputs": [
    {
     "data": {
      "text/html": [
       "<div>\n",
       "<style scoped>\n",
       "    .dataframe tbody tr th:only-of-type {\n",
       "        vertical-align: middle;\n",
       "    }\n",
       "\n",
       "    .dataframe tbody tr th {\n",
       "        vertical-align: top;\n",
       "    }\n",
       "\n",
       "    .dataframe thead th {\n",
       "        text-align: right;\n",
       "    }\n",
       "</style>\n",
       "<table border=\"1\" class=\"dataframe\">\n",
       "  <thead>\n",
       "    <tr style=\"text-align: right;\">\n",
       "      <th></th>\n",
       "      <th>industry</th>\n",
       "      <th>wr1</th>\n",
       "      <th>wr2</th>\n",
       "      <th>wr3</th>\n",
       "      <th>wr4</th>\n",
       "      <th>vol1</th>\n",
       "      <th>vol2</th>\n",
       "      <th>vol3</th>\n",
       "      <th>vol4</th>\n",
       "      <th>pe_ratio</th>\n",
       "      <th>...</th>\n",
       "      <th>profit_margin</th>\n",
       "      <th>free_cash_margin</th>\n",
       "      <th>volatility</th>\n",
       "      <th>cpi</th>\n",
       "      <th>interest_rate</th>\n",
       "      <th>unemployment_rate</th>\n",
       "      <th>sma</th>\n",
       "      <th>rsi</th>\n",
       "      <th>ema</th>\n",
       "      <th>label</th>\n",
       "    </tr>\n",
       "  </thead>\n",
       "  <tbody>\n",
       "    <tr>\n",
       "      <th>0</th>\n",
       "      <td>Industrials</td>\n",
       "      <td>0.028500</td>\n",
       "      <td>0.010336</td>\n",
       "      <td>-0.009173</td>\n",
       "      <td>-0.006195</td>\n",
       "      <td>1985800</td>\n",
       "      <td>2424900</td>\n",
       "      <td>2077900</td>\n",
       "      <td>2058200</td>\n",
       "      <td>26.87</td>\n",
       "      <td>...</td>\n",
       "      <td>8.69</td>\n",
       "      <td>8.25</td>\n",
       "      <td>0.014264</td>\n",
       "      <td>245.519</td>\n",
       "      <td>1.16</td>\n",
       "      <td>4.4</td>\n",
       "      <td>114.210000</td>\n",
       "      <td>76.349206</td>\n",
       "      <td>114.085000</td>\n",
       "      <td>0</td>\n",
       "    </tr>\n",
       "    <tr>\n",
       "      <th>1</th>\n",
       "      <td>Consumer Discretionary</td>\n",
       "      <td>0.024190</td>\n",
       "      <td>0.021134</td>\n",
       "      <td>0.015025</td>\n",
       "      <td>0.012463</td>\n",
       "      <td>1162200</td>\n",
       "      <td>1016600</td>\n",
       "      <td>1702200</td>\n",
       "      <td>840000</td>\n",
       "      <td>25.07</td>\n",
       "      <td>...</td>\n",
       "      <td>11.57</td>\n",
       "      <td>66.31</td>\n",
       "      <td>0.020739</td>\n",
       "      <td>237.945</td>\n",
       "      <td>0.14</td>\n",
       "      <td>5.0</td>\n",
       "      <td>58.263333</td>\n",
       "      <td>82.222222</td>\n",
       "      <td>58.235833</td>\n",
       "      <td>0</td>\n",
       "    </tr>\n",
       "    <tr>\n",
       "      <th>2</th>\n",
       "      <td>Real Estate</td>\n",
       "      <td>0.008714</td>\n",
       "      <td>0.037955</td>\n",
       "      <td>-0.021339</td>\n",
       "      <td>0.007361</td>\n",
       "      <td>1779800</td>\n",
       "      <td>1222500</td>\n",
       "      <td>983000</td>\n",
       "      <td>1696800</td>\n",
       "      <td>129.61</td>\n",
       "      <td>...</td>\n",
       "      <td>6.18</td>\n",
       "      <td>-9.44</td>\n",
       "      <td>0.020941</td>\n",
       "      <td>257.346</td>\n",
       "      <td>1.83</td>\n",
       "      <td>3.6</td>\n",
       "      <td>128.790000</td>\n",
       "      <td>66.889341</td>\n",
       "      <td>129.005417</td>\n",
       "      <td>1</td>\n",
       "    </tr>\n",
       "    <tr>\n",
       "      <th>3</th>\n",
       "      <td>Industrials</td>\n",
       "      <td>0.013126</td>\n",
       "      <td>-0.010502</td>\n",
       "      <td>0.048885</td>\n",
       "      <td>-0.046429</td>\n",
       "      <td>307700</td>\n",
       "      <td>504600</td>\n",
       "      <td>921500</td>\n",
       "      <td>695900</td>\n",
       "      <td>5.94</td>\n",
       "      <td>...</td>\n",
       "      <td>22.33</td>\n",
       "      <td>23.30</td>\n",
       "      <td>0.025233</td>\n",
       "      <td>278.802</td>\n",
       "      <td>0.08</td>\n",
       "      <td>3.9</td>\n",
       "      <td>159.776667</td>\n",
       "      <td>65.581395</td>\n",
       "      <td>160.000000</td>\n",
       "      <td>1</td>\n",
       "    </tr>\n",
       "    <tr>\n",
       "      <th>4</th>\n",
       "      <td>Consumer Discretionary</td>\n",
       "      <td>-0.034466</td>\n",
       "      <td>-0.034474</td>\n",
       "      <td>0.014081</td>\n",
       "      <td>0.008323</td>\n",
       "      <td>777000</td>\n",
       "      <td>479900</td>\n",
       "      <td>1041100</td>\n",
       "      <td>382500</td>\n",
       "      <td>37.84</td>\n",
       "      <td>...</td>\n",
       "      <td>3.51</td>\n",
       "      <td>-9.33</td>\n",
       "      <td>0.024751</td>\n",
       "      <td>240.229</td>\n",
       "      <td>0.37</td>\n",
       "      <td>4.8</td>\n",
       "      <td>38.670000</td>\n",
       "      <td>41.688244</td>\n",
       "      <td>38.822500</td>\n",
       "      <td>0</td>\n",
       "    </tr>\n",
       "    <tr>\n",
       "      <th>...</th>\n",
       "      <td>...</td>\n",
       "      <td>...</td>\n",
       "      <td>...</td>\n",
       "      <td>...</td>\n",
       "      <td>...</td>\n",
       "      <td>...</td>\n",
       "      <td>...</td>\n",
       "      <td>...</td>\n",
       "      <td>...</td>\n",
       "      <td>...</td>\n",
       "      <td>...</td>\n",
       "      <td>...</td>\n",
       "      <td>...</td>\n",
       "      <td>...</td>\n",
       "      <td>...</td>\n",
       "      <td>...</td>\n",
       "      <td>...</td>\n",
       "      <td>...</td>\n",
       "      <td>...</td>\n",
       "      <td>...</td>\n",
       "      <td>...</td>\n",
       "    </tr>\n",
       "    <tr>\n",
       "      <th>78</th>\n",
       "      <td>Technology</td>\n",
       "      <td>-0.029184</td>\n",
       "      <td>-0.029167</td>\n",
       "      <td>-0.004149</td>\n",
       "      <td>-0.070216</td>\n",
       "      <td>1172900</td>\n",
       "      <td>806200</td>\n",
       "      <td>747400</td>\n",
       "      <td>579200</td>\n",
       "      <td>-9.85</td>\n",
       "      <td>...</td>\n",
       "      <td>-40.02</td>\n",
       "      <td>-33.41</td>\n",
       "      <td>0.032467</td>\n",
       "      <td>242.839</td>\n",
       "      <td>0.55</td>\n",
       "      <td>4.7</td>\n",
       "      <td>11.363333</td>\n",
       "      <td>9.523810</td>\n",
       "      <td>11.393333</td>\n",
       "      <td>0</td>\n",
       "    </tr>\n",
       "    <tr>\n",
       "      <th>79</th>\n",
       "      <td>Technology</td>\n",
       "      <td>-0.028559</td>\n",
       "      <td>0.019100</td>\n",
       "      <td>0.021207</td>\n",
       "      <td>0.041432</td>\n",
       "      <td>1113900</td>\n",
       "      <td>1753700</td>\n",
       "      <td>1598300</td>\n",
       "      <td>659800</td>\n",
       "      <td>-24.58</td>\n",
       "      <td>...</td>\n",
       "      <td>-50.77</td>\n",
       "      <td>15.77</td>\n",
       "      <td>0.028907</td>\n",
       "      <td>244.733</td>\n",
       "      <td>0.91</td>\n",
       "      <td>4.4</td>\n",
       "      <td>66.773333</td>\n",
       "      <td>21.241288</td>\n",
       "      <td>66.258333</td>\n",
       "      <td>1</td>\n",
       "    </tr>\n",
       "    <tr>\n",
       "      <th>80</th>\n",
       "      <td>Technology</td>\n",
       "      <td>-0.042352</td>\n",
       "      <td>-0.113213</td>\n",
       "      <td>0.019138</td>\n",
       "      <td>0.048519</td>\n",
       "      <td>2413100</td>\n",
       "      <td>3346900</td>\n",
       "      <td>4357000</td>\n",
       "      <td>3315300</td>\n",
       "      <td>12.42</td>\n",
       "      <td>...</td>\n",
       "      <td>18.04</td>\n",
       "      <td>24.97</td>\n",
       "      <td>0.037238</td>\n",
       "      <td>237.945</td>\n",
       "      <td>0.13</td>\n",
       "      <td>5.0</td>\n",
       "      <td>62.570000</td>\n",
       "      <td>35.148692</td>\n",
       "      <td>62.787500</td>\n",
       "      <td>1</td>\n",
       "    </tr>\n",
       "    <tr>\n",
       "      <th>81</th>\n",
       "      <td>Technology</td>\n",
       "      <td>-0.017363</td>\n",
       "      <td>-0.128363</td>\n",
       "      <td>0.069544</td>\n",
       "      <td>-0.023991</td>\n",
       "      <td>23731800</td>\n",
       "      <td>21071200</td>\n",
       "      <td>14296800</td>\n",
       "      <td>16199800</td>\n",
       "      <td>6.20</td>\n",
       "      <td>...</td>\n",
       "      <td>13.08</td>\n",
       "      <td>-20.42</td>\n",
       "      <td>0.040100</td>\n",
       "      <td>237.336</td>\n",
       "      <td>0.13</td>\n",
       "      <td>5.1</td>\n",
       "      <td>15.056667</td>\n",
       "      <td>55.275591</td>\n",
       "      <td>15.170625</td>\n",
       "      <td>1</td>\n",
       "    </tr>\n",
       "    <tr>\n",
       "      <th>82</th>\n",
       "      <td>Utilities</td>\n",
       "      <td>-0.039967</td>\n",
       "      <td>0.003319</td>\n",
       "      <td>0.013737</td>\n",
       "      <td>0.034513</td>\n",
       "      <td>1950200</td>\n",
       "      <td>2499900</td>\n",
       "      <td>1682700</td>\n",
       "      <td>4600700</td>\n",
       "      <td>27.82</td>\n",
       "      <td>...</td>\n",
       "      <td>3.60</td>\n",
       "      <td>0.45</td>\n",
       "      <td>0.018986</td>\n",
       "      <td>237.945</td>\n",
       "      <td>0.14</td>\n",
       "      <td>5.0</td>\n",
       "      <td>35.623333</td>\n",
       "      <td>20.616366</td>\n",
       "      <td>35.357500</td>\n",
       "      <td>1</td>\n",
       "    </tr>\n",
       "  </tbody>\n",
       "</table>\n",
       "<p>83 rows × 23 columns</p>\n",
       "</div>"
      ],
      "text/plain": [
       "                  industry       wr1       wr2       wr3       wr4      vol1  \\\n",
       "0              Industrials  0.028500  0.010336 -0.009173 -0.006195   1985800   \n",
       "1   Consumer Discretionary  0.024190  0.021134  0.015025  0.012463   1162200   \n",
       "2              Real Estate  0.008714  0.037955 -0.021339  0.007361   1779800   \n",
       "3              Industrials  0.013126 -0.010502  0.048885 -0.046429    307700   \n",
       "4   Consumer Discretionary -0.034466 -0.034474  0.014081  0.008323    777000   \n",
       "..                     ...       ...       ...       ...       ...       ...   \n",
       "78              Technology -0.029184 -0.029167 -0.004149 -0.070216   1172900   \n",
       "79              Technology -0.028559  0.019100  0.021207  0.041432   1113900   \n",
       "80              Technology -0.042352 -0.113213  0.019138  0.048519   2413100   \n",
       "81              Technology -0.017363 -0.128363  0.069544 -0.023991  23731800   \n",
       "82               Utilities -0.039967  0.003319  0.013737  0.034513   1950200   \n",
       "\n",
       "        vol2      vol3      vol4  pe_ratio  ...  profit_margin  \\\n",
       "0    2424900   2077900   2058200     26.87  ...           8.69   \n",
       "1    1016600   1702200    840000     25.07  ...          11.57   \n",
       "2    1222500    983000   1696800    129.61  ...           6.18   \n",
       "3     504600    921500    695900      5.94  ...          22.33   \n",
       "4     479900   1041100    382500     37.84  ...           3.51   \n",
       "..       ...       ...       ...       ...  ...            ...   \n",
       "78    806200    747400    579200     -9.85  ...         -40.02   \n",
       "79   1753700   1598300    659800    -24.58  ...         -50.77   \n",
       "80   3346900   4357000   3315300     12.42  ...          18.04   \n",
       "81  21071200  14296800  16199800      6.20  ...          13.08   \n",
       "82   2499900   1682700   4600700     27.82  ...           3.60   \n",
       "\n",
       "    free_cash_margin  volatility      cpi  interest_rate  unemployment_rate  \\\n",
       "0               8.25    0.014264  245.519           1.16                4.4   \n",
       "1              66.31    0.020739  237.945           0.14                5.0   \n",
       "2              -9.44    0.020941  257.346           1.83                3.6   \n",
       "3              23.30    0.025233  278.802           0.08                3.9   \n",
       "4              -9.33    0.024751  240.229           0.37                4.8   \n",
       "..               ...         ...      ...            ...                ...   \n",
       "78            -33.41    0.032467  242.839           0.55                4.7   \n",
       "79             15.77    0.028907  244.733           0.91                4.4   \n",
       "80             24.97    0.037238  237.945           0.13                5.0   \n",
       "81            -20.42    0.040100  237.336           0.13                5.1   \n",
       "82              0.45    0.018986  237.945           0.14                5.0   \n",
       "\n",
       "           sma        rsi         ema  label  \n",
       "0   114.210000  76.349206  114.085000      0  \n",
       "1    58.263333  82.222222   58.235833      0  \n",
       "2   128.790000  66.889341  129.005417      1  \n",
       "3   159.776667  65.581395  160.000000      1  \n",
       "4    38.670000  41.688244   38.822500      0  \n",
       "..         ...        ...         ...    ...  \n",
       "78   11.363333   9.523810   11.393333      0  \n",
       "79   66.773333  21.241288   66.258333      1  \n",
       "80   62.570000  35.148692   62.787500      1  \n",
       "81   15.056667  55.275591   15.170625      1  \n",
       "82   35.623333  20.616366   35.357500      1  \n",
       "\n",
       "[83 rows x 23 columns]"
      ]
     },
     "execution_count": 108,
     "metadata": {},
     "output_type": "execute_result"
    }
   ],
   "source": [
    "data_df"
   ]
  },
  {
   "cell_type": "code",
   "execution_count": 21,
   "id": "4aa8bc20",
   "metadata": {},
   "outputs": [],
   "source": [
    "page = 1"
   ]
  },
  {
   "cell_type": "code",
   "execution_count": 95,
   "id": "e5be300e",
   "metadata": {},
   "outputs": [
    {
     "name": "stdout",
     "output_type": "stream",
     "text": [
      "psa 2018-03-14 00:00:00\n"
     ]
    }
   ],
   "source": [
    "print(ticker, input_date)"
   ]
  },
  {
   "cell_type": "code",
   "execution_count": null,
   "id": "4c092c35",
   "metadata": {},
   "outputs": [],
   "source": []
  }
 ],
 "metadata": {
  "kernelspec": {
   "display_name": "Python 3 (ipykernel)",
   "language": "python",
   "name": "python3"
  },
  "language_info": {
   "codemirror_mode": {
    "name": "ipython",
    "version": 3
   },
   "file_extension": ".py",
   "mimetype": "text/x-python",
   "name": "python",
   "nbconvert_exporter": "python",
   "pygments_lexer": "ipython3",
   "version": "3.10.11"
  }
 },
 "nbformat": 4,
 "nbformat_minor": 5
}
